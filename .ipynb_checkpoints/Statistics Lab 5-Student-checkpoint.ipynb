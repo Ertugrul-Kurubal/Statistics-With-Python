{
 "cells": [
  {
   "cell_type": "markdown",
   "metadata": {},
   "source": [
    "# Chi-Square Goodness-of-Fit Test"
   ]
  },
  {
   "cell_type": "markdown",
   "metadata": {},
   "source": [
    "A website owner, Christopher, wants to offer a free gift to people that purchase a subscription to his website. New subscribers can choose one of three gifts of equal value: a gift voucher, a cuddly toy or free cinema tickets. After 900 people have signed up, Christopher wants to review the figures to see if the three gifts offered were equally popular."
   ]
  },
  {
   "cell_type": "code",
   "execution_count": 1,
   "metadata": {},
   "outputs": [],
   "source": [
    "from scipy import stats\n",
    "import numpy as np\n",
    "import pandas as pd\n",
    "import seaborn as sns\n",
    "import itertools"
   ]
  },
  {
   "cell_type": "markdown",
   "metadata": {},
   "source": [
    "Create a numpy array"
   ]
  },
  {
   "cell_type": "code",
   "execution_count": 2,
   "metadata": {},
   "outputs": [],
   "source": [
    "e = [\"Gift Certificate\",\"Cuddly Toy\", \"Cinema tickets\"]\n",
    "n = [315, 265, 320]"
   ]
  },
  {
   "cell_type": "code",
   "execution_count": 3,
   "metadata": {},
   "outputs": [
    {
     "data": {
      "text/plain": [
       "['Gift Certificate',\n",
       " 'Gift Certificate',\n",
       " 'Gift Certificate',\n",
       " 'Gift Certificate',\n",
       " 'Gift Certificate',\n",
       " 'Gift Certificate',\n",
       " 'Gift Certificate',\n",
       " 'Gift Certificate',\n",
       " 'Gift Certificate',\n",
       " 'Gift Certificate',\n",
       " 'Gift Certificate',\n",
       " 'Gift Certificate',\n",
       " 'Gift Certificate',\n",
       " 'Gift Certificate',\n",
       " 'Gift Certificate',\n",
       " 'Gift Certificate',\n",
       " 'Gift Certificate',\n",
       " 'Gift Certificate',\n",
       " 'Gift Certificate',\n",
       " 'Gift Certificate',\n",
       " 'Gift Certificate',\n",
       " 'Gift Certificate',\n",
       " 'Gift Certificate',\n",
       " 'Gift Certificate',\n",
       " 'Gift Certificate',\n",
       " 'Gift Certificate',\n",
       " 'Gift Certificate',\n",
       " 'Gift Certificate',\n",
       " 'Gift Certificate',\n",
       " 'Gift Certificate',\n",
       " 'Gift Certificate',\n",
       " 'Gift Certificate',\n",
       " 'Gift Certificate',\n",
       " 'Gift Certificate',\n",
       " 'Gift Certificate',\n",
       " 'Gift Certificate',\n",
       " 'Gift Certificate',\n",
       " 'Gift Certificate',\n",
       " 'Gift Certificate',\n",
       " 'Gift Certificate',\n",
       " 'Gift Certificate',\n",
       " 'Gift Certificate',\n",
       " 'Gift Certificate',\n",
       " 'Gift Certificate',\n",
       " 'Gift Certificate',\n",
       " 'Gift Certificate',\n",
       " 'Gift Certificate',\n",
       " 'Gift Certificate',\n",
       " 'Gift Certificate',\n",
       " 'Gift Certificate',\n",
       " 'Gift Certificate',\n",
       " 'Gift Certificate',\n",
       " 'Gift Certificate',\n",
       " 'Gift Certificate',\n",
       " 'Gift Certificate',\n",
       " 'Gift Certificate',\n",
       " 'Gift Certificate',\n",
       " 'Gift Certificate',\n",
       " 'Gift Certificate',\n",
       " 'Gift Certificate',\n",
       " 'Gift Certificate',\n",
       " 'Gift Certificate',\n",
       " 'Gift Certificate',\n",
       " 'Gift Certificate',\n",
       " 'Gift Certificate',\n",
       " 'Gift Certificate',\n",
       " 'Gift Certificate',\n",
       " 'Gift Certificate',\n",
       " 'Gift Certificate',\n",
       " 'Gift Certificate',\n",
       " 'Gift Certificate',\n",
       " 'Gift Certificate',\n",
       " 'Gift Certificate',\n",
       " 'Gift Certificate',\n",
       " 'Gift Certificate',\n",
       " 'Gift Certificate',\n",
       " 'Gift Certificate',\n",
       " 'Gift Certificate',\n",
       " 'Gift Certificate',\n",
       " 'Gift Certificate',\n",
       " 'Gift Certificate',\n",
       " 'Gift Certificate',\n",
       " 'Gift Certificate',\n",
       " 'Gift Certificate',\n",
       " 'Gift Certificate',\n",
       " 'Gift Certificate',\n",
       " 'Gift Certificate',\n",
       " 'Gift Certificate',\n",
       " 'Gift Certificate',\n",
       " 'Gift Certificate',\n",
       " 'Gift Certificate',\n",
       " 'Gift Certificate',\n",
       " 'Gift Certificate',\n",
       " 'Gift Certificate',\n",
       " 'Gift Certificate',\n",
       " 'Gift Certificate',\n",
       " 'Gift Certificate',\n",
       " 'Gift Certificate',\n",
       " 'Gift Certificate',\n",
       " 'Gift Certificate',\n",
       " 'Gift Certificate',\n",
       " 'Gift Certificate',\n",
       " 'Gift Certificate',\n",
       " 'Gift Certificate',\n",
       " 'Gift Certificate',\n",
       " 'Gift Certificate',\n",
       " 'Gift Certificate',\n",
       " 'Gift Certificate',\n",
       " 'Gift Certificate',\n",
       " 'Gift Certificate',\n",
       " 'Gift Certificate',\n",
       " 'Gift Certificate',\n",
       " 'Gift Certificate',\n",
       " 'Gift Certificate',\n",
       " 'Gift Certificate',\n",
       " 'Gift Certificate',\n",
       " 'Gift Certificate',\n",
       " 'Gift Certificate',\n",
       " 'Gift Certificate',\n",
       " 'Gift Certificate',\n",
       " 'Gift Certificate',\n",
       " 'Gift Certificate',\n",
       " 'Gift Certificate',\n",
       " 'Gift Certificate',\n",
       " 'Gift Certificate',\n",
       " 'Gift Certificate',\n",
       " 'Gift Certificate',\n",
       " 'Gift Certificate',\n",
       " 'Gift Certificate',\n",
       " 'Gift Certificate',\n",
       " 'Gift Certificate',\n",
       " 'Gift Certificate',\n",
       " 'Gift Certificate',\n",
       " 'Gift Certificate',\n",
       " 'Gift Certificate',\n",
       " 'Gift Certificate',\n",
       " 'Gift Certificate',\n",
       " 'Gift Certificate',\n",
       " 'Gift Certificate',\n",
       " 'Gift Certificate',\n",
       " 'Gift Certificate',\n",
       " 'Gift Certificate',\n",
       " 'Gift Certificate',\n",
       " 'Gift Certificate',\n",
       " 'Gift Certificate',\n",
       " 'Gift Certificate',\n",
       " 'Gift Certificate',\n",
       " 'Gift Certificate',\n",
       " 'Gift Certificate',\n",
       " 'Gift Certificate',\n",
       " 'Gift Certificate',\n",
       " 'Gift Certificate',\n",
       " 'Gift Certificate',\n",
       " 'Gift Certificate',\n",
       " 'Gift Certificate',\n",
       " 'Gift Certificate',\n",
       " 'Gift Certificate',\n",
       " 'Gift Certificate',\n",
       " 'Gift Certificate',\n",
       " 'Gift Certificate',\n",
       " 'Gift Certificate',\n",
       " 'Gift Certificate',\n",
       " 'Gift Certificate',\n",
       " 'Gift Certificate',\n",
       " 'Gift Certificate',\n",
       " 'Gift Certificate',\n",
       " 'Gift Certificate',\n",
       " 'Gift Certificate',\n",
       " 'Gift Certificate',\n",
       " 'Gift Certificate',\n",
       " 'Gift Certificate',\n",
       " 'Gift Certificate',\n",
       " 'Gift Certificate',\n",
       " 'Gift Certificate',\n",
       " 'Gift Certificate',\n",
       " 'Gift Certificate',\n",
       " 'Gift Certificate',\n",
       " 'Gift Certificate',\n",
       " 'Gift Certificate',\n",
       " 'Gift Certificate',\n",
       " 'Gift Certificate',\n",
       " 'Gift Certificate',\n",
       " 'Gift Certificate',\n",
       " 'Gift Certificate',\n",
       " 'Gift Certificate',\n",
       " 'Gift Certificate',\n",
       " 'Gift Certificate',\n",
       " 'Gift Certificate',\n",
       " 'Gift Certificate',\n",
       " 'Gift Certificate',\n",
       " 'Gift Certificate',\n",
       " 'Gift Certificate',\n",
       " 'Gift Certificate',\n",
       " 'Gift Certificate',\n",
       " 'Gift Certificate',\n",
       " 'Gift Certificate',\n",
       " 'Gift Certificate',\n",
       " 'Gift Certificate',\n",
       " 'Gift Certificate',\n",
       " 'Gift Certificate',\n",
       " 'Gift Certificate',\n",
       " 'Gift Certificate',\n",
       " 'Gift Certificate',\n",
       " 'Gift Certificate',\n",
       " 'Gift Certificate',\n",
       " 'Gift Certificate',\n",
       " 'Gift Certificate',\n",
       " 'Gift Certificate',\n",
       " 'Gift Certificate',\n",
       " 'Gift Certificate',\n",
       " 'Gift Certificate',\n",
       " 'Gift Certificate',\n",
       " 'Gift Certificate',\n",
       " 'Gift Certificate',\n",
       " 'Gift Certificate',\n",
       " 'Gift Certificate',\n",
       " 'Gift Certificate',\n",
       " 'Gift Certificate',\n",
       " 'Gift Certificate',\n",
       " 'Gift Certificate',\n",
       " 'Gift Certificate',\n",
       " 'Gift Certificate',\n",
       " 'Gift Certificate',\n",
       " 'Gift Certificate',\n",
       " 'Gift Certificate',\n",
       " 'Gift Certificate',\n",
       " 'Gift Certificate',\n",
       " 'Gift Certificate',\n",
       " 'Gift Certificate',\n",
       " 'Gift Certificate',\n",
       " 'Gift Certificate',\n",
       " 'Gift Certificate',\n",
       " 'Gift Certificate',\n",
       " 'Gift Certificate',\n",
       " 'Gift Certificate',\n",
       " 'Gift Certificate',\n",
       " 'Gift Certificate',\n",
       " 'Gift Certificate',\n",
       " 'Gift Certificate',\n",
       " 'Gift Certificate',\n",
       " 'Gift Certificate',\n",
       " 'Gift Certificate',\n",
       " 'Gift Certificate',\n",
       " 'Gift Certificate',\n",
       " 'Gift Certificate',\n",
       " 'Gift Certificate',\n",
       " 'Gift Certificate',\n",
       " 'Gift Certificate',\n",
       " 'Gift Certificate',\n",
       " 'Gift Certificate',\n",
       " 'Gift Certificate',\n",
       " 'Gift Certificate',\n",
       " 'Gift Certificate',\n",
       " 'Gift Certificate',\n",
       " 'Gift Certificate',\n",
       " 'Gift Certificate',\n",
       " 'Gift Certificate',\n",
       " 'Gift Certificate',\n",
       " 'Gift Certificate',\n",
       " 'Gift Certificate',\n",
       " 'Gift Certificate',\n",
       " 'Gift Certificate',\n",
       " 'Gift Certificate',\n",
       " 'Gift Certificate',\n",
       " 'Gift Certificate',\n",
       " 'Gift Certificate',\n",
       " 'Gift Certificate',\n",
       " 'Gift Certificate',\n",
       " 'Gift Certificate',\n",
       " 'Gift Certificate',\n",
       " 'Gift Certificate',\n",
       " 'Gift Certificate',\n",
       " 'Gift Certificate',\n",
       " 'Gift Certificate',\n",
       " 'Gift Certificate',\n",
       " 'Gift Certificate',\n",
       " 'Gift Certificate',\n",
       " 'Gift Certificate',\n",
       " 'Gift Certificate',\n",
       " 'Gift Certificate',\n",
       " 'Gift Certificate',\n",
       " 'Gift Certificate',\n",
       " 'Gift Certificate',\n",
       " 'Gift Certificate',\n",
       " 'Gift Certificate',\n",
       " 'Gift Certificate',\n",
       " 'Gift Certificate',\n",
       " 'Gift Certificate',\n",
       " 'Gift Certificate',\n",
       " 'Gift Certificate',\n",
       " 'Gift Certificate',\n",
       " 'Gift Certificate',\n",
       " 'Gift Certificate',\n",
       " 'Gift Certificate',\n",
       " 'Gift Certificate',\n",
       " 'Gift Certificate',\n",
       " 'Gift Certificate',\n",
       " 'Gift Certificate',\n",
       " 'Gift Certificate',\n",
       " 'Gift Certificate',\n",
       " 'Gift Certificate',\n",
       " 'Gift Certificate',\n",
       " 'Gift Certificate',\n",
       " 'Gift Certificate',\n",
       " 'Gift Certificate',\n",
       " 'Gift Certificate',\n",
       " 'Gift Certificate',\n",
       " 'Gift Certificate',\n",
       " 'Gift Certificate',\n",
       " 'Gift Certificate',\n",
       " 'Gift Certificate',\n",
       " 'Gift Certificate',\n",
       " 'Gift Certificate',\n",
       " 'Gift Certificate',\n",
       " 'Gift Certificate']"
      ]
     },
     "execution_count": 3,
     "metadata": {},
     "output_type": "execute_result"
    }
   ],
   "source": [
    "list(itertools.repeat(e[0], n[0])) # repeat e[0]=\"Gift Certificate\" until n[0]=315 "
   ]
  },
  {
   "cell_type": "code",
   "execution_count": 4,
   "metadata": {},
   "outputs": [],
   "source": [
    "it1 = np.array(list(itertools.repeat(e[0], n[0])))\n",
    "it2 = np.array(list(itertools.repeat(e[1], n[1])))\n",
    "it3 = np.array(list(itertools.repeat(e[2], n[2])))"
   ]
  },
  {
   "cell_type": "code",
   "execution_count": 5,
   "metadata": {},
   "outputs": [
    {
     "data": {
      "text/plain": [
       "array(['Gift Certificate', 'Gift Certificate', 'Gift Certificate',\n",
       "       'Gift Certificate', 'Gift Certificate', 'Gift Certificate',\n",
       "       'Gift Certificate', 'Gift Certificate', 'Gift Certificate',\n",
       "       'Gift Certificate', 'Gift Certificate', 'Gift Certificate',\n",
       "       'Gift Certificate', 'Gift Certificate', 'Gift Certificate',\n",
       "       'Gift Certificate', 'Gift Certificate', 'Gift Certificate',\n",
       "       'Gift Certificate', 'Gift Certificate', 'Gift Certificate',\n",
       "       'Gift Certificate', 'Gift Certificate', 'Gift Certificate',\n",
       "       'Gift Certificate', 'Gift Certificate', 'Gift Certificate',\n",
       "       'Gift Certificate', 'Gift Certificate', 'Gift Certificate',\n",
       "       'Gift Certificate', 'Gift Certificate', 'Gift Certificate',\n",
       "       'Gift Certificate', 'Gift Certificate', 'Gift Certificate',\n",
       "       'Gift Certificate', 'Gift Certificate', 'Gift Certificate',\n",
       "       'Gift Certificate', 'Gift Certificate', 'Gift Certificate',\n",
       "       'Gift Certificate', 'Gift Certificate', 'Gift Certificate',\n",
       "       'Gift Certificate', 'Gift Certificate', 'Gift Certificate',\n",
       "       'Gift Certificate', 'Gift Certificate', 'Gift Certificate',\n",
       "       'Gift Certificate', 'Gift Certificate', 'Gift Certificate',\n",
       "       'Gift Certificate', 'Gift Certificate', 'Gift Certificate',\n",
       "       'Gift Certificate', 'Gift Certificate', 'Gift Certificate',\n",
       "       'Gift Certificate', 'Gift Certificate', 'Gift Certificate',\n",
       "       'Gift Certificate', 'Gift Certificate', 'Gift Certificate',\n",
       "       'Gift Certificate', 'Gift Certificate', 'Gift Certificate',\n",
       "       'Gift Certificate', 'Gift Certificate', 'Gift Certificate',\n",
       "       'Gift Certificate', 'Gift Certificate', 'Gift Certificate',\n",
       "       'Gift Certificate', 'Gift Certificate', 'Gift Certificate',\n",
       "       'Gift Certificate', 'Gift Certificate', 'Gift Certificate',\n",
       "       'Gift Certificate', 'Gift Certificate', 'Gift Certificate',\n",
       "       'Gift Certificate', 'Gift Certificate', 'Gift Certificate',\n",
       "       'Gift Certificate', 'Gift Certificate', 'Gift Certificate',\n",
       "       'Gift Certificate', 'Gift Certificate', 'Gift Certificate',\n",
       "       'Gift Certificate', 'Gift Certificate', 'Gift Certificate',\n",
       "       'Gift Certificate', 'Gift Certificate', 'Gift Certificate',\n",
       "       'Gift Certificate', 'Gift Certificate', 'Gift Certificate',\n",
       "       'Gift Certificate', 'Gift Certificate', 'Gift Certificate',\n",
       "       'Gift Certificate', 'Gift Certificate', 'Gift Certificate',\n",
       "       'Gift Certificate', 'Gift Certificate', 'Gift Certificate',\n",
       "       'Gift Certificate', 'Gift Certificate', 'Gift Certificate',\n",
       "       'Gift Certificate', 'Gift Certificate', 'Gift Certificate',\n",
       "       'Gift Certificate', 'Gift Certificate', 'Gift Certificate',\n",
       "       'Gift Certificate', 'Gift Certificate', 'Gift Certificate',\n",
       "       'Gift Certificate', 'Gift Certificate', 'Gift Certificate',\n",
       "       'Gift Certificate', 'Gift Certificate', 'Gift Certificate',\n",
       "       'Gift Certificate', 'Gift Certificate', 'Gift Certificate',\n",
       "       'Gift Certificate', 'Gift Certificate', 'Gift Certificate',\n",
       "       'Gift Certificate', 'Gift Certificate', 'Gift Certificate',\n",
       "       'Gift Certificate', 'Gift Certificate', 'Gift Certificate',\n",
       "       'Gift Certificate', 'Gift Certificate', 'Gift Certificate',\n",
       "       'Gift Certificate', 'Gift Certificate', 'Gift Certificate',\n",
       "       'Gift Certificate', 'Gift Certificate', 'Gift Certificate',\n",
       "       'Gift Certificate', 'Gift Certificate', 'Gift Certificate',\n",
       "       'Gift Certificate', 'Gift Certificate', 'Gift Certificate',\n",
       "       'Gift Certificate', 'Gift Certificate', 'Gift Certificate',\n",
       "       'Gift Certificate', 'Gift Certificate', 'Gift Certificate',\n",
       "       'Gift Certificate', 'Gift Certificate', 'Gift Certificate',\n",
       "       'Gift Certificate', 'Gift Certificate', 'Gift Certificate',\n",
       "       'Gift Certificate', 'Gift Certificate', 'Gift Certificate',\n",
       "       'Gift Certificate', 'Gift Certificate', 'Gift Certificate',\n",
       "       'Gift Certificate', 'Gift Certificate', 'Gift Certificate',\n",
       "       'Gift Certificate', 'Gift Certificate', 'Gift Certificate',\n",
       "       'Gift Certificate', 'Gift Certificate', 'Gift Certificate',\n",
       "       'Gift Certificate', 'Gift Certificate', 'Gift Certificate',\n",
       "       'Gift Certificate', 'Gift Certificate', 'Gift Certificate',\n",
       "       'Gift Certificate', 'Gift Certificate', 'Gift Certificate',\n",
       "       'Gift Certificate', 'Gift Certificate', 'Gift Certificate',\n",
       "       'Gift Certificate', 'Gift Certificate', 'Gift Certificate',\n",
       "       'Gift Certificate', 'Gift Certificate', 'Gift Certificate',\n",
       "       'Gift Certificate', 'Gift Certificate', 'Gift Certificate',\n",
       "       'Gift Certificate', 'Gift Certificate', 'Gift Certificate',\n",
       "       'Gift Certificate', 'Gift Certificate', 'Gift Certificate',\n",
       "       'Gift Certificate', 'Gift Certificate', 'Gift Certificate',\n",
       "       'Gift Certificate', 'Gift Certificate', 'Gift Certificate',\n",
       "       'Gift Certificate', 'Gift Certificate', 'Gift Certificate',\n",
       "       'Gift Certificate', 'Gift Certificate', 'Gift Certificate',\n",
       "       'Gift Certificate', 'Gift Certificate', 'Gift Certificate',\n",
       "       'Gift Certificate', 'Gift Certificate', 'Gift Certificate',\n",
       "       'Gift Certificate', 'Gift Certificate', 'Gift Certificate',\n",
       "       'Gift Certificate', 'Gift Certificate', 'Gift Certificate',\n",
       "       'Gift Certificate', 'Gift Certificate', 'Gift Certificate',\n",
       "       'Gift Certificate', 'Gift Certificate', 'Gift Certificate',\n",
       "       'Gift Certificate', 'Gift Certificate', 'Gift Certificate',\n",
       "       'Gift Certificate', 'Gift Certificate', 'Gift Certificate',\n",
       "       'Gift Certificate', 'Gift Certificate', 'Gift Certificate',\n",
       "       'Gift Certificate', 'Gift Certificate', 'Gift Certificate',\n",
       "       'Gift Certificate', 'Gift Certificate', 'Gift Certificate',\n",
       "       'Gift Certificate', 'Gift Certificate', 'Gift Certificate',\n",
       "       'Gift Certificate', 'Gift Certificate', 'Gift Certificate',\n",
       "       'Gift Certificate', 'Gift Certificate', 'Gift Certificate',\n",
       "       'Gift Certificate', 'Gift Certificate', 'Gift Certificate',\n",
       "       'Gift Certificate', 'Gift Certificate', 'Gift Certificate',\n",
       "       'Gift Certificate', 'Gift Certificate', 'Gift Certificate',\n",
       "       'Gift Certificate', 'Gift Certificate', 'Gift Certificate',\n",
       "       'Gift Certificate', 'Gift Certificate', 'Gift Certificate',\n",
       "       'Gift Certificate', 'Gift Certificate', 'Gift Certificate',\n",
       "       'Gift Certificate', 'Gift Certificate', 'Gift Certificate',\n",
       "       'Gift Certificate', 'Gift Certificate', 'Gift Certificate',\n",
       "       'Gift Certificate', 'Gift Certificate', 'Gift Certificate',\n",
       "       'Gift Certificate', 'Gift Certificate', 'Gift Certificate',\n",
       "       'Gift Certificate', 'Gift Certificate', 'Gift Certificate',\n",
       "       'Gift Certificate', 'Gift Certificate', 'Gift Certificate',\n",
       "       'Gift Certificate', 'Gift Certificate', 'Gift Certificate',\n",
       "       'Gift Certificate', 'Gift Certificate', 'Gift Certificate',\n",
       "       'Gift Certificate', 'Gift Certificate', 'Gift Certificate',\n",
       "       'Gift Certificate', 'Gift Certificate', 'Gift Certificate',\n",
       "       'Gift Certificate', 'Gift Certificate', 'Gift Certificate',\n",
       "       'Cuddly Toy', 'Cuddly Toy', 'Cuddly Toy', 'Cuddly Toy',\n",
       "       'Cuddly Toy', 'Cuddly Toy', 'Cuddly Toy', 'Cuddly Toy',\n",
       "       'Cuddly Toy', 'Cuddly Toy', 'Cuddly Toy', 'Cuddly Toy',\n",
       "       'Cuddly Toy', 'Cuddly Toy', 'Cuddly Toy', 'Cuddly Toy',\n",
       "       'Cuddly Toy', 'Cuddly Toy', 'Cuddly Toy', 'Cuddly Toy',\n",
       "       'Cuddly Toy', 'Cuddly Toy', 'Cuddly Toy', 'Cuddly Toy',\n",
       "       'Cuddly Toy', 'Cuddly Toy', 'Cuddly Toy', 'Cuddly Toy',\n",
       "       'Cuddly Toy', 'Cuddly Toy', 'Cuddly Toy', 'Cuddly Toy',\n",
       "       'Cuddly Toy', 'Cuddly Toy', 'Cuddly Toy', 'Cuddly Toy',\n",
       "       'Cuddly Toy', 'Cuddly Toy', 'Cuddly Toy', 'Cuddly Toy',\n",
       "       'Cuddly Toy', 'Cuddly Toy', 'Cuddly Toy', 'Cuddly Toy',\n",
       "       'Cuddly Toy', 'Cuddly Toy', 'Cuddly Toy', 'Cuddly Toy',\n",
       "       'Cuddly Toy', 'Cuddly Toy', 'Cuddly Toy', 'Cuddly Toy',\n",
       "       'Cuddly Toy', 'Cuddly Toy', 'Cuddly Toy', 'Cuddly Toy',\n",
       "       'Cuddly Toy', 'Cuddly Toy', 'Cuddly Toy', 'Cuddly Toy',\n",
       "       'Cuddly Toy', 'Cuddly Toy', 'Cuddly Toy', 'Cuddly Toy',\n",
       "       'Cuddly Toy', 'Cuddly Toy', 'Cuddly Toy', 'Cuddly Toy',\n",
       "       'Cuddly Toy', 'Cuddly Toy', 'Cuddly Toy', 'Cuddly Toy',\n",
       "       'Cuddly Toy', 'Cuddly Toy', 'Cuddly Toy', 'Cuddly Toy',\n",
       "       'Cuddly Toy', 'Cuddly Toy', 'Cuddly Toy', 'Cuddly Toy',\n",
       "       'Cuddly Toy', 'Cuddly Toy', 'Cuddly Toy', 'Cuddly Toy',\n",
       "       'Cuddly Toy', 'Cuddly Toy', 'Cuddly Toy', 'Cuddly Toy',\n",
       "       'Cuddly Toy', 'Cuddly Toy', 'Cuddly Toy', 'Cuddly Toy',\n",
       "       'Cuddly Toy', 'Cuddly Toy', 'Cuddly Toy', 'Cuddly Toy',\n",
       "       'Cuddly Toy', 'Cuddly Toy', 'Cuddly Toy', 'Cuddly Toy',\n",
       "       'Cuddly Toy', 'Cuddly Toy', 'Cuddly Toy', 'Cuddly Toy',\n",
       "       'Cuddly Toy', 'Cuddly Toy', 'Cuddly Toy', 'Cuddly Toy',\n",
       "       'Cuddly Toy', 'Cuddly Toy', 'Cuddly Toy', 'Cuddly Toy',\n",
       "       'Cuddly Toy', 'Cuddly Toy', 'Cuddly Toy', 'Cuddly Toy',\n",
       "       'Cuddly Toy', 'Cuddly Toy', 'Cuddly Toy', 'Cuddly Toy',\n",
       "       'Cuddly Toy', 'Cuddly Toy', 'Cuddly Toy', 'Cuddly Toy',\n",
       "       'Cuddly Toy', 'Cuddly Toy', 'Cuddly Toy', 'Cuddly Toy',\n",
       "       'Cuddly Toy', 'Cuddly Toy', 'Cuddly Toy', 'Cuddly Toy',\n",
       "       'Cuddly Toy', 'Cuddly Toy', 'Cuddly Toy', 'Cuddly Toy',\n",
       "       'Cuddly Toy', 'Cuddly Toy', 'Cuddly Toy', 'Cuddly Toy',\n",
       "       'Cuddly Toy', 'Cuddly Toy', 'Cuddly Toy', 'Cuddly Toy',\n",
       "       'Cuddly Toy', 'Cuddly Toy', 'Cuddly Toy', 'Cuddly Toy',\n",
       "       'Cuddly Toy', 'Cuddly Toy', 'Cuddly Toy', 'Cuddly Toy',\n",
       "       'Cuddly Toy', 'Cuddly Toy', 'Cuddly Toy', 'Cuddly Toy',\n",
       "       'Cuddly Toy', 'Cuddly Toy', 'Cuddly Toy', 'Cuddly Toy',\n",
       "       'Cuddly Toy', 'Cuddly Toy', 'Cuddly Toy', 'Cuddly Toy',\n",
       "       'Cuddly Toy', 'Cuddly Toy', 'Cuddly Toy', 'Cuddly Toy',\n",
       "       'Cuddly Toy', 'Cuddly Toy', 'Cuddly Toy', 'Cuddly Toy',\n",
       "       'Cuddly Toy', 'Cuddly Toy', 'Cuddly Toy', 'Cuddly Toy',\n",
       "       'Cuddly Toy', 'Cuddly Toy', 'Cuddly Toy', 'Cuddly Toy',\n",
       "       'Cuddly Toy', 'Cuddly Toy', 'Cuddly Toy', 'Cuddly Toy',\n",
       "       'Cuddly Toy', 'Cuddly Toy', 'Cuddly Toy', 'Cuddly Toy',\n",
       "       'Cuddly Toy', 'Cuddly Toy', 'Cuddly Toy', 'Cuddly Toy',\n",
       "       'Cuddly Toy', 'Cuddly Toy', 'Cuddly Toy', 'Cuddly Toy',\n",
       "       'Cuddly Toy', 'Cuddly Toy', 'Cuddly Toy', 'Cuddly Toy',\n",
       "       'Cuddly Toy', 'Cuddly Toy', 'Cuddly Toy', 'Cuddly Toy',\n",
       "       'Cuddly Toy', 'Cuddly Toy', 'Cuddly Toy', 'Cuddly Toy',\n",
       "       'Cuddly Toy', 'Cuddly Toy', 'Cuddly Toy', 'Cuddly Toy',\n",
       "       'Cuddly Toy', 'Cuddly Toy', 'Cuddly Toy', 'Cuddly Toy',\n",
       "       'Cuddly Toy', 'Cuddly Toy', 'Cuddly Toy', 'Cuddly Toy',\n",
       "       'Cuddly Toy', 'Cuddly Toy', 'Cuddly Toy', 'Cuddly Toy',\n",
       "       'Cuddly Toy', 'Cuddly Toy', 'Cuddly Toy', 'Cuddly Toy',\n",
       "       'Cuddly Toy', 'Cuddly Toy', 'Cuddly Toy', 'Cuddly Toy',\n",
       "       'Cuddly Toy', 'Cuddly Toy', 'Cuddly Toy', 'Cuddly Toy',\n",
       "       'Cuddly Toy', 'Cuddly Toy', 'Cuddly Toy', 'Cuddly Toy',\n",
       "       'Cuddly Toy', 'Cuddly Toy', 'Cuddly Toy', 'Cuddly Toy',\n",
       "       'Cuddly Toy', 'Cuddly Toy', 'Cuddly Toy', 'Cuddly Toy',\n",
       "       'Cuddly Toy', 'Cuddly Toy', 'Cuddly Toy', 'Cuddly Toy',\n",
       "       'Cuddly Toy', 'Cuddly Toy', 'Cuddly Toy', 'Cuddly Toy',\n",
       "       'Cuddly Toy', 'Cuddly Toy', 'Cuddly Toy', 'Cuddly Toy',\n",
       "       'Cuddly Toy', 'Cuddly Toy', 'Cuddly Toy', 'Cuddly Toy',\n",
       "       'Cuddly Toy', 'Cinema tickets', 'Cinema tickets', 'Cinema tickets',\n",
       "       'Cinema tickets', 'Cinema tickets', 'Cinema tickets',\n",
       "       'Cinema tickets', 'Cinema tickets', 'Cinema tickets',\n",
       "       'Cinema tickets', 'Cinema tickets', 'Cinema tickets',\n",
       "       'Cinema tickets', 'Cinema tickets', 'Cinema tickets',\n",
       "       'Cinema tickets', 'Cinema tickets', 'Cinema tickets',\n",
       "       'Cinema tickets', 'Cinema tickets', 'Cinema tickets',\n",
       "       'Cinema tickets', 'Cinema tickets', 'Cinema tickets',\n",
       "       'Cinema tickets', 'Cinema tickets', 'Cinema tickets',\n",
       "       'Cinema tickets', 'Cinema tickets', 'Cinema tickets',\n",
       "       'Cinema tickets', 'Cinema tickets', 'Cinema tickets',\n",
       "       'Cinema tickets', 'Cinema tickets', 'Cinema tickets',\n",
       "       'Cinema tickets', 'Cinema tickets', 'Cinema tickets',\n",
       "       'Cinema tickets', 'Cinema tickets', 'Cinema tickets',\n",
       "       'Cinema tickets', 'Cinema tickets', 'Cinema tickets',\n",
       "       'Cinema tickets', 'Cinema tickets', 'Cinema tickets',\n",
       "       'Cinema tickets', 'Cinema tickets', 'Cinema tickets',\n",
       "       'Cinema tickets', 'Cinema tickets', 'Cinema tickets',\n",
       "       'Cinema tickets', 'Cinema tickets', 'Cinema tickets',\n",
       "       'Cinema tickets', 'Cinema tickets', 'Cinema tickets',\n",
       "       'Cinema tickets', 'Cinema tickets', 'Cinema tickets',\n",
       "       'Cinema tickets', 'Cinema tickets', 'Cinema tickets',\n",
       "       'Cinema tickets', 'Cinema tickets', 'Cinema tickets',\n",
       "       'Cinema tickets', 'Cinema tickets', 'Cinema tickets',\n",
       "       'Cinema tickets', 'Cinema tickets', 'Cinema tickets',\n",
       "       'Cinema tickets', 'Cinema tickets', 'Cinema tickets',\n",
       "       'Cinema tickets', 'Cinema tickets', 'Cinema tickets',\n",
       "       'Cinema tickets', 'Cinema tickets', 'Cinema tickets',\n",
       "       'Cinema tickets', 'Cinema tickets', 'Cinema tickets',\n",
       "       'Cinema tickets', 'Cinema tickets', 'Cinema tickets',\n",
       "       'Cinema tickets', 'Cinema tickets', 'Cinema tickets',\n",
       "       'Cinema tickets', 'Cinema tickets', 'Cinema tickets',\n",
       "       'Cinema tickets', 'Cinema tickets', 'Cinema tickets',\n",
       "       'Cinema tickets', 'Cinema tickets', 'Cinema tickets',\n",
       "       'Cinema tickets', 'Cinema tickets', 'Cinema tickets',\n",
       "       'Cinema tickets', 'Cinema tickets', 'Cinema tickets',\n",
       "       'Cinema tickets', 'Cinema tickets', 'Cinema tickets',\n",
       "       'Cinema tickets', 'Cinema tickets', 'Cinema tickets',\n",
       "       'Cinema tickets', 'Cinema tickets', 'Cinema tickets',\n",
       "       'Cinema tickets', 'Cinema tickets', 'Cinema tickets',\n",
       "       'Cinema tickets', 'Cinema tickets', 'Cinema tickets',\n",
       "       'Cinema tickets', 'Cinema tickets', 'Cinema tickets',\n",
       "       'Cinema tickets', 'Cinema tickets', 'Cinema tickets',\n",
       "       'Cinema tickets', 'Cinema tickets', 'Cinema tickets',\n",
       "       'Cinema tickets', 'Cinema tickets', 'Cinema tickets',\n",
       "       'Cinema tickets', 'Cinema tickets', 'Cinema tickets',\n",
       "       'Cinema tickets', 'Cinema tickets', 'Cinema tickets',\n",
       "       'Cinema tickets', 'Cinema tickets', 'Cinema tickets',\n",
       "       'Cinema tickets', 'Cinema tickets', 'Cinema tickets',\n",
       "       'Cinema tickets', 'Cinema tickets', 'Cinema tickets',\n",
       "       'Cinema tickets', 'Cinema tickets', 'Cinema tickets',\n",
       "       'Cinema tickets', 'Cinema tickets', 'Cinema tickets',\n",
       "       'Cinema tickets', 'Cinema tickets', 'Cinema tickets',\n",
       "       'Cinema tickets', 'Cinema tickets', 'Cinema tickets',\n",
       "       'Cinema tickets', 'Cinema tickets', 'Cinema tickets',\n",
       "       'Cinema tickets', 'Cinema tickets', 'Cinema tickets',\n",
       "       'Cinema tickets', 'Cinema tickets', 'Cinema tickets',\n",
       "       'Cinema tickets', 'Cinema tickets', 'Cinema tickets',\n",
       "       'Cinema tickets', 'Cinema tickets', 'Cinema tickets',\n",
       "       'Cinema tickets', 'Cinema tickets', 'Cinema tickets',\n",
       "       'Cinema tickets', 'Cinema tickets', 'Cinema tickets',\n",
       "       'Cinema tickets', 'Cinema tickets', 'Cinema tickets',\n",
       "       'Cinema tickets', 'Cinema tickets', 'Cinema tickets',\n",
       "       'Cinema tickets', 'Cinema tickets', 'Cinema tickets',\n",
       "       'Cinema tickets', 'Cinema tickets', 'Cinema tickets',\n",
       "       'Cinema tickets', 'Cinema tickets', 'Cinema tickets',\n",
       "       'Cinema tickets', 'Cinema tickets', 'Cinema tickets',\n",
       "       'Cinema tickets', 'Cinema tickets', 'Cinema tickets',\n",
       "       'Cinema tickets', 'Cinema tickets', 'Cinema tickets',\n",
       "       'Cinema tickets', 'Cinema tickets', 'Cinema tickets',\n",
       "       'Cinema tickets', 'Cinema tickets', 'Cinema tickets',\n",
       "       'Cinema tickets', 'Cinema tickets', 'Cinema tickets',\n",
       "       'Cinema tickets', 'Cinema tickets', 'Cinema tickets',\n",
       "       'Cinema tickets', 'Cinema tickets', 'Cinema tickets',\n",
       "       'Cinema tickets', 'Cinema tickets', 'Cinema tickets',\n",
       "       'Cinema tickets', 'Cinema tickets', 'Cinema tickets',\n",
       "       'Cinema tickets', 'Cinema tickets', 'Cinema tickets',\n",
       "       'Cinema tickets', 'Cinema tickets', 'Cinema tickets',\n",
       "       'Cinema tickets', 'Cinema tickets', 'Cinema tickets',\n",
       "       'Cinema tickets', 'Cinema tickets', 'Cinema tickets',\n",
       "       'Cinema tickets', 'Cinema tickets', 'Cinema tickets',\n",
       "       'Cinema tickets', 'Cinema tickets', 'Cinema tickets',\n",
       "       'Cinema tickets', 'Cinema tickets', 'Cinema tickets',\n",
       "       'Cinema tickets', 'Cinema tickets', 'Cinema tickets',\n",
       "       'Cinema tickets', 'Cinema tickets', 'Cinema tickets',\n",
       "       'Cinema tickets', 'Cinema tickets', 'Cinema tickets',\n",
       "       'Cinema tickets', 'Cinema tickets', 'Cinema tickets',\n",
       "       'Cinema tickets', 'Cinema tickets', 'Cinema tickets',\n",
       "       'Cinema tickets', 'Cinema tickets', 'Cinema tickets',\n",
       "       'Cinema tickets', 'Cinema tickets', 'Cinema tickets',\n",
       "       'Cinema tickets', 'Cinema tickets', 'Cinema tickets',\n",
       "       'Cinema tickets', 'Cinema tickets', 'Cinema tickets',\n",
       "       'Cinema tickets', 'Cinema tickets', 'Cinema tickets',\n",
       "       'Cinema tickets', 'Cinema tickets', 'Cinema tickets',\n",
       "       'Cinema tickets', 'Cinema tickets', 'Cinema tickets',\n",
       "       'Cinema tickets', 'Cinema tickets', 'Cinema tickets',\n",
       "       'Cinema tickets', 'Cinema tickets', 'Cinema tickets',\n",
       "       'Cinema tickets', 'Cinema tickets', 'Cinema tickets',\n",
       "       'Cinema tickets', 'Cinema tickets', 'Cinema tickets',\n",
       "       'Cinema tickets', 'Cinema tickets', 'Cinema tickets',\n",
       "       'Cinema tickets', 'Cinema tickets', 'Cinema tickets',\n",
       "       'Cinema tickets', 'Cinema tickets', 'Cinema tickets',\n",
       "       'Cinema tickets', 'Cinema tickets', 'Cinema tickets',\n",
       "       'Cinema tickets', 'Cinema tickets', 'Cinema tickets',\n",
       "       'Cinema tickets', 'Cinema tickets', 'Cinema tickets',\n",
       "       'Cinema tickets', 'Cinema tickets', 'Cinema tickets',\n",
       "       'Cinema tickets', 'Cinema tickets'], dtype='<U16')"
      ]
     },
     "execution_count": 5,
     "metadata": {},
     "output_type": "execute_result"
    }
   ],
   "source": [
    "np.concatenate([it1,it2,it3])"
   ]
  },
  {
   "cell_type": "code",
   "execution_count": 7,
   "metadata": {},
   "outputs": [],
   "source": [
    "gift_type = np.concatenate([it1,it2,it3])"
   ]
  },
  {
   "cell_type": "code",
   "execution_count": 8,
   "metadata": {},
   "outputs": [
    {
     "data": {
      "text/plain": [
       "900"
      ]
     },
     "execution_count": 8,
     "metadata": {},
     "output_type": "execute_result"
    }
   ],
   "source": [
    "len(gift_type)"
   ]
  },
  {
   "cell_type": "code",
   "execution_count": 14,
   "metadata": {},
   "outputs": [
    {
     "data": {
      "text/plain": [
       "(array(['Cinema tickets', 'Cuddly Toy', 'Gift Certificate'], dtype='<U16'),\n",
       " array([320, 265, 315], dtype=int64))"
      ]
     },
     "execution_count": 14,
     "metadata": {},
     "output_type": "execute_result"
    }
   ],
   "source": [
    "np.unique(gift_type,return_counts=True)"
   ]
  },
  {
   "cell_type": "markdown",
   "metadata": {},
   "source": [
    "## One-way Chi-square Test"
   ]
  },
  {
   "cell_type": "markdown",
   "metadata": {},
   "source": [
    "<i>H<i/><sub>0</sub>: \"there is no significant difference between the observed and the theoretival distribution\"<br>\n",
    "<i>H<i/><sub>1</sub>: \"there is a significant difference between the observed and the theoretival distribution\""
   ]
  },
  {
   "cell_type": "markdown",
   "metadata": {},
   "source": [
    "### Manuel Calculation"
   ]
  },
  {
   "cell_type": "markdown",
   "metadata": {},
   "source": [
    "<table>\n",
    "    <tbody>\n",
    "        <tr>\n",
    "            <td>&nbsp;</td>\n",
    "            <td><em>Observed</em></td>\n",
    "            <td><em>Expected</em></td>\n",
    "            <td><em>Difference</em></td>\n",
    "            <td><em>Difference Sq.</em></td>\n",
    "            <td><em>Diff. Sq. / Exp Fr.</em></td>\n",
    "        </tr>\n",
    "        <tr>\n",
    "            <td><span id=\"ctl00_MainContent_Label6\"><b>Gift Certificate</b></span></td>\n",
    "            <td><span id=\"ctl00_MainContent_Label100\">315</span></td>\n",
    "            <td><span id=\"ctl00_MainContent_Label105\">300</span></td>\n",
    "            <td>&nbsp;&nbsp;<span id=\"ctl00_MainContent_Label110\">15.00</span></td>\n",
    "            <td>&nbsp;&nbsp;<span id=\"ctl00_MainContent_Label115\">225.00</span></td>\n",
    "            <td>&nbsp;&nbsp;<span id=\"ctl00_MainContent_Label120\">0.75</span></td>\n",
    "        </tr>\n",
    "        <tr>\n",
    "            <td><span id=\"ctl00_MainContent_Label7\"><b>Cuddly Toy</b></span></td>\n",
    "            <td><span id=\"ctl00_MainContent_Label101\">265</span></td>\n",
    "            <td><span id=\"ctl00_MainContent_Label106\">300</span></td>\n",
    "            <td>&nbsp;&nbsp;<span id=\"ctl00_MainContent_Label111\">-35.00</span></td>\n",
    "            <td>&nbsp;&nbsp;<span id=\"ctl00_MainContent_Label116\">1225.00</span></td>\n",
    "            <td>&nbsp;&nbsp;<span id=\"ctl00_MainContent_Label121\">4.08</span></td>\n",
    "        </tr>\n",
    "        <tr>\n",
    "            <td><span id=\"ctl00_MainContent_Label8\"><b>Cinema Tickets</b></span></td>\n",
    "            <td><span id=\"ctl00_MainContent_Label102\">320</span></td>\n",
    "            <td><span id=\"ctl00_MainContent_Label107\">300</span></td>\n",
    "            <td>&nbsp;&nbsp;<span id=\"ctl00_MainContent_Label112\">20.00</span></td>\n",
    "            <td>&nbsp;&nbsp;<span id=\"ctl00_MainContent_Label117\">400.00</span></td>\n",
    "            <td>&nbsp;&nbsp;<span id=\"ctl00_MainContent_Label122\">1.33</span></td>\n",
    "        </tr>\n",
    "        <tr>\n",
    "            <td></td>\n",
    "            <td></td>\n",
    "            <td></td>\n",
    "            <td>&nbsp;</td>\n",
    "            <td>&nbsp;</td>\n",
    "            <td>&nbsp;</td>\n",
    "        </tr>\n",
    "        <tr>\n",
    "            <td>&nbsp;</td>\n",
    "            <td>&nbsp;</td>\n",
    "            <td>&nbsp;</td>\n",
    "            <td>&nbsp;</td>\n",
    "            <td>&nbsp;</td>\n",
    "            <td>&nbsp;&nbsp;<span id=\"ctl00_MainContent_Label125\">6.167</span></td>\n",
    "        </tr>\n",
    "    </tbody>\n",
    "</table>"
   ]
  },
  {
   "cell_type": "code",
   "execution_count": null,
   "metadata": {},
   "outputs": [],
   "source": [
    "# 225/300 = 0.75\n",
    "# 1125/300 = 4.08\n",
    "# 400/300 = 1.33"
   ]
  },
  {
   "cell_type": "code",
   "execution_count": 10,
   "metadata": {},
   "outputs": [
    {
     "data": {
      "text/plain": [
       "0.045798680423089544"
      ]
     },
     "execution_count": 10,
     "metadata": {},
     "output_type": "execute_result"
    }
   ],
   "source": [
    "pvalue = 1-stats.chi2.cdf(6.167,2)\n",
    "pvalue"
   ]
  },
  {
   "cell_type": "code",
   "execution_count": null,
   "metadata": {},
   "outputs": [],
   "source": [
    "# pvalue < alpha 0.05 Reject To H_0 "
   ]
  },
  {
   "cell_type": "markdown",
   "metadata": {},
   "source": [
    "### scipy.stats.chisquare"
   ]
  },
  {
   "cell_type": "code",
   "execution_count": 11,
   "metadata": {},
   "outputs": [
    {
     "data": {
      "text/plain": [
       "Power_divergenceResult(statistic=6.166666666666666, pvalue=0.04580631417262148)"
      ]
     },
     "execution_count": 11,
     "metadata": {},
     "output_type": "execute_result"
    }
   ],
   "source": [
    "test = stats.chisquare([315, 265, 320])\n",
    "test"
   ]
  },
  {
   "cell_type": "code",
   "execution_count": 15,
   "metadata": {},
   "outputs": [],
   "source": [
    "levels, counts = np.unique(gift_type,return_counts=True)"
   ]
  },
  {
   "cell_type": "code",
   "execution_count": 16,
   "metadata": {},
   "outputs": [
    {
     "data": {
      "text/plain": [
       "Power_divergenceResult(statistic=6.166666666666666, pvalue=0.04580631417262148)"
      ]
     },
     "execution_count": 16,
     "metadata": {},
     "output_type": "execute_result"
    }
   ],
   "source": [
    "stats.chisquare(counts)"
   ]
  },
  {
   "attachments": {
    "image.png": {
     "image/png": "[encoded data removed]"
    }
   },
   "cell_type": "markdown",
   "metadata": {},
   "source": [
    "![image.png](attachment:image.png)"
   ]
  },
  {
   "cell_type": "code",
   "execution_count": 17,
   "metadata": {},
   "outputs": [
    {
     "name": "stdout",
     "output_type": "stream",
     "text": [
      "Statistics=6.167, p=0.046\n",
      "there is a significant difference between the observed and the theoretical distribution (reject H0)\n"
     ]
    }
   ],
   "source": [
    "print('Statistics=%.3f, p=%.3f' % (test.statistic, test.pvalue))\n",
    "# interpret\n",
    "alpha = 0.05\n",
    "if test.pvalue > alpha:\n",
    "\tprint('there is no significant difference between the observed and the theoretical distribution (fail to reject H0)')\n",
    "else:\n",
    "\tprint('there is a significant difference between the observed and the theoretical distribution (reject H0)')"
   ]
  },
  {
   "cell_type": "markdown",
   "metadata": {},
   "source": [
    "We can see that our test statistic is statistically significant: χ2(2) = 6.167, p < .05. Therefore, we can reject the null hypothesis and conclude that there are statistically significant differences in the preference of the type of sign-up gift."
   ]
  },
  {
   "cell_type": "markdown",
   "metadata": {},
   "source": [
    "# Chi-Square Test of Association"
   ]
  },
  {
   "cell_type": "markdown",
   "metadata": {},
   "source": [
    "The Chi-Square Test of Independence determines whether there is an association between categorical variables (i.e., whether the variables are independent or related).\n",
    "\n",
    "This test is also known as:\n",
    "*Chi-Square Test of Independence*."
   ]
  },
  {
   "cell_type": "code",
   "execution_count": null,
   "metadata": {},
   "outputs": [],
   "source": [
    "# Used for two categorical continuous variable"
   ]
  },
  {
   "cell_type": "markdown",
   "metadata": {},
   "source": [
    "## PROBLEM STATEMENT"
   ]
  },
  {
   "cell_type": "markdown",
   "metadata": {},
   "source": [
    "In the dataset, respondents were asked their gender and whether or not they were a cigarette smoker. There were three answer choices: Nonsmoker, Past smoker, and Current smoker. Suppose we want to test for an association between smoking behavior (nonsmoker, current smoker, or past smoker) and gender (male or female) using a Chi-Square Test of Independence (we'll use α = 0.05)."
   ]
  },
  {
   "cell_type": "code",
   "execution_count": 20,
   "metadata": {},
   "outputs": [],
   "source": [
    "survey = pd.read_csv(\"university_survey_2014.csv\")"
   ]
  },
  {
   "cell_type": "code",
   "execution_count": 21,
   "metadata": {},
   "outputs": [
    {
     "data": {
      "text/html": [
       "<div>\n",
       "<style scoped>\n",
       "    .dataframe tbody tr th:only-of-type {\n",
       "        vertical-align: middle;\n",
       "    }\n",
       "\n",
       "    .dataframe tbody tr th {\n",
       "        vertical-align: top;\n",
       "    }\n",
       "\n",
       "    .dataframe thead th {\n",
       "        text-align: right;\n",
       "    }\n",
       "</style>\n",
       "<table border=\"1\" class=\"dataframe\">\n",
       "  <thead>\n",
       "    <tr style=\"text-align: right;\">\n",
       "      <th></th>\n",
       "      <th>ids</th>\n",
       "      <th>bday</th>\n",
       "      <th>enrolldate</th>\n",
       "      <th>expgradate</th>\n",
       "      <th>Rank</th>\n",
       "      <th>Major</th>\n",
       "      <th>Gender</th>\n",
       "      <th>Athlete</th>\n",
       "      <th>Height</th>\n",
       "      <th>Weight</th>\n",
       "      <th>...</th>\n",
       "      <th>English</th>\n",
       "      <th>Reading</th>\n",
       "      <th>Math</th>\n",
       "      <th>Writing</th>\n",
       "      <th>State</th>\n",
       "      <th>LiveOnCampus</th>\n",
       "      <th>HowCommute</th>\n",
       "      <th>CommuteTime</th>\n",
       "      <th>SleepTime</th>\n",
       "      <th>StudyTime</th>\n",
       "    </tr>\n",
       "  </thead>\n",
       "  <tbody>\n",
       "    <tr>\n",
       "      <th>0</th>\n",
       "      <td>43783</td>\n",
       "      <td>3/22/1995</td>\n",
       "      <td></td>\n",
       "      <td></td>\n",
       "      <td></td>\n",
       "      <td></td>\n",
       "      <td>0</td>\n",
       "      <td>0</td>\n",
       "      <td>72.35</td>\n",
       "      <td></td>\n",
       "      <td>...</td>\n",
       "      <td>88.24</td>\n",
       "      <td>81.5</td>\n",
       "      <td>60.02</td>\n",
       "      <td>81.44</td>\n",
       "      <td>In state</td>\n",
       "      <td>1</td>\n",
       "      <td></td>\n",
       "      <td></td>\n",
       "      <td>7</td>\n",
       "      <td>1</td>\n",
       "    </tr>\n",
       "    <tr>\n",
       "      <th>1</th>\n",
       "      <td>20278</td>\n",
       "      <td>1/1/1995</td>\n",
       "      <td></td>\n",
       "      <td></td>\n",
       "      <td></td>\n",
       "      <td>Philosophy</td>\n",
       "      <td>0</td>\n",
       "      <td>0</td>\n",
       "      <td>70.66</td>\n",
       "      <td>179.2</td>\n",
       "      <td>...</td>\n",
       "      <td>89.45</td>\n",
       "      <td>85.25</td>\n",
       "      <td>70.19</td>\n",
       "      <td>73.27</td>\n",
       "      <td></td>\n",
       "      <td>1</td>\n",
       "      <td></td>\n",
       "      <td></td>\n",
       "      <td>5</td>\n",
       "      <td>2</td>\n",
       "    </tr>\n",
       "    <tr>\n",
       "      <th>2</th>\n",
       "      <td>20389</td>\n",
       "      <td>12/31/1994</td>\n",
       "      <td></td>\n",
       "      <td></td>\n",
       "      <td></td>\n",
       "      <td></td>\n",
       "      <td>0</td>\n",
       "      <td>0</td>\n",
       "      <td>70.68</td>\n",
       "      <td>198.52</td>\n",
       "      <td>...</td>\n",
       "      <td>96.73</td>\n",
       "      <td>86.88</td>\n",
       "      <td>71.2</td>\n",
       "      <td>84.24</td>\n",
       "      <td>In state</td>\n",
       "      <td></td>\n",
       "      <td></td>\n",
       "      <td></td>\n",
       "      <td>8</td>\n",
       "      <td>7</td>\n",
       "    </tr>\n",
       "    <tr>\n",
       "      <th>3</th>\n",
       "      <td>22820</td>\n",
       "      <td>12/1/1994</td>\n",
       "      <td></td>\n",
       "      <td></td>\n",
       "      <td></td>\n",
       "      <td>business administration</td>\n",
       "      <td>1</td>\n",
       "      <td>0</td>\n",
       "      <td></td>\n",
       "      <td>198.34</td>\n",
       "      <td>...</td>\n",
       "      <td>74.06</td>\n",
       "      <td>88.68</td>\n",
       "      <td>55.89</td>\n",
       "      <td>73.16</td>\n",
       "      <td>In state</td>\n",
       "      <td>1</td>\n",
       "      <td></td>\n",
       "      <td></td>\n",
       "      <td>2</td>\n",
       "      <td>6</td>\n",
       "    </tr>\n",
       "    <tr>\n",
       "      <th>4</th>\n",
       "      <td>24559</td>\n",
       "      <td>11/10/1994</td>\n",
       "      <td></td>\n",
       "      <td></td>\n",
       "      <td></td>\n",
       "      <td></td>\n",
       "      <td>1</td>\n",
       "      <td>1</td>\n",
       "      <td>67.43</td>\n",
       "      <td>128.17</td>\n",
       "      <td>...</td>\n",
       "      <td>82.61</td>\n",
       "      <td>77.3</td>\n",
       "      <td>65.52</td>\n",
       "      <td>80.45</td>\n",
       "      <td>Out of state</td>\n",
       "      <td>1</td>\n",
       "      <td></td>\n",
       "      <td></td>\n",
       "      <td>7</td>\n",
       "      <td>3</td>\n",
       "    </tr>\n",
       "  </tbody>\n",
       "</table>\n",
       "<p>5 rows × 23 columns</p>\n",
       "</div>"
      ],
      "text/plain": [
       "     ids        bday enrolldate expgradate Rank                    Major  \\\n",
       "0  43783   3/22/1995                                                       \n",
       "1  20278    1/1/1995                                          Philosophy   \n",
       "2  20389  12/31/1994                                                       \n",
       "3  22820   12/1/1994                             business administration   \n",
       "4  24559  11/10/1994                                                       \n",
       "\n",
       "  Gender  Athlete Height  Weight  ... English Reading   Math Writing  \\\n",
       "0      0        0  72.35          ...   88.24    81.5  60.02   81.44   \n",
       "1      0        0  70.66   179.2  ...   89.45   85.25  70.19   73.27   \n",
       "2      0        0  70.68  198.52  ...   96.73   86.88   71.2   84.24   \n",
       "3      1        0         198.34  ...   74.06   88.68  55.89   73.16   \n",
       "4      1        1  67.43  128.17  ...   82.61    77.3  65.52   80.45   \n",
       "\n",
       "          State LiveOnCampus HowCommute CommuteTime SleepTime StudyTime  \n",
       "0      In state            1                                7         1  \n",
       "1                          1                                5         2  \n",
       "2      In state                                             8         7  \n",
       "3      In state            1                                2         6  \n",
       "4  Out of state            1                                7         3  \n",
       "\n",
       "[5 rows x 23 columns]"
      ]
     },
     "execution_count": 21,
     "metadata": {},
     "output_type": "execute_result"
    }
   ],
   "source": [
    "survey.head()"
   ]
  },
  {
   "cell_type": "code",
   "execution_count": 22,
   "metadata": {},
   "outputs": [
    {
     "data": {
      "text/html": [
       "<div>\n",
       "<style scoped>\n",
       "    .dataframe tbody tr th:only-of-type {\n",
       "        vertical-align: middle;\n",
       "    }\n",
       "\n",
       "    .dataframe tbody tr th {\n",
       "        vertical-align: top;\n",
       "    }\n",
       "\n",
       "    .dataframe thead th {\n",
       "        text-align: right;\n",
       "    }\n",
       "</style>\n",
       "<table border=\"1\" class=\"dataframe\">\n",
       "  <thead>\n",
       "    <tr style=\"text-align: right;\">\n",
       "      <th></th>\n",
       "      <th>Gender</th>\n",
       "      <th>Smoking</th>\n",
       "    </tr>\n",
       "  </thead>\n",
       "  <tbody>\n",
       "    <tr>\n",
       "      <th>0</th>\n",
       "      <td>0</td>\n",
       "      <td>0</td>\n",
       "    </tr>\n",
       "    <tr>\n",
       "      <th>1</th>\n",
       "      <td>0</td>\n",
       "      <td>0</td>\n",
       "    </tr>\n",
       "    <tr>\n",
       "      <th>2</th>\n",
       "      <td>0</td>\n",
       "      <td>0</td>\n",
       "    </tr>\n",
       "    <tr>\n",
       "      <th>3</th>\n",
       "      <td>1</td>\n",
       "      <td></td>\n",
       "    </tr>\n",
       "    <tr>\n",
       "      <th>4</th>\n",
       "      <td>1</td>\n",
       "      <td>2</td>\n",
       "    </tr>\n",
       "    <tr>\n",
       "      <th>...</th>\n",
       "      <td>...</td>\n",
       "      <td>...</td>\n",
       "    </tr>\n",
       "    <tr>\n",
       "      <th>430</th>\n",
       "      <td>1</td>\n",
       "      <td>0</td>\n",
       "    </tr>\n",
       "    <tr>\n",
       "      <th>431</th>\n",
       "      <td>0</td>\n",
       "      <td>0</td>\n",
       "    </tr>\n",
       "    <tr>\n",
       "      <th>432</th>\n",
       "      <td>0</td>\n",
       "      <td>0</td>\n",
       "    </tr>\n",
       "    <tr>\n",
       "      <th>433</th>\n",
       "      <td>1</td>\n",
       "      <td>2</td>\n",
       "    </tr>\n",
       "    <tr>\n",
       "      <th>434</th>\n",
       "      <td>1</td>\n",
       "      <td>1</td>\n",
       "    </tr>\n",
       "  </tbody>\n",
       "</table>\n",
       "<p>435 rows × 2 columns</p>\n",
       "</div>"
      ],
      "text/plain": [
       "    Gender Smoking\n",
       "0        0       0\n",
       "1        0       0\n",
       "2        0       0\n",
       "3        1        \n",
       "4        1       2\n",
       "..     ...     ...\n",
       "430      1       0\n",
       "431      0       0\n",
       "432      0       0\n",
       "433      1       2\n",
       "434      1       1\n",
       "\n",
       "[435 rows x 2 columns]"
      ]
     },
     "execution_count": 22,
     "metadata": {},
     "output_type": "execute_result"
    }
   ],
   "source": [
    "testset = survey[[\"Gender\",\"Smoking\"]]\n",
    "testset"
   ]
  },
  {
   "cell_type": "code",
   "execution_count": 23,
   "metadata": {},
   "outputs": [
    {
     "name": "stderr",
     "output_type": "stream",
     "text": [
      "<ipython-input-23-e33ee245470c>:1: SettingWithCopyWarning: \n",
      "A value is trying to be set on a copy of a slice from a DataFrame.\n",
      "Try using .loc[row_indexer,col_indexer] = value instead\n",
      "\n",
      "See the caveats in the documentation: https://pandas.pydata.org/pandas-docs/stable/user_guide/indexing.html#returning-a-view-versus-a-copy\n",
      "  testset[\"Gender\"] = pd.to_numeric(testset[\"Gender\"],errors='coerce')\n",
      "<ipython-input-23-e33ee245470c>:2: SettingWithCopyWarning: \n",
      "A value is trying to be set on a copy of a slice from a DataFrame.\n",
      "Try using .loc[row_indexer,col_indexer] = value instead\n",
      "\n",
      "See the caveats in the documentation: https://pandas.pydata.org/pandas-docs/stable/user_guide/indexing.html#returning-a-view-versus-a-copy\n",
      "  testset[\"Smoking\"] = pd.to_numeric(testset[\"Smoking\"],errors='coerce')\n"
     ]
    }
   ],
   "source": [
    "testset[\"Gender\"] = pd.to_numeric(testset[\"Gender\"],errors='coerce')\n",
    "testset[\"Smoking\"] = pd.to_numeric(testset[\"Smoking\"],errors='coerce')"
   ]
  },
  {
   "cell_type": "code",
   "execution_count": 24,
   "metadata": {},
   "outputs": [
    {
     "name": "stderr",
     "output_type": "stream",
     "text": [
      "<ipython-input-24-c9d0466ac8e1>:1: SettingWithCopyWarning: \n",
      "A value is trying to be set on a copy of a slice from a DataFrame.\n",
      "Try using .loc[row_indexer,col_indexer] = value instead\n",
      "\n",
      "See the caveats in the documentation: https://pandas.pydata.org/pandas-docs/stable/user_guide/indexing.html#returning-a-view-versus-a-copy\n",
      "  testset[\"Smoking\"] = testset[\"Smoking\"].replace([0,1,2],[\"Nonsmoker\", \"Past smoker\",\"Current smoker\"])\n"
     ]
    },
    {
     "data": {
      "text/plain": [
       "0           Nonsmoker\n",
       "1           Nonsmoker\n",
       "2           Nonsmoker\n",
       "3                 NaN\n",
       "4      Current smoker\n",
       "            ...      \n",
       "430         Nonsmoker\n",
       "431         Nonsmoker\n",
       "432         Nonsmoker\n",
       "433    Current smoker\n",
       "434       Past smoker\n",
       "Name: Smoking, Length: 435, dtype: object"
      ]
     },
     "execution_count": 24,
     "metadata": {},
     "output_type": "execute_result"
    }
   ],
   "source": [
    "testset[\"Smoking\"] = testset[\"Smoking\"].replace([0,1,2],[\"Nonsmoker\", \"Past smoker\",\"Current smoker\"])\n",
    "testset[\"Smoking\"]"
   ]
  },
  {
   "cell_type": "code",
   "execution_count": 25,
   "metadata": {},
   "outputs": [
    {
     "name": "stderr",
     "output_type": "stream",
     "text": [
      "<ipython-input-25-4392578f61c9>:1: SettingWithCopyWarning: \n",
      "A value is trying to be set on a copy of a slice from a DataFrame.\n",
      "Try using .loc[row_indexer,col_indexer] = value instead\n",
      "\n",
      "See the caveats in the documentation: https://pandas.pydata.org/pandas-docs/stable/user_guide/indexing.html#returning-a-view-versus-a-copy\n",
      "  testset[\"Gender\"] = testset[\"Gender\"].replace([0, 1],[\"Male\", \"Female\"])\n"
     ]
    },
    {
     "data": {
      "text/plain": [
       "0        Male\n",
       "1        Male\n",
       "2        Male\n",
       "3      Female\n",
       "4      Female\n",
       "        ...  \n",
       "430    Female\n",
       "431      Male\n",
       "432      Male\n",
       "433    Female\n",
       "434    Female\n",
       "Name: Gender, Length: 435, dtype: object"
      ]
     },
     "execution_count": 25,
     "metadata": {},
     "output_type": "execute_result"
    }
   ],
   "source": [
    "testset[\"Gender\"] = testset[\"Gender\"].replace([0, 1],[\"Male\", \"Female\"])\n",
    "testset[\"Gender\"]"
   ]
  },
  {
   "cell_type": "code",
   "execution_count": 26,
   "metadata": {},
   "outputs": [
    {
     "data": {
      "text/html": [
       "<div>\n",
       "<style scoped>\n",
       "    .dataframe tbody tr th:only-of-type {\n",
       "        vertical-align: middle;\n",
       "    }\n",
       "\n",
       "    .dataframe tbody tr th {\n",
       "        vertical-align: top;\n",
       "    }\n",
       "\n",
       "    .dataframe thead th {\n",
       "        text-align: right;\n",
       "    }\n",
       "</style>\n",
       "<table border=\"1\" class=\"dataframe\">\n",
       "  <thead>\n",
       "    <tr style=\"text-align: right;\">\n",
       "      <th>Gender</th>\n",
       "      <th>Female</th>\n",
       "      <th>Male</th>\n",
       "    </tr>\n",
       "    <tr>\n",
       "      <th>Smoking</th>\n",
       "      <th></th>\n",
       "      <th></th>\n",
       "    </tr>\n",
       "  </thead>\n",
       "  <tbody>\n",
       "    <tr>\n",
       "      <th>Current smoker</th>\n",
       "      <td>37</td>\n",
       "      <td>31</td>\n",
       "    </tr>\n",
       "    <tr>\n",
       "      <th>Nonsmoker</th>\n",
       "      <td>148</td>\n",
       "      <td>149</td>\n",
       "    </tr>\n",
       "    <tr>\n",
       "      <th>Past smoker</th>\n",
       "      <td>24</td>\n",
       "      <td>13</td>\n",
       "    </tr>\n",
       "  </tbody>\n",
       "</table>\n",
       "</div>"
      ],
      "text/plain": [
       "Gender          Female  Male\n",
       "Smoking                     \n",
       "Current smoker      37    31\n",
       "Nonsmoker          148   149\n",
       "Past smoker         24    13"
      ]
     },
     "execution_count": 26,
     "metadata": {},
     "output_type": "execute_result"
    }
   ],
   "source": [
    "ct = pd.crosstab(testset[\"Smoking\"], testset[\"Gender\"], margins=False)\n",
    "ct"
   ]
  },
  {
   "cell_type": "markdown",
   "metadata": {},
   "source": [
    "Before we test for \"association\", it is helpful to understand what an \"association\" and a \"lack of association\" between two categorical variables looks like. One way to visualize this is using clustered bar charts. Let's look at the clustered bar chart produced by the Crosstabs procedure."
   ]
  },
  {
   "cell_type": "code",
   "execution_count": 27,
   "metadata": {},
   "outputs": [
    {
     "data": {
      "image/png": "[encoded data removed]",
      "text/plain": [
       "<Figure size 432x288 with 1 Axes>"
      ]
     },
     "metadata": {
      "needs_background": "light"
     },
     "output_type": "display_data"
    }
   ],
   "source": [
    "# now stack and reset\n",
    "stacked = ct.stack().reset_index().rename(columns={0:'value'})\n",
    " # plot grouped bar chart\n",
    "sns.barplot(x=stacked.Smoking, y=stacked.value, hue=stacked.Gender);"
   ]
  },
  {
   "cell_type": "markdown",
   "metadata": {},
   "source": [
    "## Manuel Calculation"
   ]
  },
  {
   "cell_type": "markdown",
   "metadata": {},
   "source": [
    "<table border=\"1\" cellspacing=\"0\">\n",
    "    <tbody>\n",
    "        <tr>\n",
    "            <td width=\"100\">&nbsp;</td>\n",
    "            <td width=\"100\"><b>Female</b></td>\n",
    "            <td width=\"100\"><b>Male</b></td>\n",
    "            <td width=\"100\"><b>Total</b></td>\n",
    "        </tr>\n",
    "        <tr>\n",
    "            <td width=\"100\"><b>Current smoker</b></td>\n",
    "            <td width=\"100\">37</td>\n",
    "            <td width=\"100\">31</td>\n",
    "            <td width=\"100\">68</td>\n",
    "        </tr>\n",
    "        <tr>\n",
    "            <td width=\"100\"><b>Nonsmoker</b></td>\n",
    "            <td width=\"100\">148</td>\n",
    "            <td width=\"100\">149</td>\n",
    "            <td width=\"100\">297</td>\n",
    "        </tr>\n",
    "        <tr>\n",
    "            <td width=\"100\"><b>Past smoker</b></td>\n",
    "            <td width=\"100\">24</td>\n",
    "            <td width=\"100\">13</td>\n",
    "            <td width=\"100\">37</td>\n",
    "        </tr>\n",
    "        <tr>\n",
    "            <td width=\"100\"><b>Total</b></td>\n",
    "            <td width=\"100\">209</td>\n",
    "            <td width=\"100\">193</td>\n",
    "            <td width=\"100\"><b>402</b></td>\n",
    "        </tr>\n",
    "    </tbody>\n",
    "</table><br>"
   ]
  },
  {
   "cell_type": "markdown",
   "metadata": {},
   "source": [
    "<table border=\"1\" cellspacing=\"0\">\n",
    "    <tbody>\n",
    "        <tr>\n",
    "            <td width=\"100\"><b>Expected Values</b></td>\n",
    "            <td width=\"100\"><b>Female</b></td>\n",
    "            <td width=\"100\"><b>Male</b></td>\n",
    "            <td width=\"100\"><b>Total</b></td>\n",
    "        </tr>\n",
    "        <tr>\n",
    "            <td width=\"100\"><b>Current smoker</b></td>\n",
    "            <td width=\"100\"><span aria-hidden=\"true\">\\(  \\frac{209*68}{402}  \\)​=35.353</span></td>\n",
    "            <td width=\"100\"><math xmlns=\"http://www.w3.org/1998/Math/MathML\"><semantics><annotation encoding=\"application/x-tex\"></annotation></semantics></math>\\( \\frac{193*68}{402} \\)​<span aria-hidden=\"true\">​=32.647</span></td>\n",
    "            <td width=\"100\">68</td>\n",
    "        </tr>\n",
    "        <tr>\n",
    "            <td width=\"100\"><b>Nonsmoker</b></td>\n",
    "            <td width=\"100\"><math xmlns=\"http://www.w3.org/1998/Math/MathML\"><semantics><annotation encoding=\"application/x-tex\"></annotation></semantics></math>\\( \\frac{209*297}{402} \\)<span aria-hidden=\"true\">=154.41</span></td>\n",
    "            <td width=\"100\"><math xmlns=\"http://www.w3.org/1998/Math/MathML\"><semantics><annotation encoding=\"application/x-tex\"></annotation></semantics></math>\\( \\frac{193*297}{402} \\)​<span aria-hidden=\"true\">​</span><span aria-hidden=\"true\">​=142.59</span></td>\n",
    "            <td\n",
    "                width=\"100\">297</td>\n",
    "        </tr>\n",
    "        <tr>\n",
    "            <td width=\"100\"><b>Past smoker</b></td>\n",
    "            <td width=\"100\"><math xmlns=\"http://www.w3.org/1998/Math/MathML\"><semantics><annotation encoding=\"application/x-tex\"></annotation></semantics></math>\\( \\frac{209*37}{402} \\)​<span aria-hidden=\"true\">​=19.236</span></td>\n",
    "            <td width=\"100\"><math xmlns=\"http://www.w3.org/1998/Math/MathML\"><semantics><annotation encoding=\"application/x-tex\"></annotation></semantics></math>\\( \\frac{193*37}{402} \\)​<span aria-hidden=\"true\">​</span><span aria-hidden=\"true\">​=17.764</span></td>\n",
    "            <td\n",
    "                width=\"100\">37</td>\n",
    "        </tr>\n",
    "        <tr>\n",
    "            <td width=\"100\"><b>Total</b></td>\n",
    "            <td width=\"100\">209</td>\n",
    "            <td width=\"100\">193</td>\n",
    "            <td width=\"100\"><b>402</b></td>\n",
    "        </tr>\n",
    "    </tbody>\n",
    "</table>\n",
    "<p><br></p>"
   ]
  },
  {
   "cell_type": "markdown",
   "metadata": {},
   "source": [
    "<table border=\"1\" cellspacing=\"0\">\n",
    "    <tbody>\n",
    "        <tr>\n",
    "            <td width=\"100\"><b>Squared Distances</b></td>\n",
    "            <td width=\"100\"><b>Female</b></td>\n",
    "            <td width=\"100\"><b>Male</b></td>\n",
    "        </tr>\n",
    "        <tr>\n",
    "            <td width=\"100\"><b>Current smoker</b></td>\n",
    "            <td width=\"100\"><span aria-hidden=\"true\">\\(  \\frac{ (37−35.353)^2 }{35.353}  \\)=0.077</span></td>\n",
    "            <td width=\"100\"><math xmlns=\"http://www.w3.org/1998/Math/MathML\"><semantics><annotation encoding=\"application/x-tex\"></annotation></semantics></math>\\( \\frac{ (31−32.647)^2 }{32.647} \\)<span aria-hidden=\"true\">​=0.083</span></td>\n",
    "        </tr>\n",
    "        <tr>\n",
    "            <td width=\"100\"><b>Nonsmoker</b></td>\n",
    "            <td width=\"100\"><math xmlns=\"http://www.w3.org/1998/Math/MathML\"><semantics><annotation encoding=\"application/x-tex\"></annotation></semantics></math>\\( \\frac{ (148−154.41)^2 }{154.41} \\)<span aria-hidden=\"true\">=0.266</span></td>\n",
    "            <td width=\"100\"><math xmlns=\"http://www.w3.org/1998/Math/MathML\"><semantics><annotation encoding=\"application/x-tex\"></annotation></semantics></math>\\( \\frac{ (149−142.59)^2 }{142.59} \\)<span aria-hidden=\"true\">​=0.288</span></td>\n",
    "        </tr>\n",
    "        <tr>\n",
    "            <td width=\"100\"><b>Past smoker</b></td>\n",
    "            <td width=\"100\"><math xmlns=\"http://www.w3.org/1998/Math/MathML\"><semantics><annotation encoding=\"application/x-tex\"></annotation></semantics></math>\\( \\frac{ (24−19.236)^2 }{19.236} \\)<span aria-hidden=\"true\">=1.18</span></td>\n",
    "            <td width=\"100\"><math xmlns=\"http://www.w3.org/1998/Math/MathML\"><semantics><annotation encoding=\"application/x-tex\"></annotation></semantics></math>\\( \\frac{ (13−17.764)^2 }{17.764} \\)<span aria-hidden=\"true\">=1.277</span></td>\n",
    "        </tr>\n",
    "    </tbody>\n",
    "</table>\n",
    "<p><br></p>"
   ]
  },
  {
   "attachments": {
    "image.png": {
     "image/png": "[encoded data removed]"
    }
   },
   "cell_type": "markdown",
   "metadata": {},
   "source": [
    "![image.png](attachment:image.png)"
   ]
  },
  {
   "cell_type": "markdown",
   "metadata": {},
   "source": [
    "χ2 = 0.077+0.266+1.18+0.083+0.288+1.277 = **3.171**"
   ]
  },
  {
   "cell_type": "code",
   "execution_count": 29,
   "metadata": {
    "scrolled": true
   },
   "outputs": [
    {
     "data": {
      "text/html": [
       "<div>\n",
       "<style scoped>\n",
       "    .dataframe tbody tr th:only-of-type {\n",
       "        vertical-align: middle;\n",
       "    }\n",
       "\n",
       "    .dataframe tbody tr th {\n",
       "        vertical-align: top;\n",
       "    }\n",
       "\n",
       "    .dataframe thead th {\n",
       "        text-align: right;\n",
       "    }\n",
       "</style>\n",
       "<table border=\"1\" class=\"dataframe\">\n",
       "  <thead>\n",
       "    <tr style=\"text-align: right;\">\n",
       "      <th>Gender</th>\n",
       "      <th>Female</th>\n",
       "      <th>Male</th>\n",
       "    </tr>\n",
       "    <tr>\n",
       "      <th>Smoking</th>\n",
       "      <th></th>\n",
       "      <th></th>\n",
       "    </tr>\n",
       "  </thead>\n",
       "  <tbody>\n",
       "    <tr>\n",
       "      <th>Current smoker</th>\n",
       "      <td>37</td>\n",
       "      <td>31</td>\n",
       "    </tr>\n",
       "    <tr>\n",
       "      <th>Nonsmoker</th>\n",
       "      <td>148</td>\n",
       "      <td>149</td>\n",
       "    </tr>\n",
       "    <tr>\n",
       "      <th>Past smoker</th>\n",
       "      <td>24</td>\n",
       "      <td>13</td>\n",
       "    </tr>\n",
       "  </tbody>\n",
       "</table>\n",
       "</div>"
      ],
      "text/plain": [
       "Gender          Female  Male\n",
       "Smoking                     \n",
       "Current smoker      37    31\n",
       "Nonsmoker          148   149\n",
       "Past smoker         24    13"
      ]
     },
     "execution_count": 29,
     "metadata": {},
     "output_type": "execute_result"
    }
   ],
   "source": [
    "ct = pd.crosstab(testset[\"Smoking\"], testset[\"Gender\"], margins=False)\n",
    "ct"
   ]
  },
  {
   "cell_type": "code",
   "execution_count": 30,
   "metadata": {},
   "outputs": [],
   "source": [
    "chi, p, dof, expctd = stats.chi2_contingency(ct)"
   ]
  },
  {
   "cell_type": "code",
   "execution_count": 31,
   "metadata": {},
   "outputs": [
    {
     "name": "stdout",
     "output_type": "stream",
     "text": [
      "statistic:  3.171256766693158\n",
      "statistic:  0.20481904779163018\n"
     ]
    }
   ],
   "source": [
    "print(\"statistic: \", chi)\n",
    "print(\"statistic: \", p)"
   ]
  },
  {
   "attachments": {
    "image.png": {
     "image/png": "[encoded data removed]"
    }
   },
   "cell_type": "markdown",
   "metadata": {},
   "source": [
    "![image.png](attachment:image.png)"
   ]
  },
  {
   "cell_type": "markdown",
   "metadata": {},
   "source": [
    "Since the p-value is greater than our chosen significance level (α = 0.05), we do not reject the null hypothesis. Rather, we conclude that there is not enough evidence to suggest an association between gender and smoking.\n",
    "\n",
    "Based on the results, we can state the following:\n",
    "\n",
    "No association was found between gender and smoking behavior (Χ2(2)> = 3.171, p = 0.205)."
   ]
  },
  {
   "cell_type": "markdown",
   "metadata": {},
   "source": [
    "## PROBLEM STATEMENT"
   ]
  },
  {
   "cell_type": "markdown",
   "metadata": {},
   "source": [
    "Test the association between **class rank** and **living on campus** using a Chi-Square Test of Independence (using α = 0.05)."
   ]
  },
  {
   "cell_type": "code",
   "execution_count": 28,
   "metadata": {},
   "outputs": [
    {
     "data": {
      "text/plain": [
       "0.20484534483444383"
      ]
     },
     "execution_count": 28,
     "metadata": {},
     "output_type": "execute_result"
    }
   ],
   "source": [
    "1- stats.chi2.cdf(3.171, 2) # 2 is degree of freedom 2 = (3-1)*(2-1) \"row and column\""
   ]
  },
  {
   "cell_type": "code",
   "execution_count": null,
   "metadata": {},
   "outputs": [],
   "source": []
  },
  {
   "cell_type": "code",
   "execution_count": null,
   "metadata": {},
   "outputs": [],
   "source": []
  }
 ],
 "metadata": {
  "kernelspec": {
   "display_name": "Python 3",
   "language": "python",
   "name": "python3"
  },
  "language_info": {
   "codemirror_mode": {
    "name": "ipython",
    "version": 3
   },
   "file_extension": ".py",
   "mimetype": "text/x-python",
   "name": "python",
   "nbconvert_exporter": "python",
   "pygments_lexer": "ipython3",
   "version": "3.8.5"
  }
 },
 "nbformat": 4,
 "nbformat_minor": 2
}
