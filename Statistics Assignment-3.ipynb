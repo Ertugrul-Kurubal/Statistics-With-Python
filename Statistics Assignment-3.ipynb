{
 "metadata": {
  "language_info": {
   "codemirror_mode": {
    "name": "ipython",
    "version": 3
   },
   "file_extension": ".py",
   "mimetype": "text/x-python",
   "name": "python",
   "nbconvert_exporter": "python",
   "pygments_lexer": "ipython3",
   "version": "3.9.0"
  },
  "orig_nbformat": 2,
  "kernelspec": {
   "name": "python390jvsc74a57bd043a9cd95aa030499ef934e4da31e07dde54f3fc3a1fd0cc4aeef7f16459ee2ac",
   "display_name": "Python 3.9.0 64-bit"
  }
 },
 "nbformat": 4,
 "nbformat_minor": 2,
 "cells": [
  {
   "source": [
    "## STATISTICS ASSIGNMENT-3"
   ],
   "cell_type": "markdown",
   "metadata": {}
  },
  {
   "cell_type": "code",
   "execution_count": 1,
   "metadata": {},
   "outputs": [],
   "source": [
    "import numpy as np\n",
    "from scipy import stats\n",
    "import matplotlib.pyplot as plt"
   ]
  },
  {
   "source": [
    "### *EXERCISE 1* "
   ],
   "cell_type": "markdown",
   "metadata": {}
  },
  {
   "source": [
    "The Triple Blood Test screens a pregnant woman and provides as estimated risk of her baby being born with the genetic disorder Down syndrome. A study of 5282 women aged 35 or over analyzed the Triple Blood Test to test its accuracy.\n",
    "\n",
    "1. Given that a test result is negative, show that the probability the fetus actually has Down syndrome is P(D | NEG) = 0.0015.\n",
    "\n",
    "2. Is P(D | NEG) equal to P(NEG | D)? If so, explain why. If not, find P(NEG | D)."
   ],
   "cell_type": "markdown",
   "metadata": {}
  },
  {
   "source": [
    "1. P(D | NEG) and P(NEG | D) are not equal each other. Because this is conditional probability from Bayes' Theorem so conditions are different.\n",
    "\n",
    "2. P(NEG | D) = (P(D | NEG)*P(NEG))/P(D)\n",
    "\n",
    "   P(NEG | D) = q1 \n"
   ],
   "cell_type": "markdown",
   "metadata": {}
  },
  {
   "cell_type": "code",
   "execution_count": 10,
   "metadata": {},
   "outputs": [
    {
     "output_type": "execute_result",
     "data": {
      "text/plain": [
       "0.11"
      ]
     },
     "metadata": {},
     "execution_count": 10
    }
   ],
   "source": [
    "q1 = (0.0015*0.7434)/0.0102\n",
    "round(q1,2)"
   ]
  },
  {
   "source": [
    "### *EXERCISE 2*"
   ],
   "cell_type": "markdown",
   "metadata": {}
  },
  {
   "source": [
    "Males and females are observed to react differently to a given set of circumstances. It has been observed that 70% of the females react positively to these circumstances, whereas only 40% of males react positively -. A group of 20 people, 15 female and 5 male, was subjected to these circumstances, and the subjects were asked to describe their reactions on a written questionnaire. A response picked at random from the 20 was negative. What is the probability that it was that of a male? "
   ],
   "cell_type": "markdown",
   "metadata": {}
  },
  {
   "source": [
    "women = 15; pos_woman = 15*0.7 = 10,5; neg_women = 15-10.5 = 4.5\n",
    "\n",
    "men = 5; pos_man = 5*0.4 = 2; neg_men = 5-2 = 3\n",
    "\n",
    "probability of neg_men = neg_men/total_neg = q2"
   ],
   "cell_type": "markdown",
   "metadata": {}
  },
  {
   "cell_type": "code",
   "execution_count": 12,
   "metadata": {},
   "outputs": [
    {
     "output_type": "execute_result",
     "data": {
      "text/plain": [
       "0.4"
      ]
     },
     "metadata": {},
     "execution_count": 12
    }
   ],
   "source": [
    "q2 = 3/7.5\n",
    "q2"
   ]
  },
  {
   "source": [
    "### *EXERCISE 3*"
   ],
   "cell_type": "markdown",
   "metadata": {}
  },
  {
   "source": [
    "Answer the following questions by looking at the distribution table or coding with Python.\n",
    "\n",
    "1. A salesperson has found that the probability of a sale on a single contact is approximately .3. If the salesperson contacts 10 prospects, what is the approximate probability of making at least one sale?\n",
    "\n",
    "2. Ten coins are tossed simultaneously. Find the probability of getting\n",
    "\n",
    "    (i) at least seven heads\n",
    "\n",
    "    (ii) exactly seven heads\n",
    "\n",
    "    (iii)at most seven heads \n"
   ],
   "cell_type": "markdown",
   "metadata": {}
  },
  {
   "source": [
    "1."
   ],
   "cell_type": "markdown",
   "metadata": {}
  },
  {
   "cell_type": "code",
   "execution_count": 23,
   "metadata": {},
   "outputs": [],
   "source": [
    "n_1 = 10 # trail\n",
    "p_1 = 0.3 # probability\n",
    "x = 1 # success"
   ]
  },
  {
   "cell_type": "code",
   "execution_count": 24,
   "metadata": {},
   "outputs": [],
   "source": [
    "sales_success = stats.binom(n_1,p_1)"
   ]
  },
  {
   "cell_type": "code",
   "execution_count": 25,
   "metadata": {},
   "outputs": [
    {
     "output_type": "execute_result",
     "data": {
      "text/plain": [
       "0.9717524751000001"
      ]
     },
     "metadata": {},
     "execution_count": 25
    }
   ],
   "source": [
    "1-sales_success.cdf(0)"
   ]
  },
  {
   "source": [
    "2."
   ],
   "cell_type": "markdown",
   "metadata": {}
  },
  {
   "cell_type": "code",
   "execution_count": 26,
   "metadata": {},
   "outputs": [],
   "source": [
    "n_2 = 10 # trial\n",
    "p_2 = 0.5 # probability"
   ]
  },
  {
   "cell_type": "code",
   "execution_count": 27,
   "metadata": {},
   "outputs": [],
   "source": [
    "tossed = stats.binom(n_2,p_2)"
   ]
  },
  {
   "source": [
    "i. P(X >= 7)"
   ],
   "cell_type": "markdown",
   "metadata": {}
  },
  {
   "cell_type": "code",
   "execution_count": 29,
   "metadata": {},
   "outputs": [
    {
     "output_type": "execute_result",
     "data": {
      "text/plain": [
       "0.171875"
      ]
     },
     "metadata": {},
     "execution_count": 29
    }
   ],
   "source": [
    "1-tossed.cdf(6)"
   ]
  },
  {
   "source": [
    "ii. P(X = 7)"
   ],
   "cell_type": "markdown",
   "metadata": {}
  },
  {
   "cell_type": "code",
   "execution_count": 30,
   "metadata": {},
   "outputs": [
    {
     "output_type": "execute_result",
     "data": {
      "text/plain": [
       "0.11718750000000014"
      ]
     },
     "metadata": {},
     "execution_count": 30
    }
   ],
   "source": [
    "tossed.pmf(7)"
   ]
  },
  {
   "source": [
    "iii. P(X > 7)"
   ],
   "cell_type": "markdown",
   "metadata": {}
  },
  {
   "cell_type": "code",
   "execution_count": 32,
   "metadata": {},
   "outputs": [
    {
     "output_type": "execute_result",
     "data": {
      "text/plain": [
       "0.0546875"
      ]
     },
     "metadata": {},
     "execution_count": 32
    }
   ],
   "source": [
    "1-tossed.cdf(7)"
   ]
  },
  {
   "source": [
    "### *EXERCISE 4*"
   ],
   "cell_type": "markdown",
   "metadata": {}
  },
  {
   "source": [
    "1. A type of tree has seedlings dispersed in a large area with a mean density of five seedlings per square yard. What is the probability that none of ten randomly selected  one-square yard regions have seedlings?\n",
    "\n",
    "2. Let Y denote a random variable that has a Poisson distribution with mean λ = 2. Find\n",
    "\n",
    "    (i) P(Y = 4)\n",
    "\n",
    "    (ii) P(Y ≥ 4)\n",
    "\n",
    "    (iii)P(Y < 4)\n",
    "\n",
    "    (iv)P(Y ≥ 4 | Y ≥ 2 )"
   ],
   "cell_type": "markdown",
   "metadata": {}
  },
  {
   "source": [
    "1. "
   ],
   "cell_type": "markdown",
   "metadata": {}
  },
  {
   "cell_type": "code",
   "execution_count": 5,
   "metadata": {},
   "outputs": [
    {
     "output_type": "execute_result",
     "data": {
      "text/plain": [
       "0.9818672112921781"
      ]
     },
     "metadata": {},
     "execution_count": 5
    }
   ],
   "source": [
    "1-stats.poisson.pmf(10,5)"
   ]
  },
  {
   "source": [
    "2. Poisson \n",
    "λ = 2\n",
    "\n",
    "    mu = λ"
   ],
   "cell_type": "markdown",
   "metadata": {}
  },
  {
   "source": [
    "i. P(Y = 4)"
   ],
   "cell_type": "markdown",
   "metadata": {}
  },
  {
   "cell_type": "code",
   "execution_count": 2,
   "metadata": {},
   "outputs": [
    {
     "output_type": "execute_result",
     "data": {
      "text/plain": [
       "0.09022352215774178"
      ]
     },
     "metadata": {},
     "execution_count": 2
    }
   ],
   "source": [
    "stats.poisson.pmf(4, 2) # poisson(k,mu)"
   ]
  },
  {
   "source": [
    "ii. P(Y ≥ 4)"
   ],
   "cell_type": "markdown",
   "metadata": {}
  },
  {
   "cell_type": "code",
   "execution_count": 3,
   "metadata": {},
   "outputs": [
    {
     "output_type": "execute_result",
     "data": {
      "text/plain": [
       "0.14287653950145296"
      ]
     },
     "metadata": {},
     "execution_count": 3
    }
   ],
   "source": [
    "1-stats.poisson.cdf(3,2)"
   ]
  },
  {
   "source": [
    "iii. P(Y < 4)"
   ],
   "cell_type": "markdown",
   "metadata": {}
  },
  {
   "cell_type": "code",
   "execution_count": 6,
   "metadata": {},
   "outputs": [
    {
     "output_type": "execute_result",
     "data": {
      "text/plain": [
       "0.8571234604985472"
      ]
     },
     "metadata": {},
     "execution_count": 6
    }
   ],
   "source": [
    "stats.poisson.cdf(4,2)-stats.poisson.pmf(4,2)"
   ]
  },
  {
   "cell_type": "code",
   "execution_count": 7,
   "metadata": {},
   "outputs": [
    {
     "output_type": "execute_result",
     "data": {
      "text/plain": [
       "0.857123460498547"
      ]
     },
     "metadata": {},
     "execution_count": 7
    }
   ],
   "source": [
    "stats.poisson.cdf(3,2)"
   ]
  },
  {
   "source": [
    "iv. P(Y ≥ 4 | Y ≥ 2 )"
   ],
   "cell_type": "markdown",
   "metadata": {}
  },
  {
   "cell_type": "code",
   "execution_count": 4,
   "metadata": {},
   "outputs": [
    {
     "output_type": "execute_result",
     "data": {
      "text/plain": [
       "0.736870689791615"
      ]
     },
     "metadata": {},
     "execution_count": 4
    }
   ],
   "source": [
    "(1-stats.poisson.cdf(3,2))+(1-stats.poisson.cdf(1,2))"
   ]
  },
  {
   "source": [
    "### *EXERCISE5*"
   ],
   "cell_type": "markdown",
   "metadata": {}
  },
  {
   "cell_type": "code",
   "execution_count": null,
   "metadata": {},
   "outputs": [],
   "source": []
  }
 ]
}