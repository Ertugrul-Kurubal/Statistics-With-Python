{
 "metadata": {
  "language_info": {
   "codemirror_mode": {
    "name": "ipython",
    "version": 3
   },
   "file_extension": ".py",
   "mimetype": "text/x-python",
   "name": "python",
   "nbconvert_exporter": "python",
   "pygments_lexer": "ipython3",
   "version": "3.9.0"
  },
  "orig_nbformat": 2,
  "kernelspec": {
   "name": "python390jvsc74a57bd043a9cd95aa030499ef934e4da31e07dde54f3fc3a1fd0cc4aeef7f16459ee2ac",
   "display_name": "Python 3.9.0 64-bit"
  }
 },
 "nbformat": 4,
 "nbformat_minor": 2,
 "cells": [
  {
   "cell_type": "code",
   "execution_count": 1,
   "metadata": {},
   "outputs": [],
   "source": [
    "import numpy as np\n",
    "import pandas as pd\n",
    "from scipy import stats "
   ]
  },
  {
   "source": [
    "### *EXERCISE 1*"
   ],
   "cell_type": "markdown",
   "metadata": {}
  },
  {
   "source": [
    "The hourly wages in a particular industry are normally distributed with mean $13.20 and standard deviation $2.50. A company in this industry employs 40 workers, paying them an average of $12.20 per hour. Can this company be accused of paying substandard wages? Use an α = .01 level test."
   ],
   "cell_type": "markdown",
   "metadata": {}
  },
  {
   "source": [
    "H_0 = \"This company can't  be accused of paying substandard wages?\"\n",
    "\n",
    "H_A = \"This company can  be accused of paying substandard wages?\""
   ],
   "cell_type": "markdown",
   "metadata": {}
  },
  {
   "cell_type": "code",
   "execution_count": 3,
   "metadata": {},
   "outputs": [],
   "source": [
    "x_bar = 12.20 # sample mean\n",
    "mu = 13.20 # population mean\n",
    "sigma = 2.50 # population std\n",
    "n = 40 # sample\n",
    "alpha = 0.01 # significance level"
   ]
  },
  {
   "cell_type": "code",
   "execution_count": 4,
   "metadata": {},
   "outputs": [
    {
     "output_type": "execute_result",
     "data": {
      "text/plain": [
       "-2.5298221281347035"
      ]
     },
     "metadata": {},
     "execution_count": 4
    }
   ],
   "source": [
    "z = (x_bar - mu)/(sigma/np.sqrt(n))\n",
    "z"
   ]
  },
  {
   "cell_type": "code",
   "execution_count": 5,
   "metadata": {},
   "outputs": [
    {
     "output_type": "execute_result",
     "data": {
      "text/plain": [
       "0.9942939818069991"
      ]
     },
     "metadata": {},
     "execution_count": 5
    }
   ],
   "source": [
    "p_value = 1 - stats.norm.cdf(z)\n",
    "p_value"
   ]
  },
  {
   "cell_type": "code",
   "execution_count": 6,
   "metadata": {},
   "outputs": [
    {
     "output_type": "stream",
     "name": "stdout",
     "text": [
      "Fail To Reject The Null Hipothesis\n"
     ]
    }
   ],
   "source": [
    "if p_value<alpha:\n",
    "    print(\"Reject The Null Hipothesis\")\n",
    "else:\n",
    "    print(\"Fail To Reject The Null Hipothesis\")"
   ]
  },
  {
   "source": [
    "### *EXERCISE 2*"
   ],
   "cell_type": "markdown",
   "metadata": {}
  },
  {
   "source": [
    "Shear strength measurements derived from unconfined compression tests for two types of soils gave the results shown in the following document (measurements in tons per square foot). Do the soils appear to differ with respect to average shear strength, at the 1% significance level?"
   ],
   "cell_type": "markdown",
   "metadata": {}
  },
  {
   "source": [
    "H_0 = \"The soils don't appear to differ with respect to average shear strength\"\n",
    "\n",
    "H_A = \"The soils appear to differ with respect to average shear strength\""
   ],
   "cell_type": "markdown",
   "metadata": {}
  },
  {
   "cell_type": "code",
   "execution_count": 6,
   "metadata": {},
   "outputs": [],
   "source": [
    "soil = pd.read_csv(\"soil.csv\")"
   ]
  },
  {
   "cell_type": "code",
   "execution_count": 11,
   "metadata": {},
   "outputs": [
    {
     "output_type": "execute_result",
     "data": {
      "text/plain": [
       "    Soil1  Soil2\n",
       "0   1.442  1.364\n",
       "1   1.943  1.878\n",
       "2   1.110  1.337\n",
       "3   1.912  1.828\n",
       "4   1.553  1.371\n",
       "5   1.641  1.428\n",
       "6   1.499  1.119\n",
       "7   1.347  1.373\n",
       "8   1.685  1.589\n",
       "9   1.578  1.714\n",
       "10  1.866  1.260\n",
       "11  1.653  1.492\n",
       "12  1.665  1.395\n",
       "13  1.640  1.778\n",
       "14  1.976  1.611\n",
       "15  1.754  1.202\n",
       "16  1.589  1.542\n",
       "17  1.976  1.094\n",
       "18  1.863  1.557\n",
       "19  1.932  1.053\n",
       "20  1.570  1.183\n",
       "21  1.613  1.367\n",
       "22  2.054  1.144\n",
       "23  1.550  1.151\n",
       "24  1.714  1.561\n",
       "25  1.896  1.192\n",
       "26  1.737  1.489\n",
       "27  1.740  1.379\n",
       "28  1.708  1.501\n",
       "29  1.548  1.277\n",
       "30    NaN  1.593\n",
       "31    NaN  1.172\n",
       "32    NaN  1.510\n",
       "33    NaN  1.740\n",
       "34    NaN  1.355"
      ],
      "text/html": "<div>\n<style scoped>\n    .dataframe tbody tr th:only-of-type {\n        vertical-align: middle;\n    }\n\n    .dataframe tbody tr th {\n        vertical-align: top;\n    }\n\n    .dataframe thead th {\n        text-align: right;\n    }\n</style>\n<table border=\"1\" class=\"dataframe\">\n  <thead>\n    <tr style=\"text-align: right;\">\n      <th></th>\n      <th>Soil1</th>\n      <th>Soil2</th>\n    </tr>\n  </thead>\n  <tbody>\n    <tr>\n      <th>0</th>\n      <td>1.442</td>\n      <td>1.364</td>\n    </tr>\n    <tr>\n      <th>1</th>\n      <td>1.943</td>\n      <td>1.878</td>\n    </tr>\n    <tr>\n      <th>2</th>\n      <td>1.110</td>\n      <td>1.337</td>\n    </tr>\n    <tr>\n      <th>3</th>\n      <td>1.912</td>\n      <td>1.828</td>\n    </tr>\n    <tr>\n      <th>4</th>\n      <td>1.553</td>\n      <td>1.371</td>\n    </tr>\n    <tr>\n      <th>5</th>\n      <td>1.641</td>\n      <td>1.428</td>\n    </tr>\n    <tr>\n      <th>6</th>\n      <td>1.499</td>\n      <td>1.119</td>\n    </tr>\n    <tr>\n      <th>7</th>\n      <td>1.347</td>\n      <td>1.373</td>\n    </tr>\n    <tr>\n      <th>8</th>\n      <td>1.685</td>\n      <td>1.589</td>\n    </tr>\n    <tr>\n      <th>9</th>\n      <td>1.578</td>\n      <td>1.714</td>\n    </tr>\n    <tr>\n      <th>10</th>\n      <td>1.866</td>\n      <td>1.260</td>\n    </tr>\n    <tr>\n      <th>11</th>\n      <td>1.653</td>\n      <td>1.492</td>\n    </tr>\n    <tr>\n      <th>12</th>\n      <td>1.665</td>\n      <td>1.395</td>\n    </tr>\n    <tr>\n      <th>13</th>\n      <td>1.640</td>\n      <td>1.778</td>\n    </tr>\n    <tr>\n      <th>14</th>\n      <td>1.976</td>\n      <td>1.611</td>\n    </tr>\n    <tr>\n      <th>15</th>\n      <td>1.754</td>\n      <td>1.202</td>\n    </tr>\n    <tr>\n      <th>16</th>\n      <td>1.589</td>\n      <td>1.542</td>\n    </tr>\n    <tr>\n      <th>17</th>\n      <td>1.976</td>\n      <td>1.094</td>\n    </tr>\n    <tr>\n      <th>18</th>\n      <td>1.863</td>\n      <td>1.557</td>\n    </tr>\n    <tr>\n      <th>19</th>\n      <td>1.932</td>\n      <td>1.053</td>\n    </tr>\n    <tr>\n      <th>20</th>\n      <td>1.570</td>\n      <td>1.183</td>\n    </tr>\n    <tr>\n      <th>21</th>\n      <td>1.613</td>\n      <td>1.367</td>\n    </tr>\n    <tr>\n      <th>22</th>\n      <td>2.054</td>\n      <td>1.144</td>\n    </tr>\n    <tr>\n      <th>23</th>\n      <td>1.550</td>\n      <td>1.151</td>\n    </tr>\n    <tr>\n      <th>24</th>\n      <td>1.714</td>\n      <td>1.561</td>\n    </tr>\n    <tr>\n      <th>25</th>\n      <td>1.896</td>\n      <td>1.192</td>\n    </tr>\n    <tr>\n      <th>26</th>\n      <td>1.737</td>\n      <td>1.489</td>\n    </tr>\n    <tr>\n      <th>27</th>\n      <td>1.740</td>\n      <td>1.379</td>\n    </tr>\n    <tr>\n      <th>28</th>\n      <td>1.708</td>\n      <td>1.501</td>\n    </tr>\n    <tr>\n      <th>29</th>\n      <td>1.548</td>\n      <td>1.277</td>\n    </tr>\n    <tr>\n      <th>30</th>\n      <td>NaN</td>\n      <td>1.593</td>\n    </tr>\n    <tr>\n      <th>31</th>\n      <td>NaN</td>\n      <td>1.172</td>\n    </tr>\n    <tr>\n      <th>32</th>\n      <td>NaN</td>\n      <td>1.510</td>\n    </tr>\n    <tr>\n      <th>33</th>\n      <td>NaN</td>\n      <td>1.740</td>\n    </tr>\n    <tr>\n      <th>34</th>\n      <td>NaN</td>\n      <td>1.355</td>\n    </tr>\n  </tbody>\n</table>\n</div>"
     },
     "metadata": {},
     "execution_count": 11
    }
   ],
   "source": [
    "soil # we have a few missing data"
   ]
  },
  {
   "cell_type": "code",
   "execution_count": 24,
   "metadata": {},
   "outputs": [],
   "source": [
    "soil.dropna(inplace=True) # we dropped missing data"
   ]
  },
  {
   "cell_type": "code",
   "execution_count": 26,
   "metadata": {},
   "outputs": [
    {
     "output_type": "execute_result",
     "data": {
      "text/plain": [
       "   Soil1  Soil2\n",
       "0  1.442  1.364\n",
       "1  1.943  1.878\n",
       "2  1.110  1.337\n",
       "3  1.912  1.828\n",
       "4  1.553  1.371"
      ],
      "text/html": "<div>\n<style scoped>\n    .dataframe tbody tr th:only-of-type {\n        vertical-align: middle;\n    }\n\n    .dataframe tbody tr th {\n        vertical-align: top;\n    }\n\n    .dataframe thead th {\n        text-align: right;\n    }\n</style>\n<table border=\"1\" class=\"dataframe\">\n  <thead>\n    <tr style=\"text-align: right;\">\n      <th></th>\n      <th>Soil1</th>\n      <th>Soil2</th>\n    </tr>\n  </thead>\n  <tbody>\n    <tr>\n      <th>0</th>\n      <td>1.442</td>\n      <td>1.364</td>\n    </tr>\n    <tr>\n      <th>1</th>\n      <td>1.943</td>\n      <td>1.878</td>\n    </tr>\n    <tr>\n      <th>2</th>\n      <td>1.110</td>\n      <td>1.337</td>\n    </tr>\n    <tr>\n      <th>3</th>\n      <td>1.912</td>\n      <td>1.828</td>\n    </tr>\n    <tr>\n      <th>4</th>\n      <td>1.553</td>\n      <td>1.371</td>\n    </tr>\n  </tbody>\n</table>\n</div>"
     },
     "metadata": {},
     "execution_count": 26
    }
   ],
   "source": [
    "soil.head() "
   ]
  },
  {
   "cell_type": "code",
   "execution_count": 48,
   "metadata": {},
   "outputs": [
    {
     "output_type": "execute_result",
     "data": {
      "text/plain": [
       "0    0.078\n",
       "1    0.065\n",
       "2   -0.227\n",
       "3    0.084\n",
       "4    0.182\n",
       "dtype: float64"
      ]
     },
     "metadata": {},
     "execution_count": 48
    }
   ],
   "source": [
    "diff = soil.Soil1 - soil.Soil2 # we calculate soil type difference\n",
    "diff.head()"
   ]
  },
  {
   "cell_type": "code",
   "execution_count": 49,
   "metadata": {},
   "outputs": [
    {
     "output_type": "execute_result",
     "data": {
      "text/plain": [
       "0.28416666666666673"
      ]
     },
     "metadata": {},
     "execution_count": 49
    }
   ],
   "source": [
    "d_mean = diff.mean()\n",
    "d_mean"
   ]
  },
  {
   "cell_type": "code",
   "execution_count": 50,
   "metadata": {},
   "outputs": [
    {
     "output_type": "execute_result",
     "data": {
      "text/plain": [
       "0.29312937985356113"
      ]
     },
     "metadata": {},
     "execution_count": 50
    }
   ],
   "source": [
    "d_std = diff.std()\n",
    "d_std"
   ]
  },
  {
   "cell_type": "code",
   "execution_count": 51,
   "metadata": {},
   "outputs": [
    {
     "output_type": "execute_result",
     "data": {
      "text/plain": [
       "30"
      ]
     },
     "metadata": {},
     "execution_count": 51
    }
   ],
   "source": [
    "n = len(soil)\n",
    "n"
   ]
  },
  {
   "cell_type": "code",
   "execution_count": 52,
   "metadata": {},
   "outputs": [
    {
     "output_type": "execute_result",
     "data": {
      "text/plain": [
       "5.309754126390885"
      ]
     },
     "metadata": {},
     "execution_count": 52
    }
   ],
   "source": [
    "t_0 = d_mean/(d_std/np.sqrt(n))\n",
    "t_0"
   ]
  },
  {
   "cell_type": "code",
   "execution_count": 54,
   "metadata": {},
   "outputs": [
    {
     "output_type": "execute_result",
     "data": {
      "text/plain": [
       "1.0725240883413534e-05"
      ]
     },
     "metadata": {},
     "execution_count": 54
    }
   ],
   "source": [
    "p_value_2 = 2*(1-stats.t.cdf(t_0,n-1))\n",
    "p_value_2"
   ]
  },
  {
   "cell_type": "code",
   "execution_count": 55,
   "metadata": {},
   "outputs": [
    {
     "output_type": "stream",
     "name": "stdout",
     "text": [
      "Reject The Null Hipothesis\n"
     ]
    }
   ],
   "source": [
    "alpha_2 = 0.01\n",
    "if p_value_2<alpha_2:\n",
    "    print(\"Reject The Null Hipothesis\")\n",
    "else:\n",
    "    print(\"Fail To Reject The Null Hipothesis\")"
   ]
  },
  {
   "source": [
    "### *EXERCISE 3*"
   ],
   "cell_type": "markdown",
   "metadata": {}
  },
  {
   "source": [
    "The following dataset is based on data provided by the World Bank (https://datacatalog.worldbank.org/dataset/education-statistics). World Bank Edstats.  2015 PISA Test Dataset\n",
    "\n",
    "1. Get descriptive statistics (the central tendency, dispersion and shape of a dataset’s distribution) for each continent group (AS, EU, AF, NA, SA, OC).\n",
    "\n",
    "2. Determine whether there is any difference (on the average) for the math scores among European (EU) and Asian (AS) countries (assume normality and equal variances). Draw side-by-side box plots."
   ],
   "cell_type": "markdown",
   "metadata": {}
  },
  {
   "source": [
    "1."
   ],
   "cell_type": "markdown",
   "metadata": {}
  },
  {
   "cell_type": "code",
   "execution_count": 3,
   "metadata": {},
   "outputs": [],
   "source": [
    "pisa = pd.read_csv(\"2015 PISA Test.csv\")"
   ]
  },
  {
   "cell_type": "code",
   "execution_count": 4,
   "metadata": {},
   "outputs": [
    {
     "output_type": "execute_result",
     "data": {
      "text/plain": [
       "  Country Code Continent_Code  internet_users_per_100      Math   Reading  \\\n",
       "0          ALB             EU               63.252933  413.1570  405.2588   \n",
       "1          ARE             AS               90.500000  427.4827  433.5423   \n",
       "2          ARG             SA               68.043064  409.0333  425.3031   \n",
       "3          AUS             OC               84.560519  493.8962  502.9006   \n",
       "4          AUT             EU               83.940142  496.7423  484.8656   \n",
       "\n",
       "    Science  \n",
       "0  427.2250  \n",
       "1  436.7311  \n",
       "2  432.2262  \n",
       "3  509.9939  \n",
       "4  495.0375  "
      ],
      "text/html": "<div>\n<style scoped>\n    .dataframe tbody tr th:only-of-type {\n        vertical-align: middle;\n    }\n\n    .dataframe tbody tr th {\n        vertical-align: top;\n    }\n\n    .dataframe thead th {\n        text-align: right;\n    }\n</style>\n<table border=\"1\" class=\"dataframe\">\n  <thead>\n    <tr style=\"text-align: right;\">\n      <th></th>\n      <th>Country Code</th>\n      <th>Continent_Code</th>\n      <th>internet_users_per_100</th>\n      <th>Math</th>\n      <th>Reading</th>\n      <th>Science</th>\n    </tr>\n  </thead>\n  <tbody>\n    <tr>\n      <th>0</th>\n      <td>ALB</td>\n      <td>EU</td>\n      <td>63.252933</td>\n      <td>413.1570</td>\n      <td>405.2588</td>\n      <td>427.2250</td>\n    </tr>\n    <tr>\n      <th>1</th>\n      <td>ARE</td>\n      <td>AS</td>\n      <td>90.500000</td>\n      <td>427.4827</td>\n      <td>433.5423</td>\n      <td>436.7311</td>\n    </tr>\n    <tr>\n      <th>2</th>\n      <td>ARG</td>\n      <td>SA</td>\n      <td>68.043064</td>\n      <td>409.0333</td>\n      <td>425.3031</td>\n      <td>432.2262</td>\n    </tr>\n    <tr>\n      <th>3</th>\n      <td>AUS</td>\n      <td>OC</td>\n      <td>84.560519</td>\n      <td>493.8962</td>\n      <td>502.9006</td>\n      <td>509.9939</td>\n    </tr>\n    <tr>\n      <th>4</th>\n      <td>AUT</td>\n      <td>EU</td>\n      <td>83.940142</td>\n      <td>496.7423</td>\n      <td>484.8656</td>\n      <td>495.0375</td>\n    </tr>\n  </tbody>\n</table>\n</div>"
     },
     "metadata": {},
     "execution_count": 4
    }
   ],
   "source": [
    "pisa.head()"
   ]
  },
  {
   "cell_type": "code",
   "execution_count": 4,
   "metadata": {},
   "outputs": [
    {
     "output_type": "execute_result",
     "data": {
      "text/plain": [
       "(70, 6)"
      ]
     },
     "metadata": {},
     "execution_count": 4
    }
   ],
   "source": [
    "pisa.shape"
   ]
  },
  {
   "cell_type": "code",
   "execution_count": 5,
   "metadata": {},
   "outputs": [
    {
     "output_type": "execute_result",
     "data": {
      "text/plain": [
       "                internet_users_per_100        Math     Reading     Science\n",
       "Continent_Code                                                            \n",
       "AF                           43.359918  363.212100  355.457400  381.074250\n",
       "AS                           68.455613  466.216647  454.059682  467.945847\n",
       "EU                           77.274888  477.981449  476.164608  478.299381\n",
       "OC                           86.391704  494.559750  506.085650  511.648700\n",
       "SA                           60.180494  402.887700  425.359229  421.747186"
      ],
      "text/html": "<div>\n<style scoped>\n    .dataframe tbody tr th:only-of-type {\n        vertical-align: middle;\n    }\n\n    .dataframe tbody tr th {\n        vertical-align: top;\n    }\n\n    .dataframe thead th {\n        text-align: right;\n    }\n</style>\n<table border=\"1\" class=\"dataframe\">\n  <thead>\n    <tr style=\"text-align: right;\">\n      <th></th>\n      <th>internet_users_per_100</th>\n      <th>Math</th>\n      <th>Reading</th>\n      <th>Science</th>\n    </tr>\n    <tr>\n      <th>Continent_Code</th>\n      <th></th>\n      <th></th>\n      <th></th>\n      <th></th>\n    </tr>\n  </thead>\n  <tbody>\n    <tr>\n      <th>AF</th>\n      <td>43.359918</td>\n      <td>363.212100</td>\n      <td>355.457400</td>\n      <td>381.074250</td>\n    </tr>\n    <tr>\n      <th>AS</th>\n      <td>68.455613</td>\n      <td>466.216647</td>\n      <td>454.059682</td>\n      <td>467.945847</td>\n    </tr>\n    <tr>\n      <th>EU</th>\n      <td>77.274888</td>\n      <td>477.981449</td>\n      <td>476.164608</td>\n      <td>478.299381</td>\n    </tr>\n    <tr>\n      <th>OC</th>\n      <td>86.391704</td>\n      <td>494.559750</td>\n      <td>506.085650</td>\n      <td>511.648700</td>\n    </tr>\n    <tr>\n      <th>SA</th>\n      <td>60.180494</td>\n      <td>402.887700</td>\n      <td>425.359229</td>\n      <td>421.747186</td>\n    </tr>\n  </tbody>\n</table>\n</div>"
     },
     "metadata": {},
     "execution_count": 5
    }
   ],
   "source": [
    "pisa.groupby(\"Continent_Code\").mean() # Mean"
   ]
  },
  {
   "cell_type": "code",
   "execution_count": 6,
   "metadata": {},
   "outputs": [
    {
     "output_type": "execute_result",
     "data": {
      "text/plain": [
       "                internet_users_per_100       Math    Reading    Science\n",
       "Continent_Code                                                         \n",
       "AF                           43.359918  363.21210  355.45740  381.07425\n",
       "AS                           74.000000  459.81600  433.54230  456.48360\n",
       "EU                           76.184000  489.72870  487.25010  490.22500\n",
       "OC                           86.391704  494.55975  506.08565  511.64870\n",
       "SA                           64.289000  409.03330  425.30310  424.59050"
      ],
      "text/html": "<div>\n<style scoped>\n    .dataframe tbody tr th:only-of-type {\n        vertical-align: middle;\n    }\n\n    .dataframe tbody tr th {\n        vertical-align: top;\n    }\n\n    .dataframe thead th {\n        text-align: right;\n    }\n</style>\n<table border=\"1\" class=\"dataframe\">\n  <thead>\n    <tr style=\"text-align: right;\">\n      <th></th>\n      <th>internet_users_per_100</th>\n      <th>Math</th>\n      <th>Reading</th>\n      <th>Science</th>\n    </tr>\n    <tr>\n      <th>Continent_Code</th>\n      <th></th>\n      <th></th>\n      <th></th>\n      <th></th>\n    </tr>\n  </thead>\n  <tbody>\n    <tr>\n      <th>AF</th>\n      <td>43.359918</td>\n      <td>363.21210</td>\n      <td>355.45740</td>\n      <td>381.07425</td>\n    </tr>\n    <tr>\n      <th>AS</th>\n      <td>74.000000</td>\n      <td>459.81600</td>\n      <td>433.54230</td>\n      <td>456.48360</td>\n    </tr>\n    <tr>\n      <th>EU</th>\n      <td>76.184000</td>\n      <td>489.72870</td>\n      <td>487.25010</td>\n      <td>490.22500</td>\n    </tr>\n    <tr>\n      <th>OC</th>\n      <td>86.391704</td>\n      <td>494.55975</td>\n      <td>506.08565</td>\n      <td>511.64870</td>\n    </tr>\n    <tr>\n      <th>SA</th>\n      <td>64.289000</td>\n      <td>409.03330</td>\n      <td>425.30310</td>\n      <td>424.59050</td>\n    </tr>\n  </tbody>\n</table>\n</div>"
     },
     "metadata": {},
     "execution_count": 6
    }
   ],
   "source": [
    "pisa.groupby(\"Continent_Code\").median() # Median"
   ]
  },
  {
   "cell_type": "code",
   "execution_count": 10,
   "metadata": {},
   "outputs": [
    {
     "output_type": "execute_result",
     "data": {
      "text/plain": [
       "                internet_users_per_100       Math    Reading    Science\n",
       "Continent_Code                                                         \n",
       "AF                            7.297226   5.099513   7.916909   7.536556\n",
       "AS                           21.086060  64.356490  57.048962  56.671371\n",
       "EU                           12.425773  35.150403  37.720545  34.450616\n",
       "OC                            2.589686   0.938401   4.504341   2.340241\n",
       "SA                            9.772455  18.128894  19.709688  18.470319"
      ],
      "text/html": "<div>\n<style scoped>\n    .dataframe tbody tr th:only-of-type {\n        vertical-align: middle;\n    }\n\n    .dataframe tbody tr th {\n        vertical-align: top;\n    }\n\n    .dataframe thead th {\n        text-align: right;\n    }\n</style>\n<table border=\"1\" class=\"dataframe\">\n  <thead>\n    <tr style=\"text-align: right;\">\n      <th></th>\n      <th>internet_users_per_100</th>\n      <th>Math</th>\n      <th>Reading</th>\n      <th>Science</th>\n    </tr>\n    <tr>\n      <th>Continent_Code</th>\n      <th></th>\n      <th></th>\n      <th></th>\n      <th></th>\n    </tr>\n  </thead>\n  <tbody>\n    <tr>\n      <th>AF</th>\n      <td>7.297226</td>\n      <td>5.099513</td>\n      <td>7.916909</td>\n      <td>7.536556</td>\n    </tr>\n    <tr>\n      <th>AS</th>\n      <td>21.086060</td>\n      <td>64.356490</td>\n      <td>57.048962</td>\n      <td>56.671371</td>\n    </tr>\n    <tr>\n      <th>EU</th>\n      <td>12.425773</td>\n      <td>35.150403</td>\n      <td>37.720545</td>\n      <td>34.450616</td>\n    </tr>\n    <tr>\n      <th>OC</th>\n      <td>2.589686</td>\n      <td>0.938401</td>\n      <td>4.504341</td>\n      <td>2.340241</td>\n    </tr>\n    <tr>\n      <th>SA</th>\n      <td>9.772455</td>\n      <td>18.128894</td>\n      <td>19.709688</td>\n      <td>18.470319</td>\n    </tr>\n  </tbody>\n</table>\n</div>"
     },
     "metadata": {},
     "execution_count": 10
    }
   ],
   "source": [
    "pisa.groupby(\"Continent_Code\").std() # Standart deviation "
   ]
  },
  {
   "cell_type": "code",
   "execution_count": 11,
   "metadata": {},
   "outputs": [
    {
     "output_type": "execute_result",
     "data": {
      "text/plain": [
       "                internet_users_per_100         Math      Reading      Science\n",
       "Continent_Code                                                               \n",
       "AF                           53.249507    26.005030    62.677447    56.799679\n",
       "AS                          444.621918  4141.757822  3254.584049  3211.644321\n",
       "EU                          154.399841  1235.550805  1422.839540  1186.844969\n",
       "OC                            6.706475     0.880597    20.289087     5.476726\n",
       "SA                           95.500869   328.656783   388.471816   341.152678"
      ],
      "text/html": "<div>\n<style scoped>\n    .dataframe tbody tr th:only-of-type {\n        vertical-align: middle;\n    }\n\n    .dataframe tbody tr th {\n        vertical-align: top;\n    }\n\n    .dataframe thead th {\n        text-align: right;\n    }\n</style>\n<table border=\"1\" class=\"dataframe\">\n  <thead>\n    <tr style=\"text-align: right;\">\n      <th></th>\n      <th>internet_users_per_100</th>\n      <th>Math</th>\n      <th>Reading</th>\n      <th>Science</th>\n    </tr>\n    <tr>\n      <th>Continent_Code</th>\n      <th></th>\n      <th></th>\n      <th></th>\n      <th></th>\n    </tr>\n  </thead>\n  <tbody>\n    <tr>\n      <th>AF</th>\n      <td>53.249507</td>\n      <td>26.005030</td>\n      <td>62.677447</td>\n      <td>56.799679</td>\n    </tr>\n    <tr>\n      <th>AS</th>\n      <td>444.621918</td>\n      <td>4141.757822</td>\n      <td>3254.584049</td>\n      <td>3211.644321</td>\n    </tr>\n    <tr>\n      <th>EU</th>\n      <td>154.399841</td>\n      <td>1235.550805</td>\n      <td>1422.839540</td>\n      <td>1186.844969</td>\n    </tr>\n    <tr>\n      <th>OC</th>\n      <td>6.706475</td>\n      <td>0.880597</td>\n      <td>20.289087</td>\n      <td>5.476726</td>\n    </tr>\n    <tr>\n      <th>SA</th>\n      <td>95.500869</td>\n      <td>328.656783</td>\n      <td>388.471816</td>\n      <td>341.152678</td>\n    </tr>\n  </tbody>\n</table>\n</div>"
     },
     "metadata": {},
     "execution_count": 11
    }
   ],
   "source": [
    "pisa.groupby(\"Continent_Code\").var() # Variance"
   ]
  },
  {
   "cell_type": "code",
   "execution_count": 16,
   "metadata": {},
   "outputs": [],
   "source": [
    "a = pisa.groupby(\"Continent_Code\").max()\n",
    "b = pisa.groupby(\"Continent_Code\").min()"
   ]
  },
  {
   "cell_type": "code",
   "execution_count": 20,
   "metadata": {},
   "outputs": [
    {
     "output_type": "execute_result",
     "data": {
      "text/plain": [
       "                internet_users_per_100      Math   Reading   Science\n",
       "Continent_Code                                                      \n",
       "AF                           10.319836    7.2118   11.1962   10.6583\n",
       "AS                           70.908759  183.9307  188.5512  169.0893\n",
       "EU                           44.455021  149.9392  174.6832  150.5113\n",
       "OC                            3.662369    1.3271    6.3701    3.3096\n",
       "SA                           28.298471   45.6019   61.0295   50.2725"
      ],
      "text/html": "<div>\n<style scoped>\n    .dataframe tbody tr th:only-of-type {\n        vertical-align: middle;\n    }\n\n    .dataframe tbody tr th {\n        vertical-align: top;\n    }\n\n    .dataframe thead th {\n        text-align: right;\n    }\n</style>\n<table border=\"1\" class=\"dataframe\">\n  <thead>\n    <tr style=\"text-align: right;\">\n      <th></th>\n      <th>internet_users_per_100</th>\n      <th>Math</th>\n      <th>Reading</th>\n      <th>Science</th>\n    </tr>\n    <tr>\n      <th>Continent_Code</th>\n      <th></th>\n      <th></th>\n      <th></th>\n      <th></th>\n    </tr>\n  </thead>\n  <tbody>\n    <tr>\n      <th>AF</th>\n      <td>10.319836</td>\n      <td>7.2118</td>\n      <td>11.1962</td>\n      <td>10.6583</td>\n    </tr>\n    <tr>\n      <th>AS</th>\n      <td>70.908759</td>\n      <td>183.9307</td>\n      <td>188.5512</td>\n      <td>169.0893</td>\n    </tr>\n    <tr>\n      <th>EU</th>\n      <td>44.455021</td>\n      <td>149.9392</td>\n      <td>174.6832</td>\n      <td>150.5113</td>\n    </tr>\n    <tr>\n      <th>OC</th>\n      <td>3.662369</td>\n      <td>1.3271</td>\n      <td>6.3701</td>\n      <td>3.3096</td>\n    </tr>\n    <tr>\n      <th>SA</th>\n      <td>28.298471</td>\n      <td>45.6019</td>\n      <td>61.0295</td>\n      <td>50.2725</td>\n    </tr>\n  </tbody>\n</table>\n</div>"
     },
     "metadata": {},
     "execution_count": 20
    }
   ],
   "source": [
    "a[[\"internet_users_per_100\",\"Math\",\"Reading\",\"Science\"]]-b[[\"internet_users_per_100\",\"Math\",\"Reading\",\"Science\"]] # Range"
   ]
  },
  {
   "source": [
    "2."
   ],
   "cell_type": "markdown",
   "metadata": {}
  },
  {
   "cell_type": "code",
   "execution_count": 6,
   "metadata": {},
   "outputs": [
    {
     "output_type": "execute_result",
     "data": {
      "text/plain": [
       "        Math\n",
       "1   427.4827\n",
       "11  531.2961\n",
       "25  403.8332\n",
       "27  547.9310\n",
       "30  386.1096\n",
       "33  469.6695\n",
       "35  380.2590\n",
       "36  532.4399\n",
       "37  459.8160\n",
       "38  524.1062\n",
       "39  396.2497\n",
       "43  543.8078\n",
       "49  446.1098\n",
       "56  402.4007\n",
       "59  564.1897\n",
       "63  415.4638\n",
       "69  494.5183"
      ],
      "text/html": "<div>\n<style scoped>\n    .dataframe tbody tr th:only-of-type {\n        vertical-align: middle;\n    }\n\n    .dataframe tbody tr th {\n        vertical-align: top;\n    }\n\n    .dataframe thead th {\n        text-align: right;\n    }\n</style>\n<table border=\"1\" class=\"dataframe\">\n  <thead>\n    <tr style=\"text-align: right;\">\n      <th></th>\n      <th>Math</th>\n    </tr>\n  </thead>\n  <tbody>\n    <tr>\n      <th>1</th>\n      <td>427.4827</td>\n    </tr>\n    <tr>\n      <th>11</th>\n      <td>531.2961</td>\n    </tr>\n    <tr>\n      <th>25</th>\n      <td>403.8332</td>\n    </tr>\n    <tr>\n      <th>27</th>\n      <td>547.9310</td>\n    </tr>\n    <tr>\n      <th>30</th>\n      <td>386.1096</td>\n    </tr>\n    <tr>\n      <th>33</th>\n      <td>469.6695</td>\n    </tr>\n    <tr>\n      <th>35</th>\n      <td>380.2590</td>\n    </tr>\n    <tr>\n      <th>36</th>\n      <td>532.4399</td>\n    </tr>\n    <tr>\n      <th>37</th>\n      <td>459.8160</td>\n    </tr>\n    <tr>\n      <th>38</th>\n      <td>524.1062</td>\n    </tr>\n    <tr>\n      <th>39</th>\n      <td>396.2497</td>\n    </tr>\n    <tr>\n      <th>43</th>\n      <td>543.8078</td>\n    </tr>\n    <tr>\n      <th>49</th>\n      <td>446.1098</td>\n    </tr>\n    <tr>\n      <th>56</th>\n      <td>402.4007</td>\n    </tr>\n    <tr>\n      <th>59</th>\n      <td>564.1897</td>\n    </tr>\n    <tr>\n      <th>63</th>\n      <td>415.4638</td>\n    </tr>\n    <tr>\n      <th>69</th>\n      <td>494.5183</td>\n    </tr>\n  </tbody>\n</table>\n</div>"
     },
     "metadata": {},
     "execution_count": 6
    }
   ],
   "source": [
    "AS = pisa[pisa[\"Continent_Code\"]==\"AS\"]\n",
    "AS[[\"Math\"]]"
   ]
  },
  {
   "cell_type": "code",
   "execution_count": 7,
   "metadata": {},
   "outputs": [
    {
     "output_type": "execute_result",
     "data": {
      "text/plain": [
       "        Math\n",
       "0   413.1570\n",
       "4   496.7423\n",
       "5   506.9844\n",
       "6   441.1899\n",
       "9   521.2506\n",
       "14  437.1443\n",
       "15  492.3254\n",
       "16  505.9713\n",
       "17  511.0876\n",
       "20  485.8432\n",
       "21  519.5291\n",
       "22  511.0769\n",
       "23  492.9204\n",
       "24  492.4785\n",
       "26  453.6299\n",
       "28  464.0401\n",
       "29  476.8309\n",
       "31  503.7220\n",
       "32  488.0332\n",
       "34  489.7287\n",
       "40  478.3834\n",
       "41  485.7706\n",
       "42  482.3051\n",
       "44  419.6635\n",
       "46  371.3114\n",
       "47  478.6448\n",
       "48  417.9341\n",
       "50  512.2528\n",
       "51  501.7298\n",
       "54  504.4693\n",
       "55  491.6270\n",
       "57  443.9543\n",
       "58  494.0600\n",
       "60  475.2301\n",
       "61  509.9196\n",
       "62  493.9181\n",
       "66  420.4540"
      ],
      "text/html": "<div>\n<style scoped>\n    .dataframe tbody tr th:only-of-type {\n        vertical-align: middle;\n    }\n\n    .dataframe tbody tr th {\n        vertical-align: top;\n    }\n\n    .dataframe thead th {\n        text-align: right;\n    }\n</style>\n<table border=\"1\" class=\"dataframe\">\n  <thead>\n    <tr style=\"text-align: right;\">\n      <th></th>\n      <th>Math</th>\n    </tr>\n  </thead>\n  <tbody>\n    <tr>\n      <th>0</th>\n      <td>413.1570</td>\n    </tr>\n    <tr>\n      <th>4</th>\n      <td>496.7423</td>\n    </tr>\n    <tr>\n      <th>5</th>\n      <td>506.9844</td>\n    </tr>\n    <tr>\n      <th>6</th>\n      <td>441.1899</td>\n    </tr>\n    <tr>\n      <th>9</th>\n      <td>521.2506</td>\n    </tr>\n    <tr>\n      <th>14</th>\n      <td>437.1443</td>\n    </tr>\n    <tr>\n      <th>15</th>\n      <td>492.3254</td>\n    </tr>\n    <tr>\n      <th>16</th>\n      <td>505.9713</td>\n    </tr>\n    <tr>\n      <th>17</th>\n      <td>511.0876</td>\n    </tr>\n    <tr>\n      <th>20</th>\n      <td>485.8432</td>\n    </tr>\n    <tr>\n      <th>21</th>\n      <td>519.5291</td>\n    </tr>\n    <tr>\n      <th>22</th>\n      <td>511.0769</td>\n    </tr>\n    <tr>\n      <th>23</th>\n      <td>492.9204</td>\n    </tr>\n    <tr>\n      <th>24</th>\n      <td>492.4785</td>\n    </tr>\n    <tr>\n      <th>26</th>\n      <td>453.6299</td>\n    </tr>\n    <tr>\n      <th>28</th>\n      <td>464.0401</td>\n    </tr>\n    <tr>\n      <th>29</th>\n      <td>476.8309</td>\n    </tr>\n    <tr>\n      <th>31</th>\n      <td>503.7220</td>\n    </tr>\n    <tr>\n      <th>32</th>\n      <td>488.0332</td>\n    </tr>\n    <tr>\n      <th>34</th>\n      <td>489.7287</td>\n    </tr>\n    <tr>\n      <th>40</th>\n      <td>478.3834</td>\n    </tr>\n    <tr>\n      <th>41</th>\n      <td>485.7706</td>\n    </tr>\n    <tr>\n      <th>42</th>\n      <td>482.3051</td>\n    </tr>\n    <tr>\n      <th>44</th>\n      <td>419.6635</td>\n    </tr>\n    <tr>\n      <th>46</th>\n      <td>371.3114</td>\n    </tr>\n    <tr>\n      <th>47</th>\n      <td>478.6448</td>\n    </tr>\n    <tr>\n      <th>48</th>\n      <td>417.9341</td>\n    </tr>\n    <tr>\n      <th>50</th>\n      <td>512.2528</td>\n    </tr>\n    <tr>\n      <th>51</th>\n      <td>501.7298</td>\n    </tr>\n    <tr>\n      <th>54</th>\n      <td>504.4693</td>\n    </tr>\n    <tr>\n      <th>55</th>\n      <td>491.6270</td>\n    </tr>\n    <tr>\n      <th>57</th>\n      <td>443.9543</td>\n    </tr>\n    <tr>\n      <th>58</th>\n      <td>494.0600</td>\n    </tr>\n    <tr>\n      <th>60</th>\n      <td>475.2301</td>\n    </tr>\n    <tr>\n      <th>61</th>\n      <td>509.9196</td>\n    </tr>\n    <tr>\n      <th>62</th>\n      <td>493.9181</td>\n    </tr>\n    <tr>\n      <th>66</th>\n      <td>420.4540</td>\n    </tr>\n  </tbody>\n</table>\n</div>"
     },
     "metadata": {},
     "execution_count": 7
    }
   ],
   "source": [
    "EU = pisa[pisa[\"Continent_Code\"]==\"EU\"]\n",
    "EU[[\"Math\"]]"
   ]
  },
  {
   "cell_type": "code",
   "execution_count": null,
   "metadata": {},
   "outputs": [],
   "source": []
  }
 ]
}