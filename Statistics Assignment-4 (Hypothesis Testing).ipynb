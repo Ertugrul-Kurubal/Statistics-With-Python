{
 "metadata": {
  "language_info": {
   "codemirror_mode": {
    "name": "ipython",
    "version": 3
   },
   "file_extension": ".py",
   "mimetype": "text/x-python",
   "name": "python",
   "nbconvert_exporter": "python",
   "pygments_lexer": "ipython3",
   "version": "3.9.0"
  },
  "orig_nbformat": 2,
  "kernelspec": {
   "name": "python390jvsc74a57bd043a9cd95aa030499ef934e4da31e07dde54f3fc3a1fd0cc4aeef7f16459ee2ac",
   "display_name": "Python 3.9.0 64-bit"
  }
 },
 "nbformat": 4,
 "nbformat_minor": 2,
 "cells": [
  {
   "cell_type": "code",
   "execution_count": 1,
   "metadata": {},
   "outputs": [],
   "source": [
    "import numpy as np\n",
    "import pandas as pd\n",
    "from scipy import stats "
   ]
  },
  {
   "source": [
    "### *EXERCISE 1*"
   ],
   "cell_type": "markdown",
   "metadata": {}
  },
  {
   "source": [
    "The hourly wages in a particular industry are normally distributed with mean $13.20 and standard deviation $2.50. A company in this industry employs 40 workers, paying them an average of $12.20 per hour. Can this company be accused of paying substandard wages? Use an α = .01 level test."
   ],
   "cell_type": "markdown",
   "metadata": {}
  },
  {
   "cell_type": "code",
   "execution_count": 2,
   "metadata": {},
   "outputs": [],
   "source": [
    "H_0 = \"This company can't  be accused of paying substandard wages?\"\n",
    "H_A = \"This company can  be accused of paying substandard wages?\""
   ]
  },
  {
   "cell_type": "code",
   "execution_count": 3,
   "metadata": {},
   "outputs": [],
   "source": [
    "x_bar = 12.20 # sample mean\n",
    "mu = 13.20 # population mean\n",
    "sigma = 2.50 # population std\n",
    "n = 40 # sample\n",
    "alpha = 0.01 # significance level"
   ]
  },
  {
   "cell_type": "code",
   "execution_count": 4,
   "metadata": {},
   "outputs": [
    {
     "output_type": "execute_result",
     "data": {
      "text/plain": [
       "-2.5298221281347035"
      ]
     },
     "metadata": {},
     "execution_count": 4
    }
   ],
   "source": [
    "z = (x_bar - mu)/(sigma/np.sqrt(n))\n",
    "z"
   ]
  },
  {
   "cell_type": "code",
   "execution_count": 5,
   "metadata": {},
   "outputs": [
    {
     "output_type": "execute_result",
     "data": {
      "text/plain": [
       "0.9942939818069991"
      ]
     },
     "metadata": {},
     "execution_count": 5
    }
   ],
   "source": [
    "p_value = 1 - stats.norm.cdf(z)\n",
    "p_value"
   ]
  },
  {
   "cell_type": "code",
   "execution_count": 6,
   "metadata": {},
   "outputs": [
    {
     "output_type": "stream",
     "name": "stdout",
     "text": [
      "Fail To Reject The Null Hipothesis\n"
     ]
    }
   ],
   "source": [
    "if p_value<alpha:\n",
    "    print(\"Reject The Null Hipothesis\")\n",
    "else:\n",
    "    print(\"Fail To Reject The Null Hipothesis\")"
   ]
  },
  {
   "source": [
    "### *EXERCISE 2*"
   ],
   "cell_type": "markdown",
   "metadata": {}
  },
  {
   "source": [
    "Shear strength measurements derived from unconfined compression tests for two types of soils gave the results shown in the following document (measurements in tons per square foot). Do the soils appear to differ with respect to average shear strength, at the 1% significance level?"
   ],
   "cell_type": "markdown",
   "metadata": {}
  },
  {
   "cell_type": "code",
   "execution_count": 7,
   "metadata": {},
   "outputs": [],
   "source": [
    "soil = pd.read_csv(\"soil.csv\")"
   ]
  },
  {
   "cell_type": "code",
   "execution_count": 11,
   "metadata": {},
   "outputs": [
    {
     "output_type": "execute_result",
     "data": {
      "text/plain": [
       "    Soil1  Soil2\n",
       "0   1.442  1.364\n",
       "1   1.943  1.878\n",
       "2   1.110  1.337\n",
       "3   1.912  1.828\n",
       "4   1.553  1.371\n",
       "5   1.641  1.428\n",
       "6   1.499  1.119\n",
       "7   1.347  1.373\n",
       "8   1.685  1.589\n",
       "9   1.578  1.714\n",
       "10  1.866  1.260\n",
       "11  1.653  1.492\n",
       "12  1.665  1.395\n",
       "13  1.640  1.778\n",
       "14  1.976  1.611\n",
       "15  1.754  1.202\n",
       "16  1.589  1.542\n",
       "17  1.976  1.094\n",
       "18  1.863  1.557\n",
       "19  1.932  1.053\n",
       "20  1.570  1.183\n",
       "21  1.613  1.367\n",
       "22  2.054  1.144\n",
       "23  1.550  1.151\n",
       "24  1.714  1.561\n",
       "25  1.896  1.192\n",
       "26  1.737  1.489\n",
       "27  1.740  1.379\n",
       "28  1.708  1.501\n",
       "29  1.548  1.277\n",
       "30    NaN  1.593\n",
       "31    NaN  1.172\n",
       "32    NaN  1.510\n",
       "33    NaN  1.740\n",
       "34    NaN  1.355"
      ],
      "text/html": "<div>\n<style scoped>\n    .dataframe tbody tr th:only-of-type {\n        vertical-align: middle;\n    }\n\n    .dataframe tbody tr th {\n        vertical-align: top;\n    }\n\n    .dataframe thead th {\n        text-align: right;\n    }\n</style>\n<table border=\"1\" class=\"dataframe\">\n  <thead>\n    <tr style=\"text-align: right;\">\n      <th></th>\n      <th>Soil1</th>\n      <th>Soil2</th>\n    </tr>\n  </thead>\n  <tbody>\n    <tr>\n      <th>0</th>\n      <td>1.442</td>\n      <td>1.364</td>\n    </tr>\n    <tr>\n      <th>1</th>\n      <td>1.943</td>\n      <td>1.878</td>\n    </tr>\n    <tr>\n      <th>2</th>\n      <td>1.110</td>\n      <td>1.337</td>\n    </tr>\n    <tr>\n      <th>3</th>\n      <td>1.912</td>\n      <td>1.828</td>\n    </tr>\n    <tr>\n      <th>4</th>\n      <td>1.553</td>\n      <td>1.371</td>\n    </tr>\n    <tr>\n      <th>5</th>\n      <td>1.641</td>\n      <td>1.428</td>\n    </tr>\n    <tr>\n      <th>6</th>\n      <td>1.499</td>\n      <td>1.119</td>\n    </tr>\n    <tr>\n      <th>7</th>\n      <td>1.347</td>\n      <td>1.373</td>\n    </tr>\n    <tr>\n      <th>8</th>\n      <td>1.685</td>\n      <td>1.589</td>\n    </tr>\n    <tr>\n      <th>9</th>\n      <td>1.578</td>\n      <td>1.714</td>\n    </tr>\n    <tr>\n      <th>10</th>\n      <td>1.866</td>\n      <td>1.260</td>\n    </tr>\n    <tr>\n      <th>11</th>\n      <td>1.653</td>\n      <td>1.492</td>\n    </tr>\n    <tr>\n      <th>12</th>\n      <td>1.665</td>\n      <td>1.395</td>\n    </tr>\n    <tr>\n      <th>13</th>\n      <td>1.640</td>\n      <td>1.778</td>\n    </tr>\n    <tr>\n      <th>14</th>\n      <td>1.976</td>\n      <td>1.611</td>\n    </tr>\n    <tr>\n      <th>15</th>\n      <td>1.754</td>\n      <td>1.202</td>\n    </tr>\n    <tr>\n      <th>16</th>\n      <td>1.589</td>\n      <td>1.542</td>\n    </tr>\n    <tr>\n      <th>17</th>\n      <td>1.976</td>\n      <td>1.094</td>\n    </tr>\n    <tr>\n      <th>18</th>\n      <td>1.863</td>\n      <td>1.557</td>\n    </tr>\n    <tr>\n      <th>19</th>\n      <td>1.932</td>\n      <td>1.053</td>\n    </tr>\n    <tr>\n      <th>20</th>\n      <td>1.570</td>\n      <td>1.183</td>\n    </tr>\n    <tr>\n      <th>21</th>\n      <td>1.613</td>\n      <td>1.367</td>\n    </tr>\n    <tr>\n      <th>22</th>\n      <td>2.054</td>\n      <td>1.144</td>\n    </tr>\n    <tr>\n      <th>23</th>\n      <td>1.550</td>\n      <td>1.151</td>\n    </tr>\n    <tr>\n      <th>24</th>\n      <td>1.714</td>\n      <td>1.561</td>\n    </tr>\n    <tr>\n      <th>25</th>\n      <td>1.896</td>\n      <td>1.192</td>\n    </tr>\n    <tr>\n      <th>26</th>\n      <td>1.737</td>\n      <td>1.489</td>\n    </tr>\n    <tr>\n      <th>27</th>\n      <td>1.740</td>\n      <td>1.379</td>\n    </tr>\n    <tr>\n      <th>28</th>\n      <td>1.708</td>\n      <td>1.501</td>\n    </tr>\n    <tr>\n      <th>29</th>\n      <td>1.548</td>\n      <td>1.277</td>\n    </tr>\n    <tr>\n      <th>30</th>\n      <td>NaN</td>\n      <td>1.593</td>\n    </tr>\n    <tr>\n      <th>31</th>\n      <td>NaN</td>\n      <td>1.172</td>\n    </tr>\n    <tr>\n      <th>32</th>\n      <td>NaN</td>\n      <td>1.510</td>\n    </tr>\n    <tr>\n      <th>33</th>\n      <td>NaN</td>\n      <td>1.740</td>\n    </tr>\n    <tr>\n      <th>34</th>\n      <td>NaN</td>\n      <td>1.355</td>\n    </tr>\n  </tbody>\n</table>\n</div>"
     },
     "metadata": {},
     "execution_count": 11
    }
   ],
   "source": [
    "soil"
   ]
  },
  {
   "cell_type": "code",
   "execution_count": 24,
   "metadata": {},
   "outputs": [],
   "source": [
    "soil.dropna(inplace=True)"
   ]
  },
  {
   "cell_type": "code",
   "execution_count": 26,
   "metadata": {},
   "outputs": [
    {
     "output_type": "execute_result",
     "data": {
      "text/plain": [
       "   Soil1  Soil2\n",
       "0  1.442  1.364\n",
       "1  1.943  1.878\n",
       "2  1.110  1.337\n",
       "3  1.912  1.828\n",
       "4  1.553  1.371"
      ],
      "text/html": "<div>\n<style scoped>\n    .dataframe tbody tr th:only-of-type {\n        vertical-align: middle;\n    }\n\n    .dataframe tbody tr th {\n        vertical-align: top;\n    }\n\n    .dataframe thead th {\n        text-align: right;\n    }\n</style>\n<table border=\"1\" class=\"dataframe\">\n  <thead>\n    <tr style=\"text-align: right;\">\n      <th></th>\n      <th>Soil1</th>\n      <th>Soil2</th>\n    </tr>\n  </thead>\n  <tbody>\n    <tr>\n      <th>0</th>\n      <td>1.442</td>\n      <td>1.364</td>\n    </tr>\n    <tr>\n      <th>1</th>\n      <td>1.943</td>\n      <td>1.878</td>\n    </tr>\n    <tr>\n      <th>2</th>\n      <td>1.110</td>\n      <td>1.337</td>\n    </tr>\n    <tr>\n      <th>3</th>\n      <td>1.912</td>\n      <td>1.828</td>\n    </tr>\n    <tr>\n      <th>4</th>\n      <td>1.553</td>\n      <td>1.371</td>\n    </tr>\n  </tbody>\n</table>\n</div>"
     },
     "metadata": {},
     "execution_count": 26
    }
   ],
   "source": [
    "soil.head()"
   ]
  },
  {
   "cell_type": "code",
   "execution_count": 29,
   "metadata": {},
   "outputs": [
    {
     "output_type": "execute_result",
     "data": {
      "text/plain": [
       "0    0.078\n",
       "1    0.065\n",
       "2   -0.227\n",
       "3    0.084\n",
       "4    0.182\n",
       "dtype: float64"
      ]
     },
     "metadata": {},
     "execution_count": 29
    }
   ],
   "source": [
    "diff = soil.Soil1 - soil.Soil2\n",
    "diff.head()"
   ]
  },
  {
   "cell_type": "code",
   "execution_count": 31,
   "metadata": {},
   "outputs": [
    {
     "output_type": "execute_result",
     "data": {
      "text/plain": [
       "0.28416666666666673"
      ]
     },
     "metadata": {},
     "execution_count": 31
    }
   ],
   "source": [
    "d_mean = diff.mean()\n",
    "d_mean"
   ]
  },
  {
   "cell_type": "code",
   "execution_count": 33,
   "metadata": {},
   "outputs": [
    {
     "output_type": "execute_result",
     "data": {
      "text/plain": [
       "0.29312937985356113"
      ]
     },
     "metadata": {},
     "execution_count": 33
    }
   ],
   "source": [
    "d_std = diff.std()\n",
    "d_std"
   ]
  },
  {
   "cell_type": "code",
   "execution_count": 37,
   "metadata": {},
   "outputs": [
    {
     "output_type": "execute_result",
     "data": {
      "text/plain": [
       "30"
      ]
     },
     "metadata": {},
     "execution_count": 37
    }
   ],
   "source": [
    "n = len(soil)\n",
    "n"
   ]
  },
  {
   "source": [
    "### *EXERCISE 3*"
   ],
   "cell_type": "markdown",
   "metadata": {}
  },
  {
   "source": [
    "The following dataset is based on data provided by the World Bank (https://datacatalog.worldbank.org/dataset/education-statistics). World Bank Edstats.  2015 PISA Test Dataset\n",
    "\n",
    "1. Get descriptive statistics (the central tendency, dispersion and shape of a dataset’s distribution) for each continent group (AS, EU, AF, NA, SA, OC).\n",
    "\n",
    "2. Determine whether there is any difference (on the average) for the math scores among European (EU) and Asian (AS) countries (assume normality and equal variances). Draw side-by-side box plots."
   ],
   "cell_type": "markdown",
   "metadata": {}
  },
  {
   "cell_type": "code",
   "execution_count": 20,
   "metadata": {},
   "outputs": [],
   "source": [
    "pisa = pd.read_csv(\"2015 PISA Test.csv\")"
   ]
  },
  {
   "cell_type": "code",
   "execution_count": 22,
   "metadata": {},
   "outputs": [
    {
     "output_type": "execute_result",
     "data": {
      "text/plain": [
       "  Country Code Continent_Code  internet_users_per_100      Math   Reading  \\\n",
       "0          ALB             EU               63.252933  413.1570  405.2588   \n",
       "1          ARE             AS               90.500000  427.4827  433.5423   \n",
       "2          ARG             SA               68.043064  409.0333  425.3031   \n",
       "3          AUS             OC               84.560519  493.8962  502.9006   \n",
       "4          AUT             EU               83.940142  496.7423  484.8656   \n",
       "\n",
       "    Science  \n",
       "0  427.2250  \n",
       "1  436.7311  \n",
       "2  432.2262  \n",
       "3  509.9939  \n",
       "4  495.0375  "
      ],
      "text/html": "<div>\n<style scoped>\n    .dataframe tbody tr th:only-of-type {\n        vertical-align: middle;\n    }\n\n    .dataframe tbody tr th {\n        vertical-align: top;\n    }\n\n    .dataframe thead th {\n        text-align: right;\n    }\n</style>\n<table border=\"1\" class=\"dataframe\">\n  <thead>\n    <tr style=\"text-align: right;\">\n      <th></th>\n      <th>Country Code</th>\n      <th>Continent_Code</th>\n      <th>internet_users_per_100</th>\n      <th>Math</th>\n      <th>Reading</th>\n      <th>Science</th>\n    </tr>\n  </thead>\n  <tbody>\n    <tr>\n      <th>0</th>\n      <td>ALB</td>\n      <td>EU</td>\n      <td>63.252933</td>\n      <td>413.1570</td>\n      <td>405.2588</td>\n      <td>427.2250</td>\n    </tr>\n    <tr>\n      <th>1</th>\n      <td>ARE</td>\n      <td>AS</td>\n      <td>90.500000</td>\n      <td>427.4827</td>\n      <td>433.5423</td>\n      <td>436.7311</td>\n    </tr>\n    <tr>\n      <th>2</th>\n      <td>ARG</td>\n      <td>SA</td>\n      <td>68.043064</td>\n      <td>409.0333</td>\n      <td>425.3031</td>\n      <td>432.2262</td>\n    </tr>\n    <tr>\n      <th>3</th>\n      <td>AUS</td>\n      <td>OC</td>\n      <td>84.560519</td>\n      <td>493.8962</td>\n      <td>502.9006</td>\n      <td>509.9939</td>\n    </tr>\n    <tr>\n      <th>4</th>\n      <td>AUT</td>\n      <td>EU</td>\n      <td>83.940142</td>\n      <td>496.7423</td>\n      <td>484.8656</td>\n      <td>495.0375</td>\n    </tr>\n  </tbody>\n</table>\n</div>"
     },
     "metadata": {},
     "execution_count": 22
    }
   ],
   "source": [
    "pisa.head()"
   ]
  },
  {
   "cell_type": "code",
   "execution_count": null,
   "metadata": {},
   "outputs": [],
   "source": []
  }
 ]
}