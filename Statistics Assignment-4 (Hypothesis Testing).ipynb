{
 "metadata": {
  "language_info": {
   "codemirror_mode": {
    "name": "ipython",
    "version": 3
   },
   "file_extension": ".py",
   "mimetype": "text/x-python",
   "name": "python",
   "nbconvert_exporter": "python",
   "pygments_lexer": "ipython3",
   "version": "3.9.0"
  },
  "orig_nbformat": 2,
  "kernelspec": {
   "name": "python390jvsc74a57bd043a9cd95aa030499ef934e4da31e07dde54f3fc3a1fd0cc4aeef7f16459ee2ac",
   "display_name": "Python 3.9.0 64-bit"
  }
 },
 "nbformat": 4,
 "nbformat_minor": 2,
 "cells": [
  {
   "cell_type": "code",
   "execution_count": 1,
   "metadata": {},
   "outputs": [],
   "source": [
    "import numpy as np\n",
    "import pandas as pd\n",
    "from scipy import stats "
   ]
  },
  {
   "source": [
    "### *EXERCISE 1*"
   ],
   "cell_type": "markdown",
   "metadata": {}
  },
  {
   "source": [
    "The hourly wages in a particular industry are normally distributed with mean $13.20 and standard deviation $2.50. A company in this industry employs 40 workers, paying them an average of $12.20 per hour. Can this company be accused of paying substandard wages? Use an α = .01 level test."
   ],
   "cell_type": "markdown",
   "metadata": {}
  },
  {
   "cell_type": "code",
   "execution_count": 2,
   "metadata": {},
   "outputs": [],
   "source": [
    "H_0 = \"This company can't  be accused of paying substandard wages?\"\n",
    "H_A = \"This company can  be accused of paying substandard wages?\""
   ]
  },
  {
   "cell_type": "code",
   "execution_count": 3,
   "metadata": {},
   "outputs": [],
   "source": [
    "x_bar = 12.20 # sample mean\n",
    "mu = 13.20 # population mean\n",
    "sigma = 2.50 # population std\n",
    "n = 40 # sample\n",
    "alpha = 0.01 # significance level"
   ]
  },
  {
   "cell_type": "code",
   "execution_count": 4,
   "metadata": {},
   "outputs": [
    {
     "output_type": "execute_result",
     "data": {
      "text/plain": [
       "-2.5298221281347035"
      ]
     },
     "metadata": {},
     "execution_count": 4
    }
   ],
   "source": [
    "z = (x_bar - mu)/(sigma/np.sqrt(n))\n",
    "z"
   ]
  },
  {
   "cell_type": "code",
   "execution_count": 5,
   "metadata": {},
   "outputs": [
    {
     "output_type": "execute_result",
     "data": {
      "text/plain": [
       "0.9942939818069991"
      ]
     },
     "metadata": {},
     "execution_count": 5
    }
   ],
   "source": [
    "p_value = 1 - stats.norm.cdf(z)\n",
    "p_value"
   ]
  },
  {
   "cell_type": "code",
   "execution_count": 6,
   "metadata": {},
   "outputs": [
    {
     "output_type": "stream",
     "name": "stdout",
     "text": [
      "Fail To Reject The Null Hipothesis\n"
     ]
    }
   ],
   "source": [
    "if p_value<alpha:\n",
    "    print(\"Reject The Null Hipothesis\")\n",
    "else:\n",
    "    print(\"Fail To Reject The Null Hipothesis\")"
   ]
  },
  {
   "source": [
    "### *EXERCISE 2*"
   ],
   "cell_type": "markdown",
   "metadata": {}
  },
  {
   "source": [
    "Shear strength measurements derived from unconfined compression tests for two types of soils gave the results shown in the following document (measurements in tons per square foot). Do the soils appear to differ with respect to average shear strength, at the 1% significance level?"
   ],
   "cell_type": "markdown",
   "metadata": {}
  },
  {
   "cell_type": "code",
   "execution_count": 7,
   "metadata": {},
   "outputs": [],
   "source": [
    "soil = pd.read_csv(\"soil.csv\")"
   ]
  },
  {
   "cell_type": "code",
   "execution_count": 11,
   "metadata": {},
   "outputs": [
    {
     "output_type": "execute_result",
     "data": {
      "text/plain": [
       "    Soil1  Soil2\n",
       "0   1.442  1.364\n",
       "1   1.943  1.878\n",
       "2   1.110  1.337\n",
       "3   1.912  1.828\n",
       "4   1.553  1.371\n",
       "5   1.641  1.428\n",
       "6   1.499  1.119\n",
       "7   1.347  1.373\n",
       "8   1.685  1.589\n",
       "9   1.578  1.714\n",
       "10  1.866  1.260\n",
       "11  1.653  1.492\n",
       "12  1.665  1.395\n",
       "13  1.640  1.778\n",
       "14  1.976  1.611\n",
       "15  1.754  1.202\n",
       "16  1.589  1.542\n",
       "17  1.976  1.094\n",
       "18  1.863  1.557\n",
       "19  1.932  1.053\n",
       "20  1.570  1.183\n",
       "21  1.613  1.367\n",
       "22  2.054  1.144\n",
       "23  1.550  1.151\n",
       "24  1.714  1.561\n",
       "25  1.896  1.192\n",
       "26  1.737  1.489\n",
       "27  1.740  1.379\n",
       "28  1.708  1.501\n",
       "29  1.548  1.277\n",
       "30    NaN  1.593\n",
       "31    NaN  1.172\n",
       "32    NaN  1.510\n",
       "33    NaN  1.740\n",
       "34    NaN  1.355"
      ],
      "text/html": "<div>\n<style scoped>\n    .dataframe tbody tr th:only-of-type {\n        vertical-align: middle;\n    }\n\n    .dataframe tbody tr th {\n        vertical-align: top;\n    }\n\n    .dataframe thead th {\n        text-align: right;\n    }\n</style>\n<table border=\"1\" class=\"dataframe\">\n  <thead>\n    <tr style=\"text-align: right;\">\n      <th></th>\n      <th>Soil1</th>\n      <th>Soil2</th>\n    </tr>\n  </thead>\n  <tbody>\n    <tr>\n      <th>0</th>\n      <td>1.442</td>\n      <td>1.364</td>\n    </tr>\n    <tr>\n      <th>1</th>\n      <td>1.943</td>\n      <td>1.878</td>\n    </tr>\n    <tr>\n      <th>2</th>\n      <td>1.110</td>\n      <td>1.337</td>\n    </tr>\n    <tr>\n      <th>3</th>\n      <td>1.912</td>\n      <td>1.828</td>\n    </tr>\n    <tr>\n      <th>4</th>\n      <td>1.553</td>\n      <td>1.371</td>\n    </tr>\n    <tr>\n      <th>5</th>\n      <td>1.641</td>\n      <td>1.428</td>\n    </tr>\n    <tr>\n      <th>6</th>\n      <td>1.499</td>\n      <td>1.119</td>\n    </tr>\n    <tr>\n      <th>7</th>\n      <td>1.347</td>\n      <td>1.373</td>\n    </tr>\n    <tr>\n      <th>8</th>\n      <td>1.685</td>\n      <td>1.589</td>\n    </tr>\n    <tr>\n      <th>9</th>\n      <td>1.578</td>\n      <td>1.714</td>\n    </tr>\n    <tr>\n      <th>10</th>\n      <td>1.866</td>\n      <td>1.260</td>\n    </tr>\n    <tr>\n      <th>11</th>\n      <td>1.653</td>\n      <td>1.492</td>\n    </tr>\n    <tr>\n      <th>12</th>\n      <td>1.665</td>\n      <td>1.395</td>\n    </tr>\n    <tr>\n      <th>13</th>\n      <td>1.640</td>\n      <td>1.778</td>\n    </tr>\n    <tr>\n      <th>14</th>\n      <td>1.976</td>\n      <td>1.611</td>\n    </tr>\n    <tr>\n      <th>15</th>\n      <td>1.754</td>\n      <td>1.202</td>\n    </tr>\n    <tr>\n      <th>16</th>\n      <td>1.589</td>\n      <td>1.542</td>\n    </tr>\n    <tr>\n      <th>17</th>\n      <td>1.976</td>\n      <td>1.094</td>\n    </tr>\n    <tr>\n      <th>18</th>\n      <td>1.863</td>\n      <td>1.557</td>\n    </tr>\n    <tr>\n      <th>19</th>\n      <td>1.932</td>\n      <td>1.053</td>\n    </tr>\n    <tr>\n      <th>20</th>\n      <td>1.570</td>\n      <td>1.183</td>\n    </tr>\n    <tr>\n      <th>21</th>\n      <td>1.613</td>\n      <td>1.367</td>\n    </tr>\n    <tr>\n      <th>22</th>\n      <td>2.054</td>\n      <td>1.144</td>\n    </tr>\n    <tr>\n      <th>23</th>\n      <td>1.550</td>\n      <td>1.151</td>\n    </tr>\n    <tr>\n      <th>24</th>\n      <td>1.714</td>\n      <td>1.561</td>\n    </tr>\n    <tr>\n      <th>25</th>\n      <td>1.896</td>\n      <td>1.192</td>\n    </tr>\n    <tr>\n      <th>26</th>\n      <td>1.737</td>\n      <td>1.489</td>\n    </tr>\n    <tr>\n      <th>27</th>\n      <td>1.740</td>\n      <td>1.379</td>\n    </tr>\n    <tr>\n      <th>28</th>\n      <td>1.708</td>\n      <td>1.501</td>\n    </tr>\n    <tr>\n      <th>29</th>\n      <td>1.548</td>\n      <td>1.277</td>\n    </tr>\n    <tr>\n      <th>30</th>\n      <td>NaN</td>\n      <td>1.593</td>\n    </tr>\n    <tr>\n      <th>31</th>\n      <td>NaN</td>\n      <td>1.172</td>\n    </tr>\n    <tr>\n      <th>32</th>\n      <td>NaN</td>\n      <td>1.510</td>\n    </tr>\n    <tr>\n      <th>33</th>\n      <td>NaN</td>\n      <td>1.740</td>\n    </tr>\n    <tr>\n      <th>34</th>\n      <td>NaN</td>\n      <td>1.355</td>\n    </tr>\n  </tbody>\n</table>\n</div>"
     },
     "metadata": {},
     "execution_count": 11
    }
   ],
   "source": [
    "soil"
   ]
  },
  {
   "cell_type": "code",
   "execution_count": 24,
   "metadata": {},
   "outputs": [],
   "source": [
    "soil.dropna(inplace=True)"
   ]
  },
  {
   "cell_type": "code",
   "execution_count": 26,
   "metadata": {},
   "outputs": [
    {
     "output_type": "execute_result",
     "data": {
      "text/plain": [
       "   Soil1  Soil2\n",
       "0  1.442  1.364\n",
       "1  1.943  1.878\n",
       "2  1.110  1.337\n",
       "3  1.912  1.828\n",
       "4  1.553  1.371"
      ],
      "text/html": "<div>\n<style scoped>\n    .dataframe tbody tr th:only-of-type {\n        vertical-align: middle;\n    }\n\n    .dataframe tbody tr th {\n        vertical-align: top;\n    }\n\n    .dataframe thead th {\n        text-align: right;\n    }\n</style>\n<table border=\"1\" class=\"dataframe\">\n  <thead>\n    <tr style=\"text-align: right;\">\n      <th></th>\n      <th>Soil1</th>\n      <th>Soil2</th>\n    </tr>\n  </thead>\n  <tbody>\n    <tr>\n      <th>0</th>\n      <td>1.442</td>\n      <td>1.364</td>\n    </tr>\n    <tr>\n      <th>1</th>\n      <td>1.943</td>\n      <td>1.878</td>\n    </tr>\n    <tr>\n      <th>2</th>\n      <td>1.110</td>\n      <td>1.337</td>\n    </tr>\n    <tr>\n      <th>3</th>\n      <td>1.912</td>\n      <td>1.828</td>\n    </tr>\n    <tr>\n      <th>4</th>\n      <td>1.553</td>\n      <td>1.371</td>\n    </tr>\n  </tbody>\n</table>\n</div>"
     },
     "metadata": {},
     "execution_count": 26
    }
   ],
   "source": [
    "soil.head()"
   ]
  },
  {
   "cell_type": "code",
   "execution_count": 48,
   "metadata": {},
   "outputs": [
    {
     "output_type": "execute_result",
     "data": {
      "text/plain": [
       "0    0.078\n",
       "1    0.065\n",
       "2   -0.227\n",
       "3    0.084\n",
       "4    0.182\n",
       "dtype: float64"
      ]
     },
     "metadata": {},
     "execution_count": 48
    }
   ],
   "source": [
    "diff = soil.Soil1 - soil.Soil2\n",
    "diff.head()"
   ]
  },
  {
   "cell_type": "code",
   "execution_count": 49,
   "metadata": {},
   "outputs": [
    {
     "output_type": "execute_result",
     "data": {
      "text/plain": [
       "0.28416666666666673"
      ]
     },
     "metadata": {},
     "execution_count": 49
    }
   ],
   "source": [
    "d_mean = diff.mean()\n",
    "d_mean"
   ]
  },
  {
   "cell_type": "code",
   "execution_count": 50,
   "metadata": {},
   "outputs": [
    {
     "output_type": "execute_result",
     "data": {
      "text/plain": [
       "0.29312937985356113"
      ]
     },
     "metadata": {},
     "execution_count": 50
    }
   ],
   "source": [
    "d_std = diff.std()\n",
    "d_std"
   ]
  },
  {
   "cell_type": "code",
   "execution_count": 51,
   "metadata": {},
   "outputs": [
    {
     "output_type": "execute_result",
     "data": {
      "text/plain": [
       "30"
      ]
     },
     "metadata": {},
     "execution_count": 51
    }
   ],
   "source": [
    "n = len(soil)\n",
    "n"
   ]
  },
  {
   "cell_type": "code",
   "execution_count": 52,
   "metadata": {},
   "outputs": [
    {
     "output_type": "execute_result",
     "data": {
      "text/plain": [
       "5.309754126390885"
      ]
     },
     "metadata": {},
     "execution_count": 52
    }
   ],
   "source": [
    "t_0 = d_mean/(d_std/np.sqrt(n))\n",
    "t_0"
   ]
  },
  {
   "cell_type": "code",
   "execution_count": 54,
   "metadata": {},
   "outputs": [
    {
     "output_type": "execute_result",
     "data": {
      "text/plain": [
       "1.0725240883413534e-05"
      ]
     },
     "metadata": {},
     "execution_count": 54
    }
   ],
   "source": [
    "p_value_2 = 2*(1-stats.t.cdf(t_0,n-1))\n",
    "p_value_2"
   ]
  },
  {
   "cell_type": "code",
   "execution_count": 55,
   "metadata": {},
   "outputs": [
    {
     "output_type": "stream",
     "name": "stdout",
     "text": [
      "Reject The Null Hipothesis\n"
     ]
    }
   ],
   "source": [
    "alpha_2 = 0.01\n",
    "if p_value_2<alpha_2:\n",
    "    print(\"Reject The Null Hipothesis\")\n",
    "else:\n",
    "    print(\"Fail To Reject The Null Hipothesis\")"
   ]
  },
  {
   "source": [
    "### *EXERCISE 3*"
   ],
   "cell_type": "markdown",
   "metadata": {}
  },
  {
   "source": [
    "The following dataset is based on data provided by the World Bank (https://datacatalog.worldbank.org/dataset/education-statistics). World Bank Edstats.  2015 PISA Test Dataset\n",
    "\n",
    "1. Get descriptive statistics (the central tendency, dispersion and shape of a dataset’s distribution) for each continent group (AS, EU, AF, NA, SA, OC).\n",
    "\n",
    "2. Determine whether there is any difference (on the average) for the math scores among European (EU) and Asian (AS) countries (assume normality and equal variances). Draw side-by-side box plots."
   ],
   "cell_type": "markdown",
   "metadata": {}
  },
  {
   "cell_type": "code",
   "execution_count": 20,
   "metadata": {},
   "outputs": [],
   "source": [
    "pisa = pd.read_csv(\"2015 PISA Test.csv\")"
   ]
  },
  {
   "cell_type": "code",
   "execution_count": 22,
   "metadata": {},
   "outputs": [
    {
     "output_type": "execute_result",
     "data": {
      "text/plain": [
       "  Country Code Continent_Code  internet_users_per_100      Math   Reading  \\\n",
       "0          ALB             EU               63.252933  413.1570  405.2588   \n",
       "1          ARE             AS               90.500000  427.4827  433.5423   \n",
       "2          ARG             SA               68.043064  409.0333  425.3031   \n",
       "3          AUS             OC               84.560519  493.8962  502.9006   \n",
       "4          AUT             EU               83.940142  496.7423  484.8656   \n",
       "\n",
       "    Science  \n",
       "0  427.2250  \n",
       "1  436.7311  \n",
       "2  432.2262  \n",
       "3  509.9939  \n",
       "4  495.0375  "
      ],
      "text/html": "<div>\n<style scoped>\n    .dataframe tbody tr th:only-of-type {\n        vertical-align: middle;\n    }\n\n    .dataframe tbody tr th {\n        vertical-align: top;\n    }\n\n    .dataframe thead th {\n        text-align: right;\n    }\n</style>\n<table border=\"1\" class=\"dataframe\">\n  <thead>\n    <tr style=\"text-align: right;\">\n      <th></th>\n      <th>Country Code</th>\n      <th>Continent_Code</th>\n      <th>internet_users_per_100</th>\n      <th>Math</th>\n      <th>Reading</th>\n      <th>Science</th>\n    </tr>\n  </thead>\n  <tbody>\n    <tr>\n      <th>0</th>\n      <td>ALB</td>\n      <td>EU</td>\n      <td>63.252933</td>\n      <td>413.1570</td>\n      <td>405.2588</td>\n      <td>427.2250</td>\n    </tr>\n    <tr>\n      <th>1</th>\n      <td>ARE</td>\n      <td>AS</td>\n      <td>90.500000</td>\n      <td>427.4827</td>\n      <td>433.5423</td>\n      <td>436.7311</td>\n    </tr>\n    <tr>\n      <th>2</th>\n      <td>ARG</td>\n      <td>SA</td>\n      <td>68.043064</td>\n      <td>409.0333</td>\n      <td>425.3031</td>\n      <td>432.2262</td>\n    </tr>\n    <tr>\n      <th>3</th>\n      <td>AUS</td>\n      <td>OC</td>\n      <td>84.560519</td>\n      <td>493.8962</td>\n      <td>502.9006</td>\n      <td>509.9939</td>\n    </tr>\n    <tr>\n      <th>4</th>\n      <td>AUT</td>\n      <td>EU</td>\n      <td>83.940142</td>\n      <td>496.7423</td>\n      <td>484.8656</td>\n      <td>495.0375</td>\n    </tr>\n  </tbody>\n</table>\n</div>"
     },
     "metadata": {},
     "execution_count": 22
    }
   ],
   "source": [
    "pisa.head()"
   ]
  },
  {
   "cell_type": "code",
   "execution_count": 56,
   "metadata": {},
   "outputs": [
    {
     "output_type": "execute_result",
     "data": {
      "text/plain": [
       "                internet_users_per_100        Math     Reading     Science\n",
       "Continent_Code                                                            \n",
       "AF                           43.359918  363.212100  355.457400  381.074250\n",
       "AS                           68.455613  466.216647  454.059682  467.945847\n",
       "EU                           77.274888  477.981449  476.164608  478.299381\n",
       "OC                           86.391704  494.559750  506.085650  511.648700\n",
       "SA                           60.180494  402.887700  425.359229  421.747186"
      ],
      "text/html": "<div>\n<style scoped>\n    .dataframe tbody tr th:only-of-type {\n        vertical-align: middle;\n    }\n\n    .dataframe tbody tr th {\n        vertical-align: top;\n    }\n\n    .dataframe thead th {\n        text-align: right;\n    }\n</style>\n<table border=\"1\" class=\"dataframe\">\n  <thead>\n    <tr style=\"text-align: right;\">\n      <th></th>\n      <th>internet_users_per_100</th>\n      <th>Math</th>\n      <th>Reading</th>\n      <th>Science</th>\n    </tr>\n    <tr>\n      <th>Continent_Code</th>\n      <th></th>\n      <th></th>\n      <th></th>\n      <th></th>\n    </tr>\n  </thead>\n  <tbody>\n    <tr>\n      <th>AF</th>\n      <td>43.359918</td>\n      <td>363.212100</td>\n      <td>355.457400</td>\n      <td>381.074250</td>\n    </tr>\n    <tr>\n      <th>AS</th>\n      <td>68.455613</td>\n      <td>466.216647</td>\n      <td>454.059682</td>\n      <td>467.945847</td>\n    </tr>\n    <tr>\n      <th>EU</th>\n      <td>77.274888</td>\n      <td>477.981449</td>\n      <td>476.164608</td>\n      <td>478.299381</td>\n    </tr>\n    <tr>\n      <th>OC</th>\n      <td>86.391704</td>\n      <td>494.559750</td>\n      <td>506.085650</td>\n      <td>511.648700</td>\n    </tr>\n    <tr>\n      <th>SA</th>\n      <td>60.180494</td>\n      <td>402.887700</td>\n      <td>425.359229</td>\n      <td>421.747186</td>\n    </tr>\n  </tbody>\n</table>\n</div>"
     },
     "metadata": {},
     "execution_count": 56
    }
   ],
   "source": [
    "pisa.groupby(\"Continent_Code\").mean()"
   ]
  },
  {
   "cell_type": "code",
   "execution_count": 59,
   "metadata": {},
   "outputs": [
    {
     "output_type": "execute_result",
     "data": {
      "text/plain": [
       "   Country Code Continent_Code  internet_users_per_100      Math   Reading  \\\n",
       "19          DZA             AF               38.200000  359.6062  349.8593   \n",
       "65          TUN             AF               48.519836  366.8180  361.0555   \n",
       "\n",
       "     Science  \n",
       "19  375.7451  \n",
       "65  386.4034  "
      ],
      "text/html": "<div>\n<style scoped>\n    .dataframe tbody tr th:only-of-type {\n        vertical-align: middle;\n    }\n\n    .dataframe tbody tr th {\n        vertical-align: top;\n    }\n\n    .dataframe thead th {\n        text-align: right;\n    }\n</style>\n<table border=\"1\" class=\"dataframe\">\n  <thead>\n    <tr style=\"text-align: right;\">\n      <th></th>\n      <th>Country Code</th>\n      <th>Continent_Code</th>\n      <th>internet_users_per_100</th>\n      <th>Math</th>\n      <th>Reading</th>\n      <th>Science</th>\n    </tr>\n  </thead>\n  <tbody>\n    <tr>\n      <th>19</th>\n      <td>DZA</td>\n      <td>AF</td>\n      <td>38.200000</td>\n      <td>359.6062</td>\n      <td>349.8593</td>\n      <td>375.7451</td>\n    </tr>\n    <tr>\n      <th>65</th>\n      <td>TUN</td>\n      <td>AF</td>\n      <td>48.519836</td>\n      <td>366.8180</td>\n      <td>361.0555</td>\n      <td>386.4034</td>\n    </tr>\n  </tbody>\n</table>\n</div>"
     },
     "metadata": {},
     "execution_count": 59
    }
   ],
   "source": [
    "AF = pisa[pisa[\"Continent_Code\"]==\"AF\"]\n",
    "AF"
   ]
  },
  {
   "cell_type": "code",
   "execution_count": 60,
   "metadata": {},
   "outputs": [
    {
     "output_type": "execute_result",
     "data": {
      "text/plain": [
       "   Country Code Continent_Code  internet_users_per_100      Math   Reading  \\\n",
       "1           ARE             AS               90.500000  427.4827  433.5423   \n",
       "11          CHN             AS               50.300000  531.2961  493.9412   \n",
       "25          GEO             AS               47.569760  403.8332  401.2881   \n",
       "27          HKG             AS               84.948353  547.9310  526.6753   \n",
       "30          IDN             AS               21.976068  386.1096  397.2595   \n",
       "33          ISR             AS               77.352090  469.6695  478.9606   \n",
       "35          JOR             AS               60.114383  380.2590  408.1022   \n",
       "36          JPN             AS               91.058028  532.4399  515.9585   \n",
       "37          KAZ             AS               72.900000  459.8160  427.1410   \n",
       "38          KOR             AS               89.648631  524.1062  517.4367   \n",
       "39          LBN             AS               74.000000  396.2497  346.5490   \n",
       "43          MAC             AS               77.600132  543.8078  508.6905   \n",
       "49          MYS             AS               71.064068  446.1098  430.5782   \n",
       "56          QAT             AS               92.884826  402.4007  401.8874   \n",
       "59          SGP             AS               79.012957  564.1897  535.1002   \n",
       "63          THA             AS               39.316127  415.4638  409.1301   \n",
       "69          VNM             AS               43.500000  494.5183  486.7738   \n",
       "\n",
       "     Science  \n",
       "1   436.7311  \n",
       "11  517.7793  \n",
       "25  411.1315  \n",
       "27  523.2774  \n",
       "30  403.0997  \n",
       "33  466.5528  \n",
       "35  408.6691  \n",
       "36  538.3948  \n",
       "37  456.4836  \n",
       "38  515.8099  \n",
       "39  386.4854  \n",
       "43  528.5496  \n",
       "49  442.9475  \n",
       "56  417.6112  \n",
       "59  555.5747  \n",
       "63  421.3373  \n",
       "69  524.6445  "
      ],
      "text/html": "<div>\n<style scoped>\n    .dataframe tbody tr th:only-of-type {\n        vertical-align: middle;\n    }\n\n    .dataframe tbody tr th {\n        vertical-align: top;\n    }\n\n    .dataframe thead th {\n        text-align: right;\n    }\n</style>\n<table border=\"1\" class=\"dataframe\">\n  <thead>\n    <tr style=\"text-align: right;\">\n      <th></th>\n      <th>Country Code</th>\n      <th>Continent_Code</th>\n      <th>internet_users_per_100</th>\n      <th>Math</th>\n      <th>Reading</th>\n      <th>Science</th>\n    </tr>\n  </thead>\n  <tbody>\n    <tr>\n      <th>1</th>\n      <td>ARE</td>\n      <td>AS</td>\n      <td>90.500000</td>\n      <td>427.4827</td>\n      <td>433.5423</td>\n      <td>436.7311</td>\n    </tr>\n    <tr>\n      <th>11</th>\n      <td>CHN</td>\n      <td>AS</td>\n      <td>50.300000</td>\n      <td>531.2961</td>\n      <td>493.9412</td>\n      <td>517.7793</td>\n    </tr>\n    <tr>\n      <th>25</th>\n      <td>GEO</td>\n      <td>AS</td>\n      <td>47.569760</td>\n      <td>403.8332</td>\n      <td>401.2881</td>\n      <td>411.1315</td>\n    </tr>\n    <tr>\n      <th>27</th>\n      <td>HKG</td>\n      <td>AS</td>\n      <td>84.948353</td>\n      <td>547.9310</td>\n      <td>526.6753</td>\n      <td>523.2774</td>\n    </tr>\n    <tr>\n      <th>30</th>\n      <td>IDN</td>\n      <td>AS</td>\n      <td>21.976068</td>\n      <td>386.1096</td>\n      <td>397.2595</td>\n      <td>403.0997</td>\n    </tr>\n    <tr>\n      <th>33</th>\n      <td>ISR</td>\n      <td>AS</td>\n      <td>77.352090</td>\n      <td>469.6695</td>\n      <td>478.9606</td>\n      <td>466.5528</td>\n    </tr>\n    <tr>\n      <th>35</th>\n      <td>JOR</td>\n      <td>AS</td>\n      <td>60.114383</td>\n      <td>380.2590</td>\n      <td>408.1022</td>\n      <td>408.6691</td>\n    </tr>\n    <tr>\n      <th>36</th>\n      <td>JPN</td>\n      <td>AS</td>\n      <td>91.058028</td>\n      <td>532.4399</td>\n      <td>515.9585</td>\n      <td>538.3948</td>\n    </tr>\n    <tr>\n      <th>37</th>\n      <td>KAZ</td>\n      <td>AS</td>\n      <td>72.900000</td>\n      <td>459.8160</td>\n      <td>427.1410</td>\n      <td>456.4836</td>\n    </tr>\n    <tr>\n      <th>38</th>\n      <td>KOR</td>\n      <td>AS</td>\n      <td>89.648631</td>\n      <td>524.1062</td>\n      <td>517.4367</td>\n      <td>515.8099</td>\n    </tr>\n    <tr>\n      <th>39</th>\n      <td>LBN</td>\n      <td>AS</td>\n      <td>74.000000</td>\n      <td>396.2497</td>\n      <td>346.5490</td>\n      <td>386.4854</td>\n    </tr>\n    <tr>\n      <th>43</th>\n      <td>MAC</td>\n      <td>AS</td>\n      <td>77.600132</td>\n      <td>543.8078</td>\n      <td>508.6905</td>\n      <td>528.5496</td>\n    </tr>\n    <tr>\n      <th>49</th>\n      <td>MYS</td>\n      <td>AS</td>\n      <td>71.064068</td>\n      <td>446.1098</td>\n      <td>430.5782</td>\n      <td>442.9475</td>\n    </tr>\n    <tr>\n      <th>56</th>\n      <td>QAT</td>\n      <td>AS</td>\n      <td>92.884826</td>\n      <td>402.4007</td>\n      <td>401.8874</td>\n      <td>417.6112</td>\n    </tr>\n    <tr>\n      <th>59</th>\n      <td>SGP</td>\n      <td>AS</td>\n      <td>79.012957</td>\n      <td>564.1897</td>\n      <td>535.1002</td>\n      <td>555.5747</td>\n    </tr>\n    <tr>\n      <th>63</th>\n      <td>THA</td>\n      <td>AS</td>\n      <td>39.316127</td>\n      <td>415.4638</td>\n      <td>409.1301</td>\n      <td>421.3373</td>\n    </tr>\n    <tr>\n      <th>69</th>\n      <td>VNM</td>\n      <td>AS</td>\n      <td>43.500000</td>\n      <td>494.5183</td>\n      <td>486.7738</td>\n      <td>524.6445</td>\n    </tr>\n  </tbody>\n</table>\n</div>"
     },
     "metadata": {},
     "execution_count": 60
    }
   ],
   "source": [
    "AS = pisa[pisa[\"Continent_Code\"]==\"AS\"]\n",
    "AS"
   ]
  },
  {
   "cell_type": "code",
   "execution_count": 61,
   "metadata": {},
   "outputs": [
    {
     "output_type": "execute_result",
     "data": {
      "text/plain": [
       "   Country Code Continent_Code  internet_users_per_100      Math   Reading  \\\n",
       "0           ALB             EU               63.252933  413.1570  405.2588   \n",
       "4           AUT             EU               83.940142  496.7423  484.8656   \n",
       "5           BEL             EU               85.052900  506.9844  498.5242   \n",
       "6           BGR             EU               56.656300  441.1899  431.7175   \n",
       "9           CHE             EU               87.479056  521.2506  492.1982   \n",
       "14          CYP             EU               71.715900  437.1443  442.8443   \n",
       "15          CZE             EU               75.668839  492.3254  487.2501   \n",
       "16          DEU             EU               87.589800  505.9713  509.1041   \n",
       "17          DNK             EU               96.330500  511.0876  499.8146   \n",
       "20          ESP             EU               78.689600  485.8432  495.5764   \n",
       "21          EST             EU               88.411812  519.5291  519.1429   \n",
       "22          FIN             EU               86.422133  511.0769  526.4247   \n",
       "23          FRA             EU               84.694500  492.9204  499.3061   \n",
       "24          GBR             EU               92.000300  492.4785  497.9719   \n",
       "26          GRC             EU               66.835000  453.6299  467.0395   \n",
       "28          HRV             EU               69.803100  464.0401  486.8632   \n",
       "29          HUN             EU               72.834700  476.8309  469.5233   \n",
       "31          IRL             EU               80.122400  503.7220  520.8148   \n",
       "32          ISL             EU               98.200000  488.0332  481.5255   \n",
       "34          ITA             EU               58.141735  489.7287  484.7580   \n",
       "40          LTU             EU               71.378000  478.3834  472.4066   \n",
       "41          LUX             EU               97.334100  485.7706  481.4391   \n",
       "42          LVA             EU               79.200600  482.3051  487.7581   \n",
       "44          MDA             EU               63.306625  419.6635  416.2293   \n",
       "46          MKD             EU               70.380200  371.3114  351.7415   \n",
       "47          MLT             EU               76.184000  478.6448  446.6661   \n",
       "48          MNE             EU               68.119581  417.9341  426.8845   \n",
       "50          NLD             EU               91.724138  512.2528  502.9591   \n",
       "51          NOR             EU               96.810300  501.7298  513.1912   \n",
       "54          POL             EU               67.997000  504.4693  505.6971   \n",
       "55          PRT             EU               68.632900  491.6270  498.1289   \n",
       "57          ROU             EU               55.763200  443.9543  433.6166   \n",
       "58          RUS             EU               73.410000  494.0600  494.6278   \n",
       "60          SVK             EU               77.634700  475.2301  452.5143   \n",
       "61          SVN             EU               73.098700  509.9196  505.2159   \n",
       "62          SWE             EU               90.610200  493.9181  500.1556   \n",
       "66          TUR             EU               53.744979  420.4540  428.3351   \n",
       "\n",
       "     Science  \n",
       "0   427.2250  \n",
       "4   495.0375  \n",
       "5   501.9997  \n",
       "6   445.7720  \n",
       "9   505.5058  \n",
       "14  432.5964  \n",
       "15  492.8300  \n",
       "16  509.1406  \n",
       "17  501.9369  \n",
       "20  492.7861  \n",
       "21  534.1937  \n",
       "22  530.6612  \n",
       "23  494.9776  \n",
       "24  509.2215  \n",
       "26  454.8288  \n",
       "28  475.3912  \n",
       "29  476.7475  \n",
       "31  502.5751  \n",
       "32  473.2301  \n",
       "34  480.5468  \n",
       "40  475.4089  \n",
       "41  482.8064  \n",
       "42  490.2250  \n",
       "44  427.9978  \n",
       "46  383.6824  \n",
       "47  464.7819  \n",
       "48  411.3136  \n",
       "50  508.5748  \n",
       "51  498.4811  \n",
       "54  501.4353  \n",
       "55  501.1001  \n",
       "57  434.8849  \n",
       "58  486.6310  \n",
       "60  460.7749  \n",
       "61  512.8636  \n",
       "62  493.4224  \n",
       "66  425.4895  "
      ],
      "text/html": "<div>\n<style scoped>\n    .dataframe tbody tr th:only-of-type {\n        vertical-align: middle;\n    }\n\n    .dataframe tbody tr th {\n        vertical-align: top;\n    }\n\n    .dataframe thead th {\n        text-align: right;\n    }\n</style>\n<table border=\"1\" class=\"dataframe\">\n  <thead>\n    <tr style=\"text-align: right;\">\n      <th></th>\n      <th>Country Code</th>\n      <th>Continent_Code</th>\n      <th>internet_users_per_100</th>\n      <th>Math</th>\n      <th>Reading</th>\n      <th>Science</th>\n    </tr>\n  </thead>\n  <tbody>\n    <tr>\n      <th>0</th>\n      <td>ALB</td>\n      <td>EU</td>\n      <td>63.252933</td>\n      <td>413.1570</td>\n      <td>405.2588</td>\n      <td>427.2250</td>\n    </tr>\n    <tr>\n      <th>4</th>\n      <td>AUT</td>\n      <td>EU</td>\n      <td>83.940142</td>\n      <td>496.7423</td>\n      <td>484.8656</td>\n      <td>495.0375</td>\n    </tr>\n    <tr>\n      <th>5</th>\n      <td>BEL</td>\n      <td>EU</td>\n      <td>85.052900</td>\n      <td>506.9844</td>\n      <td>498.5242</td>\n      <td>501.9997</td>\n    </tr>\n    <tr>\n      <th>6</th>\n      <td>BGR</td>\n      <td>EU</td>\n      <td>56.656300</td>\n      <td>441.1899</td>\n      <td>431.7175</td>\n      <td>445.7720</td>\n    </tr>\n    <tr>\n      <th>9</th>\n      <td>CHE</td>\n      <td>EU</td>\n      <td>87.479056</td>\n      <td>521.2506</td>\n      <td>492.1982</td>\n      <td>505.5058</td>\n    </tr>\n    <tr>\n      <th>14</th>\n      <td>CYP</td>\n      <td>EU</td>\n      <td>71.715900</td>\n      <td>437.1443</td>\n      <td>442.8443</td>\n      <td>432.5964</td>\n    </tr>\n    <tr>\n      <th>15</th>\n      <td>CZE</td>\n      <td>EU</td>\n      <td>75.668839</td>\n      <td>492.3254</td>\n      <td>487.2501</td>\n      <td>492.8300</td>\n    </tr>\n    <tr>\n      <th>16</th>\n      <td>DEU</td>\n      <td>EU</td>\n      <td>87.589800</td>\n      <td>505.9713</td>\n      <td>509.1041</td>\n      <td>509.1406</td>\n    </tr>\n    <tr>\n      <th>17</th>\n      <td>DNK</td>\n      <td>EU</td>\n      <td>96.330500</td>\n      <td>511.0876</td>\n      <td>499.8146</td>\n      <td>501.9369</td>\n    </tr>\n    <tr>\n      <th>20</th>\n      <td>ESP</td>\n      <td>EU</td>\n      <td>78.689600</td>\n      <td>485.8432</td>\n      <td>495.5764</td>\n      <td>492.7861</td>\n    </tr>\n    <tr>\n      <th>21</th>\n      <td>EST</td>\n      <td>EU</td>\n      <td>88.411812</td>\n      <td>519.5291</td>\n      <td>519.1429</td>\n      <td>534.1937</td>\n    </tr>\n    <tr>\n      <th>22</th>\n      <td>FIN</td>\n      <td>EU</td>\n      <td>86.422133</td>\n      <td>511.0769</td>\n      <td>526.4247</td>\n      <td>530.6612</td>\n    </tr>\n    <tr>\n      <th>23</th>\n      <td>FRA</td>\n      <td>EU</td>\n      <td>84.694500</td>\n      <td>492.9204</td>\n      <td>499.3061</td>\n      <td>494.9776</td>\n    </tr>\n    <tr>\n      <th>24</th>\n      <td>GBR</td>\n      <td>EU</td>\n      <td>92.000300</td>\n      <td>492.4785</td>\n      <td>497.9719</td>\n      <td>509.2215</td>\n    </tr>\n    <tr>\n      <th>26</th>\n      <td>GRC</td>\n      <td>EU</td>\n      <td>66.835000</td>\n      <td>453.6299</td>\n      <td>467.0395</td>\n      <td>454.8288</td>\n    </tr>\n    <tr>\n      <th>28</th>\n      <td>HRV</td>\n      <td>EU</td>\n      <td>69.803100</td>\n      <td>464.0401</td>\n      <td>486.8632</td>\n      <td>475.3912</td>\n    </tr>\n    <tr>\n      <th>29</th>\n      <td>HUN</td>\n      <td>EU</td>\n      <td>72.834700</td>\n      <td>476.8309</td>\n      <td>469.5233</td>\n      <td>476.7475</td>\n    </tr>\n    <tr>\n      <th>31</th>\n      <td>IRL</td>\n      <td>EU</td>\n      <td>80.122400</td>\n      <td>503.7220</td>\n      <td>520.8148</td>\n      <td>502.5751</td>\n    </tr>\n    <tr>\n      <th>32</th>\n      <td>ISL</td>\n      <td>EU</td>\n      <td>98.200000</td>\n      <td>488.0332</td>\n      <td>481.5255</td>\n      <td>473.2301</td>\n    </tr>\n    <tr>\n      <th>34</th>\n      <td>ITA</td>\n      <td>EU</td>\n      <td>58.141735</td>\n      <td>489.7287</td>\n      <td>484.7580</td>\n      <td>480.5468</td>\n    </tr>\n    <tr>\n      <th>40</th>\n      <td>LTU</td>\n      <td>EU</td>\n      <td>71.378000</td>\n      <td>478.3834</td>\n      <td>472.4066</td>\n      <td>475.4089</td>\n    </tr>\n    <tr>\n      <th>41</th>\n      <td>LUX</td>\n      <td>EU</td>\n      <td>97.334100</td>\n      <td>485.7706</td>\n      <td>481.4391</td>\n      <td>482.8064</td>\n    </tr>\n    <tr>\n      <th>42</th>\n      <td>LVA</td>\n      <td>EU</td>\n      <td>79.200600</td>\n      <td>482.3051</td>\n      <td>487.7581</td>\n      <td>490.2250</td>\n    </tr>\n    <tr>\n      <th>44</th>\n      <td>MDA</td>\n      <td>EU</td>\n      <td>63.306625</td>\n      <td>419.6635</td>\n      <td>416.2293</td>\n      <td>427.9978</td>\n    </tr>\n    <tr>\n      <th>46</th>\n      <td>MKD</td>\n      <td>EU</td>\n      <td>70.380200</td>\n      <td>371.3114</td>\n      <td>351.7415</td>\n      <td>383.6824</td>\n    </tr>\n    <tr>\n      <th>47</th>\n      <td>MLT</td>\n      <td>EU</td>\n      <td>76.184000</td>\n      <td>478.6448</td>\n      <td>446.6661</td>\n      <td>464.7819</td>\n    </tr>\n    <tr>\n      <th>48</th>\n      <td>MNE</td>\n      <td>EU</td>\n      <td>68.119581</td>\n      <td>417.9341</td>\n      <td>426.8845</td>\n      <td>411.3136</td>\n    </tr>\n    <tr>\n      <th>50</th>\n      <td>NLD</td>\n      <td>EU</td>\n      <td>91.724138</td>\n      <td>512.2528</td>\n      <td>502.9591</td>\n      <td>508.5748</td>\n    </tr>\n    <tr>\n      <th>51</th>\n      <td>NOR</td>\n      <td>EU</td>\n      <td>96.810300</td>\n      <td>501.7298</td>\n      <td>513.1912</td>\n      <td>498.4811</td>\n    </tr>\n    <tr>\n      <th>54</th>\n      <td>POL</td>\n      <td>EU</td>\n      <td>67.997000</td>\n      <td>504.4693</td>\n      <td>505.6971</td>\n      <td>501.4353</td>\n    </tr>\n    <tr>\n      <th>55</th>\n      <td>PRT</td>\n      <td>EU</td>\n      <td>68.632900</td>\n      <td>491.6270</td>\n      <td>498.1289</td>\n      <td>501.1001</td>\n    </tr>\n    <tr>\n      <th>57</th>\n      <td>ROU</td>\n      <td>EU</td>\n      <td>55.763200</td>\n      <td>443.9543</td>\n      <td>433.6166</td>\n      <td>434.8849</td>\n    </tr>\n    <tr>\n      <th>58</th>\n      <td>RUS</td>\n      <td>EU</td>\n      <td>73.410000</td>\n      <td>494.0600</td>\n      <td>494.6278</td>\n      <td>486.6310</td>\n    </tr>\n    <tr>\n      <th>60</th>\n      <td>SVK</td>\n      <td>EU</td>\n      <td>77.634700</td>\n      <td>475.2301</td>\n      <td>452.5143</td>\n      <td>460.7749</td>\n    </tr>\n    <tr>\n      <th>61</th>\n      <td>SVN</td>\n      <td>EU</td>\n      <td>73.098700</td>\n      <td>509.9196</td>\n      <td>505.2159</td>\n      <td>512.8636</td>\n    </tr>\n    <tr>\n      <th>62</th>\n      <td>SWE</td>\n      <td>EU</td>\n      <td>90.610200</td>\n      <td>493.9181</td>\n      <td>500.1556</td>\n      <td>493.4224</td>\n    </tr>\n    <tr>\n      <th>66</th>\n      <td>TUR</td>\n      <td>EU</td>\n      <td>53.744979</td>\n      <td>420.4540</td>\n      <td>428.3351</td>\n      <td>425.4895</td>\n    </tr>\n  </tbody>\n</table>\n</div>"
     },
     "metadata": {},
     "execution_count": 61
    }
   ],
   "source": [
    "EU = pisa[pisa[\"Continent_Code\"]==\"EU\"]\n",
    "EU"
   ]
  },
  {
   "cell_type": "code",
   "execution_count": 62,
   "metadata": {},
   "outputs": [
    {
     "output_type": "execute_result",
     "data": {
      "text/plain": [
       "   Country Code Continent_Code  internet_users_per_100      Math   Reading  \\\n",
       "3           AUS             OC               84.560519  493.8962  502.9006   \n",
       "52          NZL             OC               88.222889  495.2233  509.2707   \n",
       "\n",
       "     Science  \n",
       "3   509.9939  \n",
       "52  513.3035  "
      ],
      "text/html": "<div>\n<style scoped>\n    .dataframe tbody tr th:only-of-type {\n        vertical-align: middle;\n    }\n\n    .dataframe tbody tr th {\n        vertical-align: top;\n    }\n\n    .dataframe thead th {\n        text-align: right;\n    }\n</style>\n<table border=\"1\" class=\"dataframe\">\n  <thead>\n    <tr style=\"text-align: right;\">\n      <th></th>\n      <th>Country Code</th>\n      <th>Continent_Code</th>\n      <th>internet_users_per_100</th>\n      <th>Math</th>\n      <th>Reading</th>\n      <th>Science</th>\n    </tr>\n  </thead>\n  <tbody>\n    <tr>\n      <th>3</th>\n      <td>AUS</td>\n      <td>OC</td>\n      <td>84.560519</td>\n      <td>493.8962</td>\n      <td>502.9006</td>\n      <td>509.9939</td>\n    </tr>\n    <tr>\n      <th>52</th>\n      <td>NZL</td>\n      <td>OC</td>\n      <td>88.222889</td>\n      <td>495.2233</td>\n      <td>509.2707</td>\n      <td>513.3035</td>\n    </tr>\n  </tbody>\n</table>\n</div>"
     },
     "metadata": {},
     "execution_count": 62
    }
   ],
   "source": [
    "OC = pisa[pisa[\"Continent_Code\"]==\"OC\"]\n",
    "OC"
   ]
  },
  {
   "cell_type": "code",
   "execution_count": 63,
   "metadata": {},
   "outputs": [
    {
     "output_type": "execute_result",
     "data": {
      "text/plain": [
       "   Country Code Continent_Code  internet_users_per_100      Math   Reading  \\\n",
       "2           ARG             SA               68.043064  409.0333  425.3031   \n",
       "7           BRA             SA               58.327952  377.0695  407.3486   \n",
       "10          CHL             SA               64.289000  422.6714  458.5709   \n",
       "12          COL             SA               55.904973  389.6438  424.9052   \n",
       "53          PER             SA               40.900000  386.5606  397.5414   \n",
       "64          TTO             SA               69.198471  417.2434  427.2733   \n",
       "67          URY             SA               64.600000  417.9919  436.5721   \n",
       "\n",
       "     Science  \n",
       "2   432.2262  \n",
       "7   400.6821  \n",
       "10  446.9561  \n",
       "12  415.7288  \n",
       "53  396.6836  \n",
       "64  424.5905  \n",
       "67  435.3630  "
      ],
      "text/html": "<div>\n<style scoped>\n    .dataframe tbody tr th:only-of-type {\n        vertical-align: middle;\n    }\n\n    .dataframe tbody tr th {\n        vertical-align: top;\n    }\n\n    .dataframe thead th {\n        text-align: right;\n    }\n</style>\n<table border=\"1\" class=\"dataframe\">\n  <thead>\n    <tr style=\"text-align: right;\">\n      <th></th>\n      <th>Country Code</th>\n      <th>Continent_Code</th>\n      <th>internet_users_per_100</th>\n      <th>Math</th>\n      <th>Reading</th>\n      <th>Science</th>\n    </tr>\n  </thead>\n  <tbody>\n    <tr>\n      <th>2</th>\n      <td>ARG</td>\n      <td>SA</td>\n      <td>68.043064</td>\n      <td>409.0333</td>\n      <td>425.3031</td>\n      <td>432.2262</td>\n    </tr>\n    <tr>\n      <th>7</th>\n      <td>BRA</td>\n      <td>SA</td>\n      <td>58.327952</td>\n      <td>377.0695</td>\n      <td>407.3486</td>\n      <td>400.6821</td>\n    </tr>\n    <tr>\n      <th>10</th>\n      <td>CHL</td>\n      <td>SA</td>\n      <td>64.289000</td>\n      <td>422.6714</td>\n      <td>458.5709</td>\n      <td>446.9561</td>\n    </tr>\n    <tr>\n      <th>12</th>\n      <td>COL</td>\n      <td>SA</td>\n      <td>55.904973</td>\n      <td>389.6438</td>\n      <td>424.9052</td>\n      <td>415.7288</td>\n    </tr>\n    <tr>\n      <th>53</th>\n      <td>PER</td>\n      <td>SA</td>\n      <td>40.900000</td>\n      <td>386.5606</td>\n      <td>397.5414</td>\n      <td>396.6836</td>\n    </tr>\n    <tr>\n      <th>64</th>\n      <td>TTO</td>\n      <td>SA</td>\n      <td>69.198471</td>\n      <td>417.2434</td>\n      <td>427.2733</td>\n      <td>424.5905</td>\n    </tr>\n    <tr>\n      <th>67</th>\n      <td>URY</td>\n      <td>SA</td>\n      <td>64.600000</td>\n      <td>417.9919</td>\n      <td>436.5721</td>\n      <td>435.3630</td>\n    </tr>\n  </tbody>\n</table>\n</div>"
     },
     "metadata": {},
     "execution_count": 63
    }
   ],
   "source": [
    "SA = pisa[pisa[\"Continent_Code\"]==\"SA\"]\n",
    "SA"
   ]
  },
  {
   "cell_type": "code",
   "execution_count": null,
   "metadata": {},
   "outputs": [],
   "source": []
  }
 ]
}