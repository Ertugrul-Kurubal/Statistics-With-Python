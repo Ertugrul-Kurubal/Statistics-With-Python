{
 "cells": [
  {
   "cell_type": "markdown",
   "source": [
    "#### Libraries"
   ],
   "metadata": {}
  },
  {
   "cell_type": "code",
   "execution_count": 2,
   "source": [
    "import numpy as np \r\n",
    "import pandas as pd \r\n",
    "from scipy import stats\r\n",
    "from scipy.stats import iqr\r\n",
    "import matplotlib.pyplot as plt\r\n",
    "import seaborn as sns"
   ],
   "outputs": [],
   "metadata": {}
  },
  {
   "cell_type": "markdown",
   "source": [
    "#### Mean Median Mode Standard Deviation Variance IQR"
   ],
   "metadata": {}
  },
  {
   "cell_type": "code",
   "execution_count": 3,
   "source": [
    "np.array([0,20,40,40,50]).std()"
   ],
   "outputs": [
    {
     "output_type": "execute_result",
     "data": {
      "text/plain": [
       "17.88854381999832"
      ]
     },
     "metadata": {},
     "execution_count": 3
    }
   ],
   "metadata": {}
  },
  {
   "cell_type": "code",
   "execution_count": 4,
   "source": [
    "np.array([0,20,40,40,50]).mean()"
   ],
   "outputs": [
    {
     "output_type": "execute_result",
     "data": {
      "text/plain": [
       "30.0"
      ]
     },
     "metadata": {},
     "execution_count": 4
    }
   ],
   "metadata": {}
  },
  {
   "cell_type": "code",
   "execution_count": 5,
   "source": [
    "age = [20, 22, 25, 25, 27, 27, 27, 29, 30, 31]"
   ],
   "outputs": [],
   "metadata": {}
  },
  {
   "cell_type": "code",
   "execution_count": 6,
   "source": [
    "np.mean(age)"
   ],
   "outputs": [
    {
     "output_type": "execute_result",
     "data": {
      "text/plain": [
       "26.3"
      ]
     },
     "metadata": {},
     "execution_count": 6
    }
   ],
   "metadata": {}
  },
  {
   "cell_type": "code",
   "execution_count": 7,
   "source": [
    "np.median(age)"
   ],
   "outputs": [
    {
     "output_type": "execute_result",
     "data": {
      "text/plain": [
       "27.0"
      ]
     },
     "metadata": {},
     "execution_count": 7
    }
   ],
   "metadata": {}
  },
  {
   "cell_type": "code",
   "execution_count": 8,
   "source": [
    "stats.mode(age)"
   ],
   "outputs": [
    {
     "output_type": "execute_result",
     "data": {
      "text/plain": [
       "ModeResult(mode=array([27]), count=array([3]))"
      ]
     },
     "metadata": {},
     "execution_count": 8
    }
   ],
   "metadata": {}
  },
  {
   "cell_type": "code",
   "execution_count": 9,
   "source": [
    "stats.mode(age)[0]"
   ],
   "outputs": [
    {
     "output_type": "execute_result",
     "data": {
      "text/plain": [
       "array([27])"
      ]
     },
     "metadata": {},
     "execution_count": 9
    }
   ],
   "metadata": {}
  },
  {
   "cell_type": "code",
   "execution_count": 10,
   "source": [
    "np.std(age)"
   ],
   "outputs": [
    {
     "output_type": "execute_result",
     "data": {
      "text/plain": [
       "3.2572994949804666"
      ]
     },
     "metadata": {},
     "execution_count": 10
    }
   ],
   "metadata": {}
  },
  {
   "cell_type": "code",
   "execution_count": 11,
   "source": [
    "stats.mode(age)[1]"
   ],
   "outputs": [
    {
     "output_type": "execute_result",
     "data": {
      "text/plain": [
       "array([3])"
      ]
     },
     "metadata": {},
     "execution_count": 11
    }
   ],
   "metadata": {}
  },
  {
   "cell_type": "code",
   "execution_count": 12,
   "source": [
    "data = {\"D1\":[135, 137, 136, 138, 138],\r\n",
    "              \"D2\":[43,   42, 42, 42, 42],\r\n",
    "              \"D3\":[72, 73, 72, 72, 73],\r\n",
    "              \"D4\":[100, 102, 100, 103, 104]};"
   ],
   "outputs": [],
   "metadata": {}
  },
  {
   "cell_type": "code",
   "execution_count": 13,
   "source": [
    "df = pd.DataFrame(data)"
   ],
   "outputs": [],
   "metadata": {}
  },
  {
   "cell_type": "code",
   "execution_count": 14,
   "source": [
    "df"
   ],
   "outputs": [
    {
     "output_type": "execute_result",
     "data": {
      "text/html": [
       "<div>\n",
       "<style scoped>\n",
       "    .dataframe tbody tr th:only-of-type {\n",
       "        vertical-align: middle;\n",
       "    }\n",
       "\n",
       "    .dataframe tbody tr th {\n",
       "        vertical-align: top;\n",
       "    }\n",
       "\n",
       "    .dataframe thead th {\n",
       "        text-align: right;\n",
       "    }\n",
       "</style>\n",
       "<table border=\"1\" class=\"dataframe\">\n",
       "  <thead>\n",
       "    <tr style=\"text-align: right;\">\n",
       "      <th></th>\n",
       "      <th>D1</th>\n",
       "      <th>D2</th>\n",
       "      <th>D3</th>\n",
       "      <th>D4</th>\n",
       "    </tr>\n",
       "  </thead>\n",
       "  <tbody>\n",
       "    <tr>\n",
       "      <th>0</th>\n",
       "      <td>135</td>\n",
       "      <td>43</td>\n",
       "      <td>72</td>\n",
       "      <td>100</td>\n",
       "    </tr>\n",
       "    <tr>\n",
       "      <th>1</th>\n",
       "      <td>137</td>\n",
       "      <td>42</td>\n",
       "      <td>73</td>\n",
       "      <td>102</td>\n",
       "    </tr>\n",
       "    <tr>\n",
       "      <th>2</th>\n",
       "      <td>136</td>\n",
       "      <td>42</td>\n",
       "      <td>72</td>\n",
       "      <td>100</td>\n",
       "    </tr>\n",
       "    <tr>\n",
       "      <th>3</th>\n",
       "      <td>138</td>\n",
       "      <td>42</td>\n",
       "      <td>72</td>\n",
       "      <td>103</td>\n",
       "    </tr>\n",
       "    <tr>\n",
       "      <th>4</th>\n",
       "      <td>138</td>\n",
       "      <td>42</td>\n",
       "      <td>73</td>\n",
       "      <td>104</td>\n",
       "    </tr>\n",
       "  </tbody>\n",
       "</table>\n",
       "</div>"
      ],
      "text/plain": [
       "    D1  D2  D3   D4\n",
       "0  135  43  72  100\n",
       "1  137  42  73  102\n",
       "2  136  42  72  100\n",
       "3  138  42  72  103\n",
       "4  138  42  73  104"
      ]
     },
     "metadata": {},
     "execution_count": 14
    }
   ],
   "metadata": {}
  },
  {
   "cell_type": "code",
   "execution_count": 15,
   "source": [
    "df.mean() "
   ],
   "outputs": [
    {
     "output_type": "execute_result",
     "data": {
      "text/plain": [
       "D1    136.8\n",
       "D2     42.2\n",
       "D3     72.4\n",
       "D4    101.8\n",
       "dtype: float64"
      ]
     },
     "metadata": {},
     "execution_count": 15
    }
   ],
   "metadata": {}
  },
  {
   "cell_type": "code",
   "execution_count": 16,
   "source": [
    "df[\"D2\"].mean()"
   ],
   "outputs": [
    {
     "output_type": "execute_result",
     "data": {
      "text/plain": [
       "42.2"
      ]
     },
     "metadata": {},
     "execution_count": 16
    }
   ],
   "metadata": {}
  },
  {
   "cell_type": "code",
   "execution_count": 17,
   "source": [
    "df.values.mean() # All values"
   ],
   "outputs": [
    {
     "output_type": "execute_result",
     "data": {
      "text/plain": [
       "88.3"
      ]
     },
     "metadata": {},
     "execution_count": 17
    }
   ],
   "metadata": {}
  },
  {
   "cell_type": "code",
   "execution_count": 18,
   "source": [
    "df[\"D1\"].mode()"
   ],
   "outputs": [
    {
     "output_type": "execute_result",
     "data": {
      "text/plain": [
       "0    138\n",
       "dtype: int64"
      ]
     },
     "metadata": {},
     "execution_count": 18
    }
   ],
   "metadata": {}
  },
  {
   "cell_type": "code",
   "execution_count": 19,
   "source": [
    "df[\"D4\"].median()"
   ],
   "outputs": [
    {
     "output_type": "execute_result",
     "data": {
      "text/plain": [
       "102.0"
      ]
     },
     "metadata": {},
     "execution_count": 19
    }
   ],
   "metadata": {}
  },
  {
   "cell_type": "code",
   "execution_count": 20,
   "source": [
    "s_mean = 100\r\n",
    "s_std = 15\r\n",
    "samples = np.random.normal(s_mean, s_std, 1000)"
   ],
   "outputs": [],
   "metadata": {}
  },
  {
   "cell_type": "code",
   "execution_count": 21,
   "source": [
    "samples"
   ],
   "outputs": [
    {
     "output_type": "execute_result",
     "data": {
      "text/plain": [
       "array([113.25718873, 120.56437524,  82.98437184, 100.53017385,\n",
       "       106.96461165,  70.93981986, 100.95155019, 104.4701727 ,\n",
       "        85.7084813 , 116.71331574,  99.32726707,  94.53355683,\n",
       "       109.31463634, 109.97392466,  76.9105397 , 119.68898638,\n",
       "       100.47183191, 143.39449984, 121.72213763, 113.7355025 ,\n",
       "       115.36770781, 112.21227437, 115.0179231 ,  87.67319986,\n",
       "        77.726367  ,  88.75385613,  79.67094427, 122.03182528,\n",
       "        69.43882055,  86.49754669,  78.42622104, 120.47726563,\n",
       "        89.26357956,  83.39966232, 108.27176869, 103.32413188,\n",
       "       111.82155578, 113.62266209,  80.37310445, 139.06418221,\n",
       "        86.15809362, 111.05913253,  92.67287327,  72.67590949,\n",
       "        82.75136566,  97.13186748, 109.23835749,  96.80669919,\n",
       "       113.19029788, 109.36752365, 113.83063274, 108.15726634,\n",
       "       123.37202561, 104.397476  ,  93.12633934, 111.6852944 ,\n",
       "       102.33306128, 118.14643228, 108.52187383,  99.02767862,\n",
       "        88.39693964,  77.63290397, 110.32765957,  95.28760385,\n",
       "        97.91961093, 121.11913002, 120.88451918, 104.58596007,\n",
       "       103.68610818,  95.03691937,  99.98972436, 105.39698581,\n",
       "        68.33078946, 105.06783549,  99.97662022, 117.8303557 ,\n",
       "       112.34667719, 108.86193549,  94.10528627,  96.57825382,\n",
       "        95.864679  ,  91.76048934,  77.37558741, 123.20788479,\n",
       "       116.61524266, 116.34292104,  87.50613551,  83.50566475,\n",
       "       107.67142515, 113.52770216,  91.08142474, 104.67843541,\n",
       "        93.8290137 ,  72.79588124, 104.75622235, 120.62259894,\n",
       "        90.05362827,  99.49894076,  80.19525023,  94.0178357 ,\n",
       "       111.08338154,  89.98794569,  96.28549309,  87.27390308,\n",
       "        99.5246132 , 101.88291494, 104.60673498,  78.17633125,\n",
       "        86.10229055, 111.44304795, 118.08446795,  94.44285461,\n",
       "        88.00421543,  86.65868071,  92.3782406 ,  84.75983469,\n",
       "        75.48437327,  88.22944271, 131.63116681,  98.50336772,\n",
       "       102.02160835, 114.41141311, 137.34369812, 108.51542708,\n",
       "        97.82409248,  66.08205315,  91.85542567,  96.76213895,\n",
       "        82.30187552, 117.43310823,  99.37169942, 108.99682277,\n",
       "        94.48665832,  77.40420314, 113.20118289,  90.5413009 ,\n",
       "        95.45811111, 102.02103845,  97.84690074,  93.09129116,\n",
       "       122.50887072,  96.46816631, 129.21461808,  66.90083335,\n",
       "       115.09474536,  75.86353322,  75.51200821, 110.93330167,\n",
       "       103.84354747, 123.19777694, 108.55805756, 111.12152639,\n",
       "       127.29193683, 107.20290327,  83.35150584, 113.05954221,\n",
       "        77.99485947, 109.21757044,  89.4865396 , 113.94496802,\n",
       "        95.95203036, 101.30519946,  87.53464272, 107.04832755,\n",
       "        98.79239442,  99.60279979,  65.95954376, 110.08061504,\n",
       "        95.62749468, 100.28022311,  94.24275794, 125.36367236,\n",
       "       103.90212755, 121.4062553 ,  95.78375232, 102.03527024,\n",
       "       103.38081026, 107.87337758,  87.992048  ,  85.3141131 ,\n",
       "        74.80051041, 127.5326017 , 116.3958601 ,  92.51092797,\n",
       "        88.1251886 ,  72.4350417 ,  97.03322141,  99.66150253,\n",
       "       109.32250515,  95.65696925, 107.9162309 ,  85.72847216,\n",
       "       132.17314565,  93.11999742, 139.50387184, 121.76966725,\n",
       "        99.86294026,  95.06521729, 130.68117941,  87.67392549,\n",
       "       113.2673612 , 100.35919145, 113.17134493, 104.45980529,\n",
       "       105.77887364,  68.60908132,  97.19105463, 102.94392345,\n",
       "       109.70619178, 114.44682632, 118.9713432 , 117.69195321,\n",
       "       105.13982817, 127.39556066, 105.76107684,  73.02608834,\n",
       "        81.00669786, 112.84534444, 103.91484409, 109.81143026,\n",
       "       110.46267982, 113.94381825, 110.80926463,  91.00499471,\n",
       "       120.96779914, 106.8954142 , 130.02629695,  77.34694513,\n",
       "       110.31097425,  73.78372829,  80.53310644,  74.9092819 ,\n",
       "       114.93961905,  75.17846835, 107.74839529,  77.06355083,\n",
       "        93.48101632,  96.61134273, 112.08456317, 100.12959931,\n",
       "       107.69941502, 113.77949943, 109.9572739 ,  92.30563088,\n",
       "        82.60876106, 105.40203874, 106.95396109, 102.50610573,\n",
       "       125.14932082,  99.78696456, 122.74114195, 117.52734783,\n",
       "       107.51281268,  88.1568908 , 100.43100258, 105.64579539,\n",
       "        97.01480767,  93.41947426,  95.59074936,  88.71249242,\n",
       "        95.00379917,  67.05027272, 111.31886428, 104.91460577,\n",
       "        86.39518405, 102.33010378, 112.76014672, 110.37485569,\n",
       "       114.25713992, 104.55691175,  90.16878439,  95.02830672,\n",
       "       106.38287974,  89.29277829,  87.79063454, 116.50815423,\n",
       "        92.04597049,  87.92443675,  85.98712023,  87.14457061,\n",
       "       115.04862099, 127.3393794 ,  99.13285273,  97.19351655,\n",
       "       120.61006538, 102.57790892,  96.02035373, 122.6675931 ,\n",
       "       111.33332994,  79.5301583 , 110.12273736, 131.55042536,\n",
       "       112.91748102, 109.95733512, 118.51567412,  98.10851033,\n",
       "        87.06392425, 119.76571247,  96.73459638,  78.94659911,\n",
       "       119.8051025 ,  84.22915245, 121.22841665,  94.51960803,\n",
       "        69.74268277, 125.56961261, 121.87390071,  91.84798843,\n",
       "        96.86662266, 121.55841046,  86.44422858, 125.30865394,\n",
       "       101.76882963, 102.45427223,  74.54688821,  88.17629688,\n",
       "       101.98884017,  98.41508504,  87.59642144,  94.59240831,\n",
       "        73.76745605, 104.20019428,  92.56891537, 105.44778709,\n",
       "        93.97174659,  96.67179273, 109.61686575, 114.71173056,\n",
       "        89.14912683,  93.43754145, 109.55543421, 121.056413  ,\n",
       "       118.1687554 , 107.9927413 , 127.90659877,  77.12354742,\n",
       "       100.64900592, 114.15825621,  71.53969994,  98.80847336,\n",
       "       115.53507038, 100.88792613, 103.21945386,  95.31432148,\n",
       "        92.59335249,  96.69647816,  94.92396066, 112.77078995,\n",
       "        88.1223706 , 116.33627959,  61.92411068, 104.50464867,\n",
       "        96.43408964,  94.74126612, 103.77754775, 102.09806145,\n",
       "        79.75335081,  64.5856991 ,  92.29245094,  95.74801712,\n",
       "       105.72417604, 100.22247523,  94.6979094 ,  98.4737793 ,\n",
       "        75.58055891, 100.40569444, 108.39685515,  87.75174682,\n",
       "        94.51922904,  97.47589742,  61.8127488 , 100.33180482,\n",
       "       120.64179557,  91.93520457,  95.43813312,  93.51385683,\n",
       "       111.23553855,  62.66435593,  90.52031091,  94.18787252,\n",
       "        93.36848211,  98.92591987,  88.68429823, 104.25582349,\n",
       "        90.04492785,  92.90817047,  82.51354051, 107.85548897,\n",
       "       119.09340156,  75.78330685,  97.98994901, 103.39777981,\n",
       "       113.25188238,  75.27057513, 106.49692312, 109.93369137,\n",
       "       108.8596252 ,  88.93988748,  86.93113235,  92.34230149,\n",
       "        77.69880291,  82.6839688 ,  72.76495794,  84.53448043,\n",
       "       109.85210731,  93.50046932,  85.38200186, 107.79715952,\n",
       "       116.04233358,  98.99491906, 110.90832561,  91.38761792,\n",
       "       105.70944521,  93.14736668, 105.36673125,  74.60148001,\n",
       "        96.02011387, 104.52321641,  86.36984201, 106.45683489,\n",
       "        93.51142992, 112.83239449,  93.11723001,  99.39537839,\n",
       "        81.93683826, 107.69192901,  90.88811811, 106.27189304,\n",
       "       103.43216901,  71.31749351, 101.76862831,  76.47806015,\n",
       "       100.78992095, 132.02730637, 109.6167682 , 106.05274457,\n",
       "       109.77289054,  84.09331694, 101.96885635, 103.76157838,\n",
       "       113.27860233,  74.00651673, 104.06649136, 102.01416674,\n",
       "       118.90970249, 118.82831038, 121.06205757,  89.53626949,\n",
       "        89.14601471, 123.3925678 ,  91.0586384 , 104.38613678,\n",
       "        74.81062759, 124.50723149, 102.35532123, 109.85330804,\n",
       "        90.54507969,  98.83226996,  97.54505192, 108.70967147,\n",
       "       102.78682358, 109.50191792, 109.12781017,  90.71691547,\n",
       "        84.75397913,  83.17520338,  91.85663057,  96.58140379,\n",
       "       112.45342648,  99.28835207, 103.86453961, 130.89220224,\n",
       "       109.29234638,  95.40880039, 104.82886656,  95.74236145,\n",
       "       101.51508221, 125.33366564, 124.45643897,  80.46979525,\n",
       "        88.40396495,  67.64650073, 125.42275422,  90.72460448,\n",
       "       106.72082269,  94.09093636,  89.57824388, 116.20375545,\n",
       "        96.17090481,  89.35674176,  98.36853758,  87.9691959 ,\n",
       "        87.52729744,  93.82403523,  93.00760473,  94.02335862,\n",
       "       135.56154068, 111.25156772, 114.46935835,  97.13676544,\n",
       "        93.98336415,  74.77614492, 100.5628164 , 120.36316477,\n",
       "       110.52503249,  95.29005537, 108.26451158, 111.54734688,\n",
       "       109.83149957, 113.91528142, 101.48409848, 101.59095777,\n",
       "       123.8261741 , 104.84422411,  97.87442155, 113.41731577,\n",
       "       104.54127789,  91.78917544, 129.20239731, 127.56220134,\n",
       "       120.68864635, 102.3662094 ,  95.44384441,  94.09310509,\n",
       "       111.51042048,  61.91092627, 125.60024416,  74.48185176,\n",
       "        96.83067144,  92.07366834,  90.78789721,  96.79229731,\n",
       "        87.99536088,  68.07716669, 116.30981639, 102.52503363,\n",
       "        84.18798526, 114.93226428, 107.90739065,  75.13895119,\n",
       "        97.96081142,  87.59565907,  93.83728005,  89.45930853,\n",
       "        72.56273327,  95.55328032,  96.60937816,  99.4990622 ,\n",
       "        92.26964858,  82.86533254, 117.82165657, 111.74332055,\n",
       "       112.33383116,  93.27062127, 108.21516638, 114.29388736,\n",
       "       103.25823764, 119.28508694,  98.94143818,  41.19527587,\n",
       "       123.65723245,  91.75361237, 103.38247345, 125.46012164,\n",
       "        92.96633979,  99.06144304, 127.60099367,  76.89958129,\n",
       "        85.59991835,  77.89934836,  96.63096575,  86.12035017,\n",
       "       118.95995029, 110.60482574,  88.71619617, 109.23823389,\n",
       "       110.56942135,  84.59770743,  96.9726667 ,  75.60618445,\n",
       "       113.83761593,  84.09507628, 102.72649289,  76.15639452,\n",
       "        93.98674278,  98.74154483, 102.87414867,  94.53753403,\n",
       "       104.48711364,  98.44635639, 109.07380604, 104.47622488,\n",
       "       130.42711596,  91.55543159,  97.36549857, 101.60789546,\n",
       "       110.66364421, 133.38974101,  81.80926478, 125.18983484,\n",
       "       112.91081232,  98.70258679,  95.44483316, 106.13698796,\n",
       "        90.83364848,  92.07381614, 109.56764856, 116.80054768,\n",
       "        95.88860131,  90.13055959,  97.94390003, 125.77667552,\n",
       "        98.19792211,  92.79321945, 114.29769315, 121.99284826,\n",
       "        74.14449383,  98.47891296,  95.5352559 , 114.26025879,\n",
       "        78.85375304,  99.70334072, 111.34617903, 103.61034216,\n",
       "       118.60077611, 107.46780253,  80.15447698, 104.22914571,\n",
       "       119.79365924, 102.19774865,  96.0505869 , 112.15851815,\n",
       "       113.44760845,  94.93456482,  79.47391336, 109.1739072 ,\n",
       "        95.25865332,  81.24287534,  83.3165294 , 121.51246472,\n",
       "       105.93125021,  91.69633046,  86.01370352, 115.50697384,\n",
       "        77.64625473,  99.56045985, 106.84726004, 115.4232203 ,\n",
       "        97.39584913, 116.76369761, 107.12179291,  97.13935288,\n",
       "        87.48742161, 106.61474218, 104.06561524,  99.19933008,\n",
       "        74.93790405, 100.8279029 ,  85.7864527 , 120.0135877 ,\n",
       "        82.88323039,  92.3292461 , 115.31518281,  87.49471913,\n",
       "       117.64705583, 111.06862154, 124.30403951,  71.9585767 ,\n",
       "        83.29830521,  63.79077207, 104.56407692, 120.05352527,\n",
       "        93.47882153, 106.3331599 ,  74.08038814,  92.04581349,\n",
       "        84.72729975, 106.62396797, 125.2675132 , 101.07810214,\n",
       "       111.91980988, 112.22522445, 110.97121319,  92.18395745,\n",
       "       103.89312128, 110.33868768,  91.84186824,  92.32126721,\n",
       "       100.01991717,  98.69354462, 107.11393488,  87.42329522,\n",
       "       100.93163763,  85.43138192, 108.7589683 ,  94.48898787,\n",
       "        68.40302564, 113.44236137, 107.9900058 ,  86.08425295,\n",
       "        96.46492356, 113.05838509, 120.92329611,  94.47464486,\n",
       "       109.29141053,  86.50383622,  82.88013963, 121.80962923,\n",
       "       116.45691628,  89.86144253,  76.22402132, 103.71208423,\n",
       "       120.63541726, 118.20254022,  75.68477151,  96.27257175,\n",
       "        88.18599989, 120.34489514, 124.28426736,  96.5971477 ,\n",
       "        97.47044263,  87.74556257,  78.00984497,  92.92719436,\n",
       "        98.50608072, 112.30646435,  84.90838575,  89.19479048,\n",
       "        99.65870901,  93.57399871, 104.63610048, 111.78323296,\n",
       "       108.64999543, 106.2985422 , 112.75707736, 120.27125715,\n",
       "       128.18080603,  87.43832081, 136.1793856 ,  80.54819094,\n",
       "        89.38674429, 104.38731606,  94.80272679, 127.14078483,\n",
       "       101.08724662, 106.77944057,  91.73624242, 116.05892682,\n",
       "        78.27337436, 110.75605192, 129.16485836, 120.3275992 ,\n",
       "       121.747981  , 125.70827978,  96.81592144,  99.06797403,\n",
       "        74.95322776, 104.1178111 , 107.26898807,  82.27174496,\n",
       "        98.94261944, 106.67258034, 106.66926266, 133.72401038,\n",
       "        73.02505281,  88.7313941 ,  98.21583818,  74.13261989,\n",
       "       106.21006182,  85.76459736, 109.46970016,  94.15393205,\n",
       "        88.86903591,  72.03128546,  94.33998031,  91.95501101,\n",
       "        97.65624467, 105.5811828 ,  85.63791999,  77.87064581,\n",
       "       105.16568079,  74.02609492, 128.75783268, 110.96717009,\n",
       "        87.85333265,  98.7285748 , 113.87558027, 102.72986665,\n",
       "        79.28618241, 108.54250795, 106.97520791, 102.99379724,\n",
       "        93.43487358,  79.28896351,  94.33688551,  98.24188503,\n",
       "       108.66555314,  75.9798888 ,  97.30444114,  92.95130624,\n",
       "        80.87466088, 106.54203356,  95.09470761, 103.2866978 ,\n",
       "       109.06689132,  96.12791782, 102.98226903,  84.34172923,\n",
       "        61.04821061,  96.39309681,  97.92917386, 101.52445591,\n",
       "       106.2085231 , 108.78033624, 101.64632125,  98.40809629,\n",
       "        99.68937146,  94.13664363, 142.30221887, 107.63023888,\n",
       "       101.5224584 ,  70.87632681, 126.47830756, 100.70585974,\n",
       "       115.26427905,  86.53164551,  91.7997925 ,  96.07147381,\n",
       "       137.19904981,  78.65590248,  94.10389027, 127.68313708,\n",
       "       102.10686841,  81.08581885, 130.31052755, 102.17301404,\n",
       "       105.36102062,  86.9411066 ,  76.48554432,  93.75962348,\n",
       "        97.79415891,  85.84436802, 123.23644508,  86.88887024,\n",
       "        86.32101161, 111.41203932, 100.98427277, 111.87699634,\n",
       "        94.27183242, 111.12882734, 120.31605589, 114.36920751,\n",
       "       114.19653273,  72.6664494 , 109.86256139,  95.8328133 ,\n",
       "       105.0840232 ,  80.109131  , 107.84012871, 102.07836362,\n",
       "        93.52701413, 101.93366395, 116.51217405, 105.27295551,\n",
       "       133.06250469, 118.71548634, 118.74328952,  81.87060495,\n",
       "        74.60588554, 118.52679029,  84.20592948, 116.34108564,\n",
       "       100.57275975,  79.14002789,  75.41586941,  78.58290621,\n",
       "        98.51530067,  91.1208485 ,  92.91938171,  94.21328317,\n",
       "       121.50975997,  88.99551597,  88.20294768, 100.86190678,\n",
       "        45.80133515, 102.20813047, 106.27013413,  97.74726092,\n",
       "        81.91162979, 101.02369253,  63.8847416 ,  89.8931932 ,\n",
       "        97.13560594,  93.51458038, 112.55911228, 122.41479456,\n",
       "       114.98893298,  84.59790116, 100.21294736,  78.95652322,\n",
       "       131.60271184, 109.96768142, 107.70705533,  77.35876553,\n",
       "        86.48574029,  89.75009742, 117.7566914 ,  90.20671985,\n",
       "        85.18633887,  99.74930027,  82.75411391,  93.67012186,\n",
       "        92.67169015,  97.02520571,  83.89965285,  91.32027723,\n",
       "        96.50778839, 115.97837468,  94.142806  , 106.76939937,\n",
       "       104.17111449, 120.36279035,  90.71475129,  91.66841522,\n",
       "       111.19327322,  97.07587951, 110.10297678, 124.55368181,\n",
       "       100.58110337,  68.4073185 ,  96.19637276, 120.67952591,\n",
       "        92.45976789, 109.77602736, 120.05074693,  95.27429938,\n",
       "       105.92602118,  90.21619561, 110.88395945, 108.60419883,\n",
       "        87.60129756, 104.46279354,  92.92847326,  88.59454898,\n",
       "        73.63205957,  74.73582778,  93.80645977,  90.25080318,\n",
       "        94.89674175, 121.23583175, 107.59887657,  87.27291046,\n",
       "       111.46585261, 112.83795009,  99.43420451,  91.92085658,\n",
       "       102.9396422 , 121.51538966,  98.43515293,  95.70879852,\n",
       "        94.77563739, 103.23860807,  98.15853764,  89.48874731,\n",
       "       101.2927504 ,  73.39071179, 121.00705349,  97.41135414,\n",
       "        65.53409311, 112.12446886, 116.1045401 ,  95.33022378,\n",
       "        92.86063572,  80.23872636, 101.16611004,  82.81605349,\n",
       "       112.14042811, 102.45030866,  96.34438655,  85.83506479,\n",
       "       135.57171597, 105.48825428, 117.86911936,  97.32795017,\n",
       "       111.99886448,  96.91005011,  82.18429851,  65.17025746,\n",
       "        89.78101139, 104.84959321,  69.99134714, 118.28092375,\n",
       "       102.60479629, 101.14005303,  98.55929272,  99.31541037,\n",
       "        96.03717579, 116.00924418, 112.81886794, 118.12286675])"
      ]
     },
     "metadata": {},
     "execution_count": 21
    }
   ],
   "metadata": {}
  },
  {
   "cell_type": "code",
   "execution_count": 22,
   "source": [
    "plt.figure(figsize=(12,7))\r\n",
    "sns.lineplot(y=samples, x=range(0,1000));"
   ],
   "outputs": [
    {
     "output_type": "display_data",
     "data": {
      "image/png": "[encoded data removed]",
      "text/plain": [
       "<Figure size 864x504 with 1 Axes>"
      ]
     },
     "metadata": {
      "needs_background": "light"
     }
    }
   ],
   "metadata": {}
  },
  {
   "cell_type": "code",
   "execution_count": 23,
   "source": [
    "plt.figure(figsize=(12,7))\r\n",
    "sns.histplot(x=samples, kde=True, bins=100);"
   ],
   "outputs": [
    {
     "output_type": "display_data",
     "data": {
      "image/png": "[encoded data removed]",
      "text/plain": [
       "<Figure size 864x504 with 1 Axes>"
      ]
     },
     "metadata": {
      "needs_background": "light"
     }
    }
   ],
   "metadata": {}
  },
  {
   "cell_type": "code",
   "execution_count": 24,
   "source": [
    "age2 = [20, 22, 25, 25, 27, 27, 27, 29, 30, 31, 121]"
   ],
   "outputs": [],
   "metadata": {}
  },
  {
   "cell_type": "code",
   "execution_count": 25,
   "source": [
    "np.std(age2)"
   ],
   "outputs": [
    {
     "output_type": "execute_result",
     "data": {
      "text/plain": [
       "27.400910885504736"
      ]
     },
     "metadata": {},
     "execution_count": 25
    }
   ],
   "metadata": {}
  },
  {
   "cell_type": "code",
   "execution_count": 26,
   "source": [
    "np.max(age2) - np.min(age2)"
   ],
   "outputs": [
    {
     "output_type": "execute_result",
     "data": {
      "text/plain": [
       "101"
      ]
     },
     "metadata": {},
     "execution_count": 26
    }
   ],
   "metadata": {}
  },
  {
   "cell_type": "code",
   "execution_count": 27,
   "source": [
    "np.var(age2) # Variance"
   ],
   "outputs": [
    {
     "output_type": "execute_result",
     "data": {
      "text/plain": [
       "750.809917355372"
      ]
     },
     "metadata": {},
     "execution_count": 27
    }
   ],
   "metadata": {}
  },
  {
   "cell_type": "code",
   "execution_count": 28,
   "source": [
    "iqr(age2)"
   ],
   "outputs": [
    {
     "output_type": "execute_result",
     "data": {
      "text/plain": [
       "4.5"
      ]
     },
     "metadata": {},
     "execution_count": 28
    }
   ],
   "metadata": {}
  },
  {
   "cell_type": "code",
   "execution_count": 29,
   "source": [
    "np.percentile(age2, 25)"
   ],
   "outputs": [
    {
     "output_type": "execute_result",
     "data": {
      "text/plain": [
       "25.0"
      ]
     },
     "metadata": {},
     "execution_count": 29
    }
   ],
   "metadata": {}
  },
  {
   "cell_type": "code",
   "execution_count": 30,
   "source": [
    "np.percentile(age2, 75)"
   ],
   "outputs": [
    {
     "output_type": "execute_result",
     "data": {
      "text/plain": [
       "29.5"
      ]
     },
     "metadata": {},
     "execution_count": 30
    }
   ],
   "metadata": {}
  },
  {
   "cell_type": "code",
   "execution_count": 31,
   "source": [
    "np.median(age2)"
   ],
   "outputs": [
    {
     "output_type": "execute_result",
     "data": {
      "text/plain": [
       "27.0"
      ]
     },
     "metadata": {},
     "execution_count": 31
    }
   ],
   "metadata": {}
  },
  {
   "cell_type": "code",
   "execution_count": 32,
   "source": [
    "np.percentile(age2, 50)"
   ],
   "outputs": [
    {
     "output_type": "execute_result",
     "data": {
      "text/plain": [
       "27.0"
      ]
     },
     "metadata": {},
     "execution_count": 32
    }
   ],
   "metadata": {}
  },
  {
   "cell_type": "code",
   "execution_count": 33,
   "source": [
    "stats.kurtosis(age2)"
   ],
   "outputs": [
    {
     "output_type": "execute_result",
     "data": {
      "text/plain": [
       "5.876609699981859"
      ]
     },
     "metadata": {},
     "execution_count": 33
    }
   ],
   "metadata": {}
  },
  {
   "cell_type": "code",
   "execution_count": 34,
   "source": [
    "stats.skew(age2)"
   ],
   "outputs": [
    {
     "output_type": "execute_result",
     "data": {
      "text/plain": [
       "2.778572264050739"
      ]
     },
     "metadata": {},
     "execution_count": 34
    }
   ],
   "metadata": {}
  },
  {
   "cell_type": "code",
   "execution_count": 35,
   "source": [
    "age3 = [25, 28, 29, 29, 30, 34, 35, 37, 38]"
   ],
   "outputs": [],
   "metadata": {}
  },
  {
   "cell_type": "code",
   "execution_count": 36,
   "source": [
    "np.median(age3)"
   ],
   "outputs": [
    {
     "output_type": "execute_result",
     "data": {
      "text/plain": [
       "30.0"
      ]
     },
     "metadata": {},
     "execution_count": 36
    }
   ],
   "metadata": {}
  },
  {
   "cell_type": "code",
   "execution_count": 37,
   "source": [
    "np.percentile(age3, 25) # q1"
   ],
   "outputs": [
    {
     "output_type": "execute_result",
     "data": {
      "text/plain": [
       "29.0"
      ]
     },
     "metadata": {},
     "execution_count": 37
    }
   ],
   "metadata": {}
  },
  {
   "cell_type": "code",
   "execution_count": 38,
   "source": [
    "np.percentile(age3, 75) # q3"
   ],
   "outputs": [
    {
     "output_type": "execute_result",
     "data": {
      "text/plain": [
       "35.0"
      ]
     },
     "metadata": {},
     "execution_count": 38
    }
   ],
   "metadata": {}
  },
  {
   "cell_type": "code",
   "execution_count": 39,
   "source": [
    "iqr_1_3 = np.percentile(age3, 75) - np.percentile(age3, 25)"
   ],
   "outputs": [],
   "metadata": {}
  },
  {
   "cell_type": "code",
   "execution_count": 40,
   "source": [
    "iqr_1_3"
   ],
   "outputs": [
    {
     "output_type": "execute_result",
     "data": {
      "text/plain": [
       "6.0"
      ]
     },
     "metadata": {},
     "execution_count": 40
    }
   ],
   "metadata": {}
  },
  {
   "cell_type": "code",
   "execution_count": 41,
   "source": [
    "1.5*iqr_1_3"
   ],
   "outputs": [
    {
     "output_type": "execute_result",
     "data": {
      "text/plain": [
       "9.0"
      ]
     },
     "metadata": {},
     "execution_count": 41
    }
   ],
   "metadata": {}
  },
  {
   "cell_type": "markdown",
   "source": [
    "#### Numpy Correlation"
   ],
   "metadata": {}
  },
  {
   "cell_type": "code",
   "execution_count": 1,
   "source": [
    "x = np.arange(10,20)"
   ],
   "outputs": [
    {
     "output_type": "display_data",
     "data": {
      "application/javascript": "\n        if (window._pyforest_update_imports_cell) { window._pyforest_update_imports_cell('import numpy as np'); }\n    ",
      "text/plain": [
       "<IPython.core.display.Javascript object>"
      ]
     },
     "metadata": {}
    }
   ],
   "metadata": {}
  },
  {
   "cell_type": "code",
   "execution_count": 42,
   "source": [
    "y =  np.random.randint(0, 100, 10)"
   ],
   "outputs": [],
   "metadata": {}
  },
  {
   "cell_type": "code",
   "execution_count": 43,
   "source": [
    "r =  np.corrcoef(x,y)\r\n",
    "r"
   ],
   "outputs": [
    {
     "output_type": "execute_result",
     "data": {
      "text/plain": [
       "array([[1.        , 0.13368599],\n",
       "       [0.13368599, 1.        ]])"
      ]
     },
     "metadata": {},
     "execution_count": 43
    }
   ],
   "metadata": {}
  },
  {
   "cell_type": "markdown",
   "source": [
    "#### Pandas Correlation Calculation"
   ],
   "metadata": {}
  },
  {
   "cell_type": "code",
   "execution_count": 44,
   "source": [
    "x = pd.Series(range(10, 20))\r\n",
    "y = pd.Series([2, 1, 4, 5, 8, 12, 18, 25, 96, 48])"
   ],
   "outputs": [],
   "metadata": {}
  },
  {
   "cell_type": "code",
   "execution_count": 45,
   "source": [
    "r = x.corr(y) \r\n",
    "r"
   ],
   "outputs": [
    {
     "output_type": "execute_result",
     "data": {
      "text/plain": [
       "0.7586402890911867"
      ]
     },
     "metadata": {},
     "execution_count": 45
    }
   ],
   "metadata": {}
  },
  {
   "cell_type": "markdown",
   "source": [
    "#### Spearman's rho Correlation."
   ],
   "metadata": {}
  },
  {
   "cell_type": "code",
   "execution_count": 46,
   "source": [
    "rho = x.corr(y, method='spearman')\r\n",
    "rho"
   ],
   "outputs": [
    {
     "output_type": "execute_result",
     "data": {
      "text/plain": [
       "0.9757575757575757"
      ]
     },
     "metadata": {},
     "execution_count": 46
    }
   ],
   "metadata": {}
  },
  {
   "cell_type": "code",
   "execution_count": null,
   "source": [],
   "outputs": [],
   "metadata": {}
  }
 ],
 "metadata": {
  "orig_nbformat": 4,
  "language_info": {
   "name": "python",
   "version": "3.9.0",
   "mimetype": "text/x-python",
   "codemirror_mode": {
    "name": "ipython",
    "version": 3
   },
   "pygments_lexer": "ipython3",
   "nbconvert_exporter": "python",
   "file_extension": ".py"
  },
  "kernelspec": {
   "name": "python3",
   "display_name": "Python 3.9.0 64-bit (system)"
  },
  "interpreter": {
   "hash": "43a9cd95aa030499ef934e4da31e07dde54f3fc3a1fd0cc4aeef7f16459ee2ac"
  }
 },
 "nbformat": 4,
 "nbformat_minor": 2
}