{
 "cells": [
  {
   "cell_type": "markdown",
   "source": [
    "#### Libraries"
   ],
   "metadata": {}
  },
  {
   "cell_type": "code",
   "execution_count": 1,
   "source": [
    "import numpy as np \r\n",
    "import pandas as pd \r\n",
    "from scipy import stats\r\n",
    "from scipy.stats import iqr\r\n",
    "import matplotlib.pyplot as plt\r\n",
    "import seaborn as sns"
   ],
   "outputs": [],
   "metadata": {}
  },
  {
   "cell_type": "markdown",
   "source": [
    "#### Mean Median Mode Standard Deviation Variance IQR"
   ],
   "metadata": {}
  },
  {
   "cell_type": "code",
   "execution_count": 2,
   "source": [
    "np.array([0,20,40,40,50]).std()"
   ],
   "outputs": [
    {
     "output_type": "execute_result",
     "data": {
      "text/plain": [
       "17.88854381999832"
      ]
     },
     "metadata": {},
     "execution_count": 2
    }
   ],
   "metadata": {}
  },
  {
   "cell_type": "code",
   "execution_count": 3,
   "source": [
    "np.array([0,20,40,40,50]).mean()"
   ],
   "outputs": [
    {
     "output_type": "execute_result",
     "data": {
      "text/plain": [
       "30.0"
      ]
     },
     "metadata": {},
     "execution_count": 3
    }
   ],
   "metadata": {}
  },
  {
   "cell_type": "code",
   "execution_count": 4,
   "source": [
    "age = [20, 22, 25, 25, 27, 27, 27, 29, 30, 31]"
   ],
   "outputs": [],
   "metadata": {}
  },
  {
   "cell_type": "code",
   "execution_count": 5,
   "source": [
    "np.mean(age)"
   ],
   "outputs": [
    {
     "output_type": "execute_result",
     "data": {
      "text/plain": [
       "26.3"
      ]
     },
     "metadata": {},
     "execution_count": 5
    }
   ],
   "metadata": {}
  },
  {
   "cell_type": "code",
   "execution_count": 6,
   "source": [
    "np.median(age)"
   ],
   "outputs": [
    {
     "output_type": "execute_result",
     "data": {
      "text/plain": [
       "27.0"
      ]
     },
     "metadata": {},
     "execution_count": 6
    }
   ],
   "metadata": {}
  },
  {
   "cell_type": "code",
   "execution_count": 7,
   "source": [
    "stats.mode(age)"
   ],
   "outputs": [
    {
     "output_type": "execute_result",
     "data": {
      "text/plain": [
       "ModeResult(mode=array([27]), count=array([3]))"
      ]
     },
     "metadata": {},
     "execution_count": 7
    }
   ],
   "metadata": {}
  },
  {
   "cell_type": "code",
   "execution_count": 8,
   "source": [
    "stats.mode(age)[0]"
   ],
   "outputs": [
    {
     "output_type": "execute_result",
     "data": {
      "text/plain": [
       "array([27])"
      ]
     },
     "metadata": {},
     "execution_count": 8
    }
   ],
   "metadata": {}
  },
  {
   "cell_type": "code",
   "execution_count": 9,
   "source": [
    "np.std(age)"
   ],
   "outputs": [
    {
     "output_type": "execute_result",
     "data": {
      "text/plain": [
       "3.2572994949804666"
      ]
     },
     "metadata": {},
     "execution_count": 9
    }
   ],
   "metadata": {}
  },
  {
   "cell_type": "code",
   "execution_count": 10,
   "source": [
    "stats.mode(age)[1]"
   ],
   "outputs": [
    {
     "output_type": "execute_result",
     "data": {
      "text/plain": [
       "array([3])"
      ]
     },
     "metadata": {},
     "execution_count": 10
    }
   ],
   "metadata": {}
  },
  {
   "cell_type": "code",
   "execution_count": 11,
   "source": [
    "data = {\"D1\":[135, 137, 136, 138, 138],\r\n",
    "              \"D2\":[43,   42, 42, 42, 42],\r\n",
    "              \"D3\":[72, 73, 72, 72, 73],\r\n",
    "              \"D4\":[100, 102, 100, 103, 104]};"
   ],
   "outputs": [],
   "metadata": {}
  },
  {
   "cell_type": "code",
   "execution_count": 12,
   "source": [
    "df = pd.DataFrame(data)"
   ],
   "outputs": [],
   "metadata": {}
  },
  {
   "cell_type": "code",
   "execution_count": 13,
   "source": [
    "df"
   ],
   "outputs": [
    {
     "output_type": "execute_result",
     "data": {
      "text/html": [
       "<div>\n",
       "<style scoped>\n",
       "    .dataframe tbody tr th:only-of-type {\n",
       "        vertical-align: middle;\n",
       "    }\n",
       "\n",
       "    .dataframe tbody tr th {\n",
       "        vertical-align: top;\n",
       "    }\n",
       "\n",
       "    .dataframe thead th {\n",
       "        text-align: right;\n",
       "    }\n",
       "</style>\n",
       "<table border=\"1\" class=\"dataframe\">\n",
       "  <thead>\n",
       "    <tr style=\"text-align: right;\">\n",
       "      <th></th>\n",
       "      <th>D1</th>\n",
       "      <th>D2</th>\n",
       "      <th>D3</th>\n",
       "      <th>D4</th>\n",
       "    </tr>\n",
       "  </thead>\n",
       "  <tbody>\n",
       "    <tr>\n",
       "      <th>0</th>\n",
       "      <td>135</td>\n",
       "      <td>43</td>\n",
       "      <td>72</td>\n",
       "      <td>100</td>\n",
       "    </tr>\n",
       "    <tr>\n",
       "      <th>1</th>\n",
       "      <td>137</td>\n",
       "      <td>42</td>\n",
       "      <td>73</td>\n",
       "      <td>102</td>\n",
       "    </tr>\n",
       "    <tr>\n",
       "      <th>2</th>\n",
       "      <td>136</td>\n",
       "      <td>42</td>\n",
       "      <td>72</td>\n",
       "      <td>100</td>\n",
       "    </tr>\n",
       "    <tr>\n",
       "      <th>3</th>\n",
       "      <td>138</td>\n",
       "      <td>42</td>\n",
       "      <td>72</td>\n",
       "      <td>103</td>\n",
       "    </tr>\n",
       "    <tr>\n",
       "      <th>4</th>\n",
       "      <td>138</td>\n",
       "      <td>42</td>\n",
       "      <td>73</td>\n",
       "      <td>104</td>\n",
       "    </tr>\n",
       "  </tbody>\n",
       "</table>\n",
       "</div>"
      ],
      "text/plain": [
       "    D1  D2  D3   D4\n",
       "0  135  43  72  100\n",
       "1  137  42  73  102\n",
       "2  136  42  72  100\n",
       "3  138  42  72  103\n",
       "4  138  42  73  104"
      ]
     },
     "metadata": {},
     "execution_count": 13
    }
   ],
   "metadata": {}
  },
  {
   "cell_type": "code",
   "execution_count": 14,
   "source": [
    "df.mean() "
   ],
   "outputs": [
    {
     "output_type": "execute_result",
     "data": {
      "text/plain": [
       "D1    136.8\n",
       "D2     42.2\n",
       "D3     72.4\n",
       "D4    101.8\n",
       "dtype: float64"
      ]
     },
     "metadata": {},
     "execution_count": 14
    }
   ],
   "metadata": {}
  },
  {
   "cell_type": "code",
   "execution_count": 15,
   "source": [
    "df[\"D2\"].mean()"
   ],
   "outputs": [
    {
     "output_type": "execute_result",
     "data": {
      "text/plain": [
       "42.2"
      ]
     },
     "metadata": {},
     "execution_count": 15
    }
   ],
   "metadata": {}
  },
  {
   "cell_type": "code",
   "execution_count": 16,
   "source": [
    "df.values.mean() # All values"
   ],
   "outputs": [
    {
     "output_type": "execute_result",
     "data": {
      "text/plain": [
       "88.3"
      ]
     },
     "metadata": {},
     "execution_count": 16
    }
   ],
   "metadata": {}
  },
  {
   "cell_type": "code",
   "execution_count": 17,
   "source": [
    "df[\"D1\"].mode()"
   ],
   "outputs": [
    {
     "output_type": "execute_result",
     "data": {
      "text/plain": [
       "0    138\n",
       "dtype: int64"
      ]
     },
     "metadata": {},
     "execution_count": 17
    }
   ],
   "metadata": {}
  },
  {
   "cell_type": "code",
   "execution_count": 18,
   "source": [
    "df[\"D4\"].median()"
   ],
   "outputs": [
    {
     "output_type": "execute_result",
     "data": {
      "text/plain": [
       "102.0"
      ]
     },
     "metadata": {},
     "execution_count": 18
    }
   ],
   "metadata": {}
  },
  {
   "cell_type": "code",
   "execution_count": 19,
   "source": [
    "s_mean = 100\r\n",
    "s_std = 15\r\n",
    "samples = np.random.normal(s_mean, s_std, 1000)"
   ],
   "outputs": [],
   "metadata": {}
  },
  {
   "cell_type": "code",
   "execution_count": 20,
   "source": [
    "samples"
   ],
   "outputs": [
    {
     "output_type": "execute_result",
     "data": {
      "text/plain": [
       "array([124.39980799,  91.0106791 ,  91.78011703, 104.24881025,\n",
       "       115.93527026, 117.85159961, 101.78534933, 101.58446867,\n",
       "       103.77943991,  87.8084199 ,  92.95491576,  78.53868779,\n",
       "        81.39722275, 113.66619995, 101.61683087,  76.84993537,\n",
       "       118.1751863 ,  84.4714618 , 109.83640528,  96.18227359,\n",
       "        94.31504104, 103.83131767, 122.10807517, 112.88365349,\n",
       "        87.60727129,  80.56782426, 101.87493472, 121.55933927,\n",
       "       112.17824562, 120.49504439,  91.81282129,  94.12886861,\n",
       "       103.81523367, 103.8931733 , 115.16846635,  86.75905686,\n",
       "        69.95110472, 108.70753297,  93.28490784,  99.68687548,\n",
       "       131.18801262, 112.97026518,  88.04146447,  81.43855717,\n",
       "        87.10404903,  98.86922047, 118.61470678,  99.50515866,\n",
       "       104.93788006,  90.98794079, 105.39243452, 106.75402559,\n",
       "        87.21805675,  97.9934461 ,  84.96668405,  89.50011374,\n",
       "        86.0026842 , 127.41966751, 115.69509522,  97.34672869,\n",
       "        91.08810705, 103.20158674,  97.98183054,  94.66492226,\n",
       "        86.00095755, 107.33370438, 128.42595536, 115.73086505,\n",
       "       130.18368497,  94.69543124, 119.84470421, 103.48215611,\n",
       "       127.65331855,  97.54914326,  95.97695092, 111.49322478,\n",
       "        89.71993781,  79.49755777,  73.68132617,  95.98628937,\n",
       "       103.52129426,  82.65736248,  76.06154676,  89.28697269,\n",
       "        78.13138071, 110.68148689,  84.42931822,  83.25488176,\n",
       "       115.41098974,  94.51304825,  95.83145849,  70.69591457,\n",
       "        94.05430643,  88.45120791,  88.65387036,  87.18850626,\n",
       "       110.79624722, 108.2026587 ,  85.30948862, 115.07292418,\n",
       "        87.56756392,  81.46261347,  91.75452668,  80.12120411,\n",
       "       101.17809499, 122.42332283, 104.82696346,  94.23093942,\n",
       "        89.81117952, 116.06171893,  79.6060043 ,  94.01586294,\n",
       "       111.33664094,  91.64650355, 112.96689562,  94.98743442,\n",
       "        93.57245266,  85.89233925, 118.83047515,  76.71575923,\n",
       "       114.6718832 ,  92.70759332,  80.6830866 ,  77.29643111,\n",
       "       106.34721448, 114.90604255,  75.43581857,  75.02739134,\n",
       "       101.8100634 , 101.03605956,  76.2544332 , 120.2254605 ,\n",
       "        97.30242407, 108.8331263 ,  94.34609778, 109.19287476,\n",
       "        69.10210496,  87.93160334,  98.3722477 ,  85.70009401,\n",
       "       104.19463213, 103.05809805,  97.49103295,  99.73578588,\n",
       "        83.1180854 , 122.10001053, 109.20277025, 106.74190163,\n",
       "        91.48076646, 100.20150728, 108.47861546,  87.93647675,\n",
       "        95.38876883, 102.56414941,  74.97678903, 103.38425565,\n",
       "        77.22561994, 113.96438958,  97.85540682,  84.46512378,\n",
       "        88.94568548, 101.05974073, 102.63760826, 123.02448065,\n",
       "       103.46699095,  77.24606438, 107.05307885, 109.87010525,\n",
       "       100.19998681, 100.24782102, 102.3154547 , 112.56283796,\n",
       "        86.96014972,  70.7532215 , 101.54547565, 107.77953922,\n",
       "       105.39934334,  93.83371908,  83.50121236, 126.74994052,\n",
       "       102.54254233,  89.59281066,  86.10441993,  94.17681586,\n",
       "       122.71867388,  99.25041473,  94.67719752, 105.77644582,\n",
       "        98.01170272, 109.65657589,  70.07785075, 107.688709  ,\n",
       "        99.14803159,  63.95501849, 114.59897491,  77.64804409,\n",
       "        95.50565439, 118.36180802, 127.29768553, 112.7040114 ,\n",
       "       105.73522369,  70.16098227, 108.55084095,  90.59111409,\n",
       "       108.54511588, 122.15827456,  79.73092518, 117.39631794,\n",
       "        96.86186124, 110.22791476,  97.3634221 ,  92.00844874,\n",
       "       101.93872727, 104.65680469,  97.34849326, 105.96208449,\n",
       "       114.47471171, 119.84432048, 118.18253893,  96.04566217,\n",
       "       121.34808652, 113.21447815, 114.89683678,  76.70520758,\n",
       "        81.75596189, 104.09713517,  93.56606924, 113.75364082,\n",
       "       117.23925194, 102.52863512,  84.31213124,  90.74230577,\n",
       "        86.55039195, 118.51962398,  66.06564182,  82.82496158,\n",
       "        87.77414801, 117.916254  , 104.67415403,  84.43806605,\n",
       "       115.57808592,  92.17967684,  98.50507008, 108.06466409,\n",
       "        88.57671621, 103.41763961, 102.2048407 ,  85.96148843,\n",
       "       105.66649808, 117.97288601, 115.55967744, 114.02994085,\n",
       "       106.59113228, 127.0464722 ,  97.73372621,  98.61172309,\n",
       "       121.97714559, 100.43090129,  98.77361715,  86.48874957,\n",
       "       126.83670123, 110.0860741 ,  79.4352777 ,  89.92024595,\n",
       "       106.24401434, 108.25264007, 111.35429309,  96.19790177,\n",
       "        78.01324601, 121.07424052,  80.67090681, 109.83501659,\n",
       "       106.88418667,  87.75575248, 128.64417725,  97.00365835,\n",
       "       100.82294454, 106.66156628,  92.98216328, 103.65482722,\n",
       "        84.88787382, 128.46211846,  99.51501995, 114.27903751,\n",
       "        66.00077491, 108.31867183, 128.83248266,  79.69700923,\n",
       "        64.5251099 ,  64.61132426,  85.7861322 , 102.66064957,\n",
       "        96.72240213, 117.72203837,  97.24840479, 113.37726947,\n",
       "       123.72200858,  94.70506067, 126.88256415, 106.24604912,\n",
       "        82.85524341,  81.92568938,  85.87665403, 112.24831993,\n",
       "       115.54681272,  85.33326783,  85.0582263 , 111.52454137,\n",
       "       100.33601331,  97.53560595, 118.69236448, 132.30632258,\n",
       "       106.75974361, 110.25501158, 121.70433009,  81.49994155,\n",
       "       113.9698034 ,  96.80906793,  82.38643827, 103.00751315,\n",
       "        77.72569238, 108.19332477, 120.36483125,  94.41514851,\n",
       "       113.96667638,  94.27743885, 109.02678895,  63.58317692,\n",
       "       108.75690701,  72.8942272 ,  98.82360359, 103.05909059,\n",
       "       106.94760701,  89.1262013 , 103.45846009,  99.67640972,\n",
       "        86.24275049,  83.59665833, 123.13471797, 115.59860943,\n",
       "       123.17427667,  85.08270558, 103.6529707 , 130.88594389,\n",
       "       100.28557007, 122.31497772, 117.08317044, 101.92163632,\n",
       "       114.70375704,  95.90988423, 100.95491942,  76.3641906 ,\n",
       "        88.9358649 , 119.64491738, 101.90613025, 111.62176882,\n",
       "       115.46866945,  83.76188608,  99.27492252, 119.22360157,\n",
       "       111.40358878,  93.81973032, 105.1795455 ,  88.2446964 ,\n",
       "       129.04681103,  96.37358434,  79.33001415,  95.35907016,\n",
       "        81.60593127,  56.10627128,  87.90279035, 109.37751567,\n",
       "       122.68096658, 119.05772223, 108.23346975,  89.96838498,\n",
       "       109.4163759 , 108.4284935 ,  80.98996521,  90.71362241,\n",
       "        97.82573118, 106.83895674,  58.93745237,  90.06576192,\n",
       "        93.84521038,  95.2780898 ,  93.38851002, 127.78926188,\n",
       "       107.9941768 ,  89.44807969, 107.081611  ,  95.6784042 ,\n",
       "       108.47713136, 109.20665647, 115.70129063,  83.49698627,\n",
       "       117.38255383,  77.70728745, 105.43881558,  89.00120406,\n",
       "        69.73376555,  78.27010518,  93.04084733, 129.35116931,\n",
       "       104.96024231,  99.88507613, 107.01242397, 114.33651779,\n",
       "        80.62428266, 115.00114707,  84.38660586, 119.33216207,\n",
       "        90.84989618,  92.41528474,  99.72485413, 100.27167876,\n",
       "       122.04296692,  98.30148153, 104.52912016,  91.01157901,\n",
       "        79.74917189,  83.56212924,  99.85186501,  95.79978092,\n",
       "        87.12010443,  72.81120363, 135.5765322 , 100.43204004,\n",
       "       102.917442  ,  93.12860195,  95.18489976, 103.18121096,\n",
       "       120.29488805, 102.55666597,  98.76277212,  85.52751642,\n",
       "        91.97772561,  99.90328997,  68.47365118, 119.25636524,\n",
       "       118.68304397,  96.24204088,  91.46239728, 124.12869275,\n",
       "       104.063346  ,  87.09060429, 104.56454094,  44.28201763,\n",
       "        99.50253256, 109.4809888 ,  97.73965803,  95.79343301,\n",
       "        90.63228044, 112.04419911,  83.0340609 , 146.1118819 ,\n",
       "        70.87875092, 112.94121045,  87.78192638,  99.84533793,\n",
       "        89.19433405,  90.41360413,  88.62515744,  73.05146697,\n",
       "        96.33901974, 100.68800204, 107.27844472,  85.70489691,\n",
       "       103.6731684 , 103.94608442,  84.31510795,  97.63698438,\n",
       "       107.60932001,  58.24747003,  96.09898875,  96.79466516,\n",
       "        75.27178268,  73.06179878, 117.4642435 ,  99.66433045,\n",
       "        93.15876517,  93.67647458, 139.96159708,  85.48578224,\n",
       "       113.36486689, 116.38102909,  95.43846411,  95.19947786,\n",
       "        78.43666676,  98.24952438,  98.78196577,  73.33378488,\n",
       "       113.55833994, 104.51784319, 105.6207735 ,  85.41008567,\n",
       "       105.64708299, 107.02664788, 106.86165126, 124.15086556,\n",
       "        88.13144951,  90.58082218,  70.8608243 , 121.05187168,\n",
       "       102.98654357,  94.19245841,  89.0771611 ,  82.21936603,\n",
       "        87.99318164,  81.38622933,  97.05747347,  91.04435417,\n",
       "        90.37933533,  71.44701762,  91.01634229, 109.51656246,\n",
       "        96.20179535,  78.89387101, 104.4539854 ,  77.58088815,\n",
       "        77.90688618,  88.62275694,  89.43690922,  77.60347837,\n",
       "        88.47494017,  98.50030753,  80.09947974, 131.37014937,\n",
       "       107.80162645, 101.11826382,  85.7701626 ,  92.38955026,\n",
       "       102.58852507, 103.47665697, 101.45966551,  86.69140837,\n",
       "        92.65636722, 107.68751102, 112.59739436,  80.75280135,\n",
       "        73.88169295, 120.98816988, 114.0196155 ,  97.84684783,\n",
       "       102.78682474, 102.95621225, 111.54110952,  96.79723973,\n",
       "       123.12881095, 125.38389799, 104.83214978,  94.7607943 ,\n",
       "        98.60825487, 122.10788536, 114.86530899,  98.70170945,\n",
       "        82.44129722,  88.7032074 , 116.23777501,  94.96374354,\n",
       "       102.90055009, 134.83657172,  65.79674272, 109.55832597,\n",
       "        87.18010621, 105.99246982, 117.651857  ,  89.46613417,\n",
       "       109.82160687,  94.75548215, 118.26519587, 117.65774947,\n",
       "       101.42742149, 106.63514214, 129.65856152,  80.11052439,\n",
       "       126.23068131, 104.18219772, 106.75432047,  85.73444078,\n",
       "        99.67342908, 112.44932152,  88.21039077, 104.24676768,\n",
       "       108.09215011,  98.29158344,  99.88278911,  95.4488293 ,\n",
       "        69.56695584, 104.97667646, 101.94905393, 105.03544442,\n",
       "        86.76517269, 130.50650373,  89.59025554,  86.20155353,\n",
       "        89.43919504, 105.81787467, 103.54111047,  68.74011536,\n",
       "       102.77689151, 102.33408728, 117.87683413, 114.07165981,\n",
       "       121.24062458, 113.15961881,  88.22702517, 111.58621732,\n",
       "        95.32145774, 106.63351582,  86.81690079, 100.37767108,\n",
       "       128.30259338, 109.00277856, 118.88269507, 105.20854918,\n",
       "       124.45418628,  74.47622861, 104.79028396, 104.26732494,\n",
       "       120.29383211, 123.11872132,  84.77797461,  94.56121599,\n",
       "       102.21176702, 113.68269463,  70.44938746, 119.16279783,\n",
       "        83.99808733,  97.93563287, 101.38857792, 114.65849248,\n",
       "        94.41926312, 102.68903782, 103.16196684,  70.19490154,\n",
       "       110.13168769,  86.45984357, 103.74114604,  85.08084295,\n",
       "       113.11321308, 115.83800023,  91.88287645,  96.84588008,\n",
       "        85.39657729,  97.17668259,  91.86432289, 103.21487056,\n",
       "       107.95115836,  84.46882395,  91.29166877,  99.84903239,\n",
       "       101.39806907, 131.446541  , 116.7742523 , 141.26409718,\n",
       "       129.34911583, 107.83421413, 114.0370927 ,  88.50478355,\n",
       "        95.3198367 ,  83.71111125,  88.93390715, 117.15844519,\n",
       "       131.57204074, 114.91626771,  92.78164704, 121.91608712,\n",
       "        78.51094129, 107.01421852, 100.52851693, 101.20199133,\n",
       "        70.81042385, 108.20142615,  98.62642107, 120.60187105,\n",
       "       129.02638552, 103.92587725, 118.57137737,  94.35969371,\n",
       "       110.07030287, 105.60795434, 109.17309049, 112.17667642,\n",
       "        99.34313413,  67.72057241,  97.52477069, 104.45511003,\n",
       "       112.52902819, 102.64650369, 112.93703042,  96.50239316,\n",
       "        82.25580166,  97.89706292,  96.89332284, 114.4067073 ,\n",
       "       102.94904337, 112.1023735 , 104.12023728,  99.58971209,\n",
       "       121.62145877, 102.29396462,  87.15318952, 108.47472001,\n",
       "       103.73151123, 110.81305396,  99.33634451,  95.77405721,\n",
       "        76.35921756,  93.11248573, 113.79507403,  99.98065659,\n",
       "        96.56333475, 106.10003303,  93.91988934, 100.31168142,\n",
       "       103.89533924,  76.52881034,  97.5004829 , 101.24738501,\n",
       "       104.57064153,  82.16009091, 108.69233913, 106.49651042,\n",
       "       101.06380403,  99.51124554,  98.39781786,  93.25943622,\n",
       "        97.38912213, 102.43837168,  88.15606519, 106.35289473,\n",
       "        80.19400068, 102.2963692 ,  98.51434478,  96.52066163,\n",
       "       113.24592021, 110.79970967,  81.63337093, 109.00004086,\n",
       "        98.37097948, 123.82985137, 103.84715242,  93.30776217,\n",
       "        98.62498502,  93.59358742, 111.27419979,  82.00640053,\n",
       "       100.59084249, 101.12468768,  91.31767916, 112.88097022,\n",
       "        93.98936531, 101.45423499, 108.35454787,  64.13753513,\n",
       "        87.09523986,  90.36468536,  97.66970964,  65.23525331,\n",
       "       119.15493947,  88.8939889 ,  96.01420018, 117.53836584,\n",
       "       116.06215518,  82.23150378,  94.76102453, 110.11741509,\n",
       "        76.66816972, 104.81717438,  96.07191196,  89.88054471,\n",
       "        83.69778005, 127.91834495, 123.28733383,  91.37919742,\n",
       "        80.89825341, 117.83706428, 105.01168196,  82.43148339,\n",
       "       115.05209392, 108.06019745, 100.72241616, 110.31545789,\n",
       "       117.59203897, 119.44361143, 108.13407781, 106.27112868,\n",
       "       112.31531923, 105.001171  , 100.3494187 ,  68.40560426,\n",
       "       124.06197218,  73.10523173,  99.12585328, 100.3028902 ,\n",
       "       118.38539731,  96.09371122,  88.81592031, 121.41993896,\n",
       "       107.43787205,  94.30547619, 108.44287353,  80.75412664,\n",
       "       123.8401948 ,  91.25882782,  98.39502123, 108.0420813 ,\n",
       "        56.94443885,  95.44319023,  87.97294716,  81.34380076,\n",
       "        98.01894622, 119.99490994,  90.01213893,  79.5892336 ,\n",
       "        70.67454588,  58.83171897, 110.41419953,  77.41103161,\n",
       "       109.03098513,  88.67251442, 103.83797798, 119.26575267,\n",
       "       106.40830936, 102.2844594 ,  89.48033522,  81.15528896,\n",
       "        96.53387175, 110.52596505,  67.38406656,  99.40360857,\n",
       "       102.57284965, 111.01821117, 102.2067215 , 111.71130474,\n",
       "        99.14849612, 107.56827976,  81.48536424,  92.07298925,\n",
       "        91.6514706 ,  90.85984995, 118.40180024, 100.68608646,\n",
       "       102.350348  , 104.66685647,  85.47108181,  92.06494738,\n",
       "        83.81801349,  97.1656775 , 106.54903143, 104.24036633,\n",
       "        86.60011137, 108.0260287 , 111.84767781,  92.6865485 ,\n",
       "       103.0348494 , 110.19782674, 116.73044544,  98.86949797,\n",
       "       106.808247  , 123.2903826 ,  95.65891917,  82.49662235,\n",
       "       113.0262673 ,  86.87336947,  89.15432245, 101.81872504,\n",
       "       109.46644056, 115.58969968,  94.52120538, 114.99132087,\n",
       "       105.11028809,  99.41744112, 115.96632081,  71.97022566,\n",
       "       115.39783094, 126.50714073,  93.96119561,  87.69903866,\n",
       "        96.30587988,  96.83502178, 112.68267902,  94.21209589,\n",
       "        94.64531157,  89.53938872,  96.75176681, 108.79503234,\n",
       "       114.90164743,  90.82322957, 119.20516367, 125.59564239,\n",
       "        74.32751592,  97.35570448, 114.99421085,  87.13652545,\n",
       "       107.69509722,  96.12270328, 124.41044302,  96.60828293,\n",
       "       103.14269826,  99.17897699, 106.81666784, 104.06454392,\n",
       "        90.45993476, 105.59906947, 113.16243786, 105.49764353,\n",
       "       101.89681462,  93.68169621, 100.07433361, 115.57747847,\n",
       "       105.60121756, 122.70032888, 108.02054361,  96.51130929,\n",
       "       124.36378363,  98.15171868, 101.44887993, 108.49235604,\n",
       "       116.05340757,  98.86284558, 100.75127929, 110.49686249,\n",
       "        64.77363927, 124.49038535,  84.28060594,  57.8388561 ,\n",
       "        95.31901049, 107.90084643,  99.1913233 ,  94.71307275,\n",
       "       106.87459854, 100.95120759, 101.84201216, 125.5071035 ,\n",
       "       110.25353986, 122.11511588, 100.5387346 ,  96.3724561 ,\n",
       "        97.92229261, 125.2208393 , 103.86080122,  85.0714212 ,\n",
       "       117.28129228, 127.03382471,  90.09233346, 109.25776356,\n",
       "        88.047155  ,  81.93916685,  93.79683068,  98.88739611,\n",
       "        82.30027099,  78.8239643 ,  94.41125262,  87.67780163,\n",
       "        94.42613156,  99.5026319 ,  79.6438303 , 108.52556835,\n",
       "        98.00513109, 111.53459595, 110.15192229, 120.15338393,\n",
       "       114.0786375 , 124.05057124,  83.63437199, 102.61810649,\n",
       "       116.69508017,  94.1292137 ,  97.35085179, 110.43223398,\n",
       "        92.57880479,  97.58582595, 124.67351326, 109.66620959,\n",
       "       105.46120454,  87.05322088, 112.59019485, 109.71885144,\n",
       "        95.05935937,  84.82964745, 126.433132  , 102.84454614,\n",
       "       105.84461323,  81.42680601,  71.15098299,  97.26855573,\n",
       "       106.32636475, 120.98981313, 109.60555282, 105.92851764,\n",
       "       109.63744014, 119.7696359 , 106.34142336,  75.53541889,\n",
       "        99.71308339, 104.33977638, 106.75083857, 113.03921264])"
      ]
     },
     "metadata": {},
     "execution_count": 20
    }
   ],
   "metadata": {}
  },
  {
   "cell_type": "code",
   "execution_count": 21,
   "source": [
    "plt.figure(figsize=(12,7))\r\n",
    "sns.lineplot(y=samples, x=range(0,1000));"
   ],
   "outputs": [
    {
     "output_type": "display_data",
     "data": {
      "image/png": "[encoded data removed]",
      "text/plain": [
       "<Figure size 864x504 with 1 Axes>"
      ]
     },
     "metadata": {
      "needs_background": "light"
     }
    }
   ],
   "metadata": {}
  },
  {
   "cell_type": "code",
   "execution_count": 22,
   "source": [
    "plt.figure(figsize=(12,7))\r\n",
    "sns.histplot(x=samples, kde=True, bins=100);"
   ],
   "outputs": [
    {
     "output_type": "display_data",
     "data": {
      "image/png": "[encoded data removed]",
      "text/plain": [
       "<Figure size 864x504 with 1 Axes>"
      ]
     },
     "metadata": {
      "needs_background": "light"
     }
    }
   ],
   "metadata": {}
  },
  {
   "cell_type": "code",
   "execution_count": 23,
   "source": [
    "age2 = [20, 22, 25, 25, 27, 27, 27, 29, 30, 31, 121]"
   ],
   "outputs": [],
   "metadata": {}
  },
  {
   "cell_type": "code",
   "execution_count": 24,
   "source": [
    "np.std(age2)"
   ],
   "outputs": [
    {
     "output_type": "execute_result",
     "data": {
      "text/plain": [
       "27.400910885504736"
      ]
     },
     "metadata": {},
     "execution_count": 24
    }
   ],
   "metadata": {}
  },
  {
   "cell_type": "code",
   "execution_count": 25,
   "source": [
    "np.max(age2) - np.min(age2)"
   ],
   "outputs": [
    {
     "output_type": "execute_result",
     "data": {
      "text/plain": [
       "101"
      ]
     },
     "metadata": {},
     "execution_count": 25
    }
   ],
   "metadata": {}
  },
  {
   "cell_type": "code",
   "execution_count": 26,
   "source": [
    "np.var(age2) # Variance"
   ],
   "outputs": [
    {
     "output_type": "execute_result",
     "data": {
      "text/plain": [
       "750.809917355372"
      ]
     },
     "metadata": {},
     "execution_count": 26
    }
   ],
   "metadata": {}
  },
  {
   "cell_type": "code",
   "execution_count": 27,
   "source": [
    "iqr(age2)"
   ],
   "outputs": [
    {
     "output_type": "execute_result",
     "data": {
      "text/plain": [
       "4.5"
      ]
     },
     "metadata": {},
     "execution_count": 27
    }
   ],
   "metadata": {}
  },
  {
   "cell_type": "code",
   "execution_count": 28,
   "source": [
    "np.percentile(age2, 25)"
   ],
   "outputs": [
    {
     "output_type": "execute_result",
     "data": {
      "text/plain": [
       "25.0"
      ]
     },
     "metadata": {},
     "execution_count": 28
    }
   ],
   "metadata": {}
  },
  {
   "cell_type": "code",
   "execution_count": 29,
   "source": [
    "np.percentile(age2, 75)"
   ],
   "outputs": [
    {
     "output_type": "execute_result",
     "data": {
      "text/plain": [
       "29.5"
      ]
     },
     "metadata": {},
     "execution_count": 29
    }
   ],
   "metadata": {}
  },
  {
   "cell_type": "code",
   "execution_count": 30,
   "source": [
    "np.median(age2)"
   ],
   "outputs": [
    {
     "output_type": "execute_result",
     "data": {
      "text/plain": [
       "27.0"
      ]
     },
     "metadata": {},
     "execution_count": 30
    }
   ],
   "metadata": {}
  },
  {
   "cell_type": "code",
   "execution_count": 31,
   "source": [
    "np.percentile(age2, 50)"
   ],
   "outputs": [
    {
     "output_type": "execute_result",
     "data": {
      "text/plain": [
       "27.0"
      ]
     },
     "metadata": {},
     "execution_count": 31
    }
   ],
   "metadata": {}
  },
  {
   "cell_type": "code",
   "execution_count": 32,
   "source": [
    "stats.kurtosis(age2)"
   ],
   "outputs": [
    {
     "output_type": "execute_result",
     "data": {
      "text/plain": [
       "5.876609699981859"
      ]
     },
     "metadata": {},
     "execution_count": 32
    }
   ],
   "metadata": {}
  },
  {
   "cell_type": "code",
   "execution_count": 33,
   "source": [
    "stats.skew(age2)"
   ],
   "outputs": [
    {
     "output_type": "execute_result",
     "data": {
      "text/plain": [
       "2.778572264050739"
      ]
     },
     "metadata": {},
     "execution_count": 33
    }
   ],
   "metadata": {}
  },
  {
   "cell_type": "code",
   "execution_count": 34,
   "source": [
    "age3 = [25, 28, 29, 29, 30, 34, 35, 37, 38]"
   ],
   "outputs": [],
   "metadata": {}
  },
  {
   "cell_type": "code",
   "execution_count": 35,
   "source": [
    "np.median(age3)"
   ],
   "outputs": [
    {
     "output_type": "execute_result",
     "data": {
      "text/plain": [
       "30.0"
      ]
     },
     "metadata": {},
     "execution_count": 35
    }
   ],
   "metadata": {}
  },
  {
   "cell_type": "code",
   "execution_count": 36,
   "source": [
    "np.percentile(age3, 25) # q1"
   ],
   "outputs": [
    {
     "output_type": "execute_result",
     "data": {
      "text/plain": [
       "29.0"
      ]
     },
     "metadata": {},
     "execution_count": 36
    }
   ],
   "metadata": {}
  },
  {
   "cell_type": "code",
   "execution_count": 37,
   "source": [
    "np.percentile(age3, 75) # q3"
   ],
   "outputs": [
    {
     "output_type": "execute_result",
     "data": {
      "text/plain": [
       "35.0"
      ]
     },
     "metadata": {},
     "execution_count": 37
    }
   ],
   "metadata": {}
  },
  {
   "cell_type": "code",
   "execution_count": 38,
   "source": [
    "iqr_1_3 = np.percentile(age3, 75) - np.percentile(age3, 25)"
   ],
   "outputs": [],
   "metadata": {}
  },
  {
   "cell_type": "code",
   "execution_count": 39,
   "source": [
    "iqr_1_3"
   ],
   "outputs": [
    {
     "output_type": "execute_result",
     "data": {
      "text/plain": [
       "6.0"
      ]
     },
     "metadata": {},
     "execution_count": 39
    }
   ],
   "metadata": {}
  },
  {
   "cell_type": "code",
   "execution_count": 40,
   "source": [
    "1.5*iqr_1_3"
   ],
   "outputs": [
    {
     "output_type": "execute_result",
     "data": {
      "text/plain": [
       "9.0"
      ]
     },
     "metadata": {},
     "execution_count": 40
    }
   ],
   "metadata": {}
  },
  {
   "cell_type": "markdown",
   "source": [
    "#### Numpy Correlation"
   ],
   "metadata": {}
  },
  {
   "cell_type": "code",
   "execution_count": 41,
   "source": [
    "x = np.arange(10,20)"
   ],
   "outputs": [],
   "metadata": {}
  },
  {
   "cell_type": "code",
   "execution_count": 42,
   "source": [
    "y =  np.random.randint(0, 100, 10)"
   ],
   "outputs": [],
   "metadata": {}
  },
  {
   "cell_type": "code",
   "execution_count": 43,
   "source": [
    "r =  np.corrcoef(x,y)\r\n",
    "r"
   ],
   "outputs": [
    {
     "output_type": "execute_result",
     "data": {
      "text/plain": [
       "array([[1.        , 0.09714865],\n",
       "       [0.09714865, 1.        ]])"
      ]
     },
     "metadata": {},
     "execution_count": 43
    }
   ],
   "metadata": {}
  },
  {
   "cell_type": "markdown",
   "source": [
    "#### Pandas Correlation Calculation"
   ],
   "metadata": {}
  },
  {
   "cell_type": "code",
   "execution_count": 44,
   "source": [
    "x = pd.Series(range(10, 20))\r\n",
    "y = pd.Series([2, 1, 4, 5, 8, 12, 18, 25, 96, 48])"
   ],
   "outputs": [],
   "metadata": {}
  },
  {
   "cell_type": "code",
   "execution_count": 45,
   "source": [
    "r = x.corr(y) \r\n",
    "r"
   ],
   "outputs": [
    {
     "output_type": "execute_result",
     "data": {
      "text/plain": [
       "0.7586402890911867"
      ]
     },
     "metadata": {},
     "execution_count": 45
    }
   ],
   "metadata": {}
  },
  {
   "cell_type": "markdown",
   "source": [
    "#### Spearman's rho Correlation."
   ],
   "metadata": {}
  },
  {
   "cell_type": "code",
   "execution_count": 46,
   "source": [
    "rho = x.corr(y, method='spearman')\r\n",
    "rho"
   ],
   "outputs": [
    {
     "output_type": "execute_result",
     "data": {
      "text/plain": [
       "0.9757575757575757"
      ]
     },
     "metadata": {},
     "execution_count": 46
    }
   ],
   "metadata": {}
  },
  {
   "cell_type": "markdown",
   "source": [
    "#### Seaborn Dataset Tips"
   ],
   "metadata": {}
  },
  {
   "cell_type": "code",
   "execution_count": 47,
   "source": [
    "tips = sns.load_dataset(\"tips\")\r\n",
    "tips.head()"
   ],
   "outputs": [
    {
     "output_type": "execute_result",
     "data": {
      "text/html": [
       "<div>\n",
       "<style scoped>\n",
       "    .dataframe tbody tr th:only-of-type {\n",
       "        vertical-align: middle;\n",
       "    }\n",
       "\n",
       "    .dataframe tbody tr th {\n",
       "        vertical-align: top;\n",
       "    }\n",
       "\n",
       "    .dataframe thead th {\n",
       "        text-align: right;\n",
       "    }\n",
       "</style>\n",
       "<table border=\"1\" class=\"dataframe\">\n",
       "  <thead>\n",
       "    <tr style=\"text-align: right;\">\n",
       "      <th></th>\n",
       "      <th>total_bill</th>\n",
       "      <th>tip</th>\n",
       "      <th>sex</th>\n",
       "      <th>smoker</th>\n",
       "      <th>day</th>\n",
       "      <th>time</th>\n",
       "      <th>size</th>\n",
       "    </tr>\n",
       "  </thead>\n",
       "  <tbody>\n",
       "    <tr>\n",
       "      <th>0</th>\n",
       "      <td>16.99</td>\n",
       "      <td>1.01</td>\n",
       "      <td>Female</td>\n",
       "      <td>No</td>\n",
       "      <td>Sun</td>\n",
       "      <td>Dinner</td>\n",
       "      <td>2</td>\n",
       "    </tr>\n",
       "    <tr>\n",
       "      <th>1</th>\n",
       "      <td>10.34</td>\n",
       "      <td>1.66</td>\n",
       "      <td>Male</td>\n",
       "      <td>No</td>\n",
       "      <td>Sun</td>\n",
       "      <td>Dinner</td>\n",
       "      <td>3</td>\n",
       "    </tr>\n",
       "    <tr>\n",
       "      <th>2</th>\n",
       "      <td>21.01</td>\n",
       "      <td>3.50</td>\n",
       "      <td>Male</td>\n",
       "      <td>No</td>\n",
       "      <td>Sun</td>\n",
       "      <td>Dinner</td>\n",
       "      <td>3</td>\n",
       "    </tr>\n",
       "    <tr>\n",
       "      <th>3</th>\n",
       "      <td>23.68</td>\n",
       "      <td>3.31</td>\n",
       "      <td>Male</td>\n",
       "      <td>No</td>\n",
       "      <td>Sun</td>\n",
       "      <td>Dinner</td>\n",
       "      <td>2</td>\n",
       "    </tr>\n",
       "    <tr>\n",
       "      <th>4</th>\n",
       "      <td>24.59</td>\n",
       "      <td>3.61</td>\n",
       "      <td>Female</td>\n",
       "      <td>No</td>\n",
       "      <td>Sun</td>\n",
       "      <td>Dinner</td>\n",
       "      <td>4</td>\n",
       "    </tr>\n",
       "  </tbody>\n",
       "</table>\n",
       "</div>"
      ],
      "text/plain": [
       "   total_bill   tip     sex smoker  day    time  size\n",
       "0       16.99  1.01  Female     No  Sun  Dinner     2\n",
       "1       10.34  1.66    Male     No  Sun  Dinner     3\n",
       "2       21.01  3.50    Male     No  Sun  Dinner     3\n",
       "3       23.68  3.31    Male     No  Sun  Dinner     2\n",
       "4       24.59  3.61  Female     No  Sun  Dinner     4"
      ]
     },
     "metadata": {},
     "execution_count": 47
    }
   ],
   "metadata": {}
  },
  {
   "cell_type": "code",
   "execution_count": 48,
   "source": [
    "r1 = tips[\"total_bill\"].corr(tips[\"tip\"])\r\n",
    "r1"
   ],
   "outputs": [
    {
     "output_type": "execute_result",
     "data": {
      "text/plain": [
       "0.6757341092113645"
      ]
     },
     "metadata": {},
     "execution_count": 48
    }
   ],
   "metadata": {}
  },
  {
   "cell_type": "code",
   "execution_count": 49,
   "source": [
    "r2 = tips[\"total_bill\"].corr(tips[\"size\"])\r\n",
    "r2"
   ],
   "outputs": [
    {
     "output_type": "execute_result",
     "data": {
      "text/plain": [
       "0.5983151309049017"
      ]
     },
     "metadata": {},
     "execution_count": 49
    }
   ],
   "metadata": {}
  },
  {
   "cell_type": "code",
   "execution_count": null,
   "source": [],
   "outputs": [],
   "metadata": {}
  }
 ],
 "metadata": {
  "orig_nbformat": 4,
  "language_info": {
   "name": "python",
   "version": "3.9.0",
   "mimetype": "text/x-python",
   "codemirror_mode": {
    "name": "ipython",
    "version": 3
   },
   "pygments_lexer": "ipython3",
   "nbconvert_exporter": "python",
   "file_extension": ".py"
  },
  "kernelspec": {
   "name": "python3",
   "display_name": "Python 3.9.0 64-bit (system)"
  },
  "interpreter": {
   "hash": "43a9cd95aa030499ef934e4da31e07dde54f3fc3a1fd0cc4aeef7f16459ee2ac"
  }
 },
 "nbformat": 4,
 "nbformat_minor": 2
}