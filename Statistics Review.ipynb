{
 "cells": [
  {
   "cell_type": "markdown",
   "source": [
    "#### Libraries"
   ],
   "metadata": {}
  },
  {
   "cell_type": "code",
   "execution_count": 1,
   "source": [
    "import numpy as np \r\n",
    "import pandas as pd \r\n",
    "from scipy import stats\r\n",
    "from scipy.stats import iqr\r\n",
    "import matplotlib.pyplot as plt\r\n",
    "import seaborn as sns"
   ],
   "outputs": [],
   "metadata": {}
  },
  {
   "cell_type": "markdown",
   "source": [
    "#### Mean Median Mode Standard Deviation Variance IQR"
   ],
   "metadata": {}
  },
  {
   "cell_type": "code",
   "execution_count": 2,
   "source": [
    "np.array([0,20,40,40,50]).std()"
   ],
   "outputs": [
    {
     "output_type": "execute_result",
     "data": {
      "text/plain": [
       "17.88854381999832"
      ]
     },
     "metadata": {},
     "execution_count": 2
    }
   ],
   "metadata": {}
  },
  {
   "cell_type": "code",
   "execution_count": 3,
   "source": [
    "np.array([0,20,40,40,50]).mean()"
   ],
   "outputs": [
    {
     "output_type": "execute_result",
     "data": {
      "text/plain": [
       "30.0"
      ]
     },
     "metadata": {},
     "execution_count": 3
    }
   ],
   "metadata": {}
  },
  {
   "cell_type": "code",
   "execution_count": 4,
   "source": [
    "age = [20, 22, 25, 25, 27, 27, 27, 29, 30, 31]"
   ],
   "outputs": [],
   "metadata": {}
  },
  {
   "cell_type": "code",
   "execution_count": 5,
   "source": [
    "np.mean(age)"
   ],
   "outputs": [
    {
     "output_type": "execute_result",
     "data": {
      "text/plain": [
       "26.3"
      ]
     },
     "metadata": {},
     "execution_count": 5
    }
   ],
   "metadata": {}
  },
  {
   "cell_type": "code",
   "execution_count": 6,
   "source": [
    "np.median(age)"
   ],
   "outputs": [
    {
     "output_type": "execute_result",
     "data": {
      "text/plain": [
       "27.0"
      ]
     },
     "metadata": {},
     "execution_count": 6
    }
   ],
   "metadata": {}
  },
  {
   "cell_type": "code",
   "execution_count": 7,
   "source": [
    "stats.mode(age)"
   ],
   "outputs": [
    {
     "output_type": "execute_result",
     "data": {
      "text/plain": [
       "ModeResult(mode=array([27]), count=array([3]))"
      ]
     },
     "metadata": {},
     "execution_count": 7
    }
   ],
   "metadata": {}
  },
  {
   "cell_type": "code",
   "execution_count": 8,
   "source": [
    "stats.mode(age)[0]"
   ],
   "outputs": [
    {
     "output_type": "execute_result",
     "data": {
      "text/plain": [
       "array([27])"
      ]
     },
     "metadata": {},
     "execution_count": 8
    }
   ],
   "metadata": {}
  },
  {
   "cell_type": "code",
   "execution_count": 9,
   "source": [
    "np.std(age)"
   ],
   "outputs": [
    {
     "output_type": "execute_result",
     "data": {
      "text/plain": [
       "3.2572994949804666"
      ]
     },
     "metadata": {},
     "execution_count": 9
    }
   ],
   "metadata": {}
  },
  {
   "cell_type": "code",
   "execution_count": 10,
   "source": [
    "stats.mode(age)[1]"
   ],
   "outputs": [
    {
     "output_type": "execute_result",
     "data": {
      "text/plain": [
       "array([3])"
      ]
     },
     "metadata": {},
     "execution_count": 10
    }
   ],
   "metadata": {}
  },
  {
   "cell_type": "code",
   "execution_count": 11,
   "source": [
    "data = {\"D1\":[135, 137, 136, 138, 138],\r\n",
    "              \"D2\":[43,   42, 42, 42, 42],\r\n",
    "              \"D3\":[72, 73, 72, 72, 73],\r\n",
    "              \"D4\":[100, 102, 100, 103, 104]};"
   ],
   "outputs": [],
   "metadata": {}
  },
  {
   "cell_type": "code",
   "execution_count": 12,
   "source": [
    "df = pd.DataFrame(data)"
   ],
   "outputs": [],
   "metadata": {}
  },
  {
   "cell_type": "code",
   "execution_count": 13,
   "source": [
    "df"
   ],
   "outputs": [
    {
     "output_type": "execute_result",
     "data": {
      "text/html": [
       "<div>\n",
       "<style scoped>\n",
       "    .dataframe tbody tr th:only-of-type {\n",
       "        vertical-align: middle;\n",
       "    }\n",
       "\n",
       "    .dataframe tbody tr th {\n",
       "        vertical-align: top;\n",
       "    }\n",
       "\n",
       "    .dataframe thead th {\n",
       "        text-align: right;\n",
       "    }\n",
       "</style>\n",
       "<table border=\"1\" class=\"dataframe\">\n",
       "  <thead>\n",
       "    <tr style=\"text-align: right;\">\n",
       "      <th></th>\n",
       "      <th>D1</th>\n",
       "      <th>D2</th>\n",
       "      <th>D3</th>\n",
       "      <th>D4</th>\n",
       "    </tr>\n",
       "  </thead>\n",
       "  <tbody>\n",
       "    <tr>\n",
       "      <th>0</th>\n",
       "      <td>135</td>\n",
       "      <td>43</td>\n",
       "      <td>72</td>\n",
       "      <td>100</td>\n",
       "    </tr>\n",
       "    <tr>\n",
       "      <th>1</th>\n",
       "      <td>137</td>\n",
       "      <td>42</td>\n",
       "      <td>73</td>\n",
       "      <td>102</td>\n",
       "    </tr>\n",
       "    <tr>\n",
       "      <th>2</th>\n",
       "      <td>136</td>\n",
       "      <td>42</td>\n",
       "      <td>72</td>\n",
       "      <td>100</td>\n",
       "    </tr>\n",
       "    <tr>\n",
       "      <th>3</th>\n",
       "      <td>138</td>\n",
       "      <td>42</td>\n",
       "      <td>72</td>\n",
       "      <td>103</td>\n",
       "    </tr>\n",
       "    <tr>\n",
       "      <th>4</th>\n",
       "      <td>138</td>\n",
       "      <td>42</td>\n",
       "      <td>73</td>\n",
       "      <td>104</td>\n",
       "    </tr>\n",
       "  </tbody>\n",
       "</table>\n",
       "</div>"
      ],
      "text/plain": [
       "    D1  D2  D3   D4\n",
       "0  135  43  72  100\n",
       "1  137  42  73  102\n",
       "2  136  42  72  100\n",
       "3  138  42  72  103\n",
       "4  138  42  73  104"
      ]
     },
     "metadata": {},
     "execution_count": 13
    }
   ],
   "metadata": {}
  },
  {
   "cell_type": "code",
   "execution_count": 14,
   "source": [
    "df.mean() "
   ],
   "outputs": [
    {
     "output_type": "execute_result",
     "data": {
      "text/plain": [
       "D1    136.8\n",
       "D2     42.2\n",
       "D3     72.4\n",
       "D4    101.8\n",
       "dtype: float64"
      ]
     },
     "metadata": {},
     "execution_count": 14
    }
   ],
   "metadata": {}
  },
  {
   "cell_type": "code",
   "execution_count": 15,
   "source": [
    "df[\"D2\"].mean()"
   ],
   "outputs": [
    {
     "output_type": "execute_result",
     "data": {
      "text/plain": [
       "42.2"
      ]
     },
     "metadata": {},
     "execution_count": 15
    }
   ],
   "metadata": {}
  },
  {
   "cell_type": "code",
   "execution_count": 16,
   "source": [
    "df.values.mean() # All values"
   ],
   "outputs": [
    {
     "output_type": "execute_result",
     "data": {
      "text/plain": [
       "88.3"
      ]
     },
     "metadata": {},
     "execution_count": 16
    }
   ],
   "metadata": {}
  },
  {
   "cell_type": "code",
   "execution_count": 17,
   "source": [
    "df[\"D1\"].mode()"
   ],
   "outputs": [
    {
     "output_type": "execute_result",
     "data": {
      "text/plain": [
       "0    138\n",
       "dtype: int64"
      ]
     },
     "metadata": {},
     "execution_count": 17
    }
   ],
   "metadata": {}
  },
  {
   "cell_type": "code",
   "execution_count": 18,
   "source": [
    "df[\"D4\"].median()"
   ],
   "outputs": [
    {
     "output_type": "execute_result",
     "data": {
      "text/plain": [
       "102.0"
      ]
     },
     "metadata": {},
     "execution_count": 18
    }
   ],
   "metadata": {}
  },
  {
   "cell_type": "code",
   "execution_count": 19,
   "source": [
    "s_mean = 100\r\n",
    "s_std = 15\r\n",
    "samples = np.random.normal(s_mean, s_std, 1000)"
   ],
   "outputs": [],
   "metadata": {}
  },
  {
   "cell_type": "code",
   "execution_count": 20,
   "source": [
    "samples"
   ],
   "outputs": [
    {
     "output_type": "execute_result",
     "data": {
      "text/plain": [
       "array([106.32990647,  93.80350393,  76.76062935,  75.96120346,\n",
       "       103.68248868, 128.70686744,  96.53444805,  95.22235581,\n",
       "       100.46540346, 108.8556614 ,  76.31464786, 102.04019224,\n",
       "        92.35074837, 120.13182891,  92.17047033, 105.28418826,\n",
       "       104.43307272, 113.7681254 ,  91.62626709,  86.78400539,\n",
       "        66.82029115,  92.33810176, 125.5769603 ,  95.42726384,\n",
       "        94.791195  , 103.50029855,  80.32995195, 104.35562231,\n",
       "        84.99778998,  94.43964816, 135.35705285,  49.67321943,\n",
       "        87.60473782,  74.83025128,  76.53627454, 107.29729505,\n",
       "       106.87914135, 112.25654748, 112.29562847,  82.44789463,\n",
       "        90.82116481,  98.58553471,  77.49111551,  69.56253321,\n",
       "       121.17217187, 121.05748579,  77.72881515, 107.15284695,\n",
       "       120.46877804, 105.34497492,  93.64987252,  99.0929233 ,\n",
       "       110.7784208 , 107.69777249, 113.41676969, 120.60551198,\n",
       "        89.14517012,  76.28158334,  92.84522417, 127.12677345,\n",
       "       111.8917083 , 100.16858965,  89.11147205, 119.88231839,\n",
       "       125.75118441,  84.99966361, 125.34049039,  74.85072344,\n",
       "       104.10600404, 107.82511726,  74.79148354,  87.44547675,\n",
       "        56.82370087,  96.20389841, 122.14363332, 113.94086082,\n",
       "        88.53039234, 102.67897677,  96.60479037,  84.65658319,\n",
       "       120.06998864,  80.46864468,  81.91026948,  95.07510944,\n",
       "       117.70352146, 107.06029913,  93.29288499,  90.26592036,\n",
       "        84.23341986,  90.67452538, 106.8478512 , 107.05355544,\n",
       "        92.49670675,  90.46969367, 101.90685354,  79.2113514 ,\n",
       "       119.1310041 , 116.80981391,  89.5078059 , 103.55101744,\n",
       "        88.83781613, 107.96918508,  98.61744865, 103.70546774,\n",
       "       113.84335425, 114.85916758,  95.14156228, 118.91874091,\n",
       "        86.9173557 ,  98.99705085,  96.72604818, 118.24769256,\n",
       "        95.00575888, 106.96099263, 111.9423221 ,  69.68875598,\n",
       "       104.76628097, 131.25622194,  82.05565265, 109.6555763 ,\n",
       "       126.84542799, 111.79205567, 108.12584402,  95.21773803,\n",
       "        97.89550759,  93.44757989, 106.71266955,  86.90671887,\n",
       "       105.86529658,  96.80277925, 122.28707158, 112.01932562,\n",
       "        90.66804012, 122.09453507, 106.23765215, 115.83546688,\n",
       "        98.8422646 ,  83.987556  ,  84.24460788,  90.33129297,\n",
       "        96.72610656,  68.42779164,  90.60504109, 110.38733609,\n",
       "        91.28271888, 115.27234405,  90.88570748, 106.32138994,\n",
       "       101.8419922 , 102.18641904,  90.53019276, 101.85211465,\n",
       "        90.90101947,  91.35951613,  94.29568732, 123.69713924,\n",
       "        72.89853099,  97.80538918, 121.84320531, 108.9395305 ,\n",
       "        98.20915136,  95.11204168, 104.1129444 , 100.10944806,\n",
       "       107.49096117, 106.82667586, 117.89517392, 105.88814272,\n",
       "        96.61803876, 103.2721117 , 111.6259498 , 121.38727058,\n",
       "        93.13308142, 103.71446615,  93.60749121,  82.69999881,\n",
       "        94.57917815, 102.01272938,  73.95728629, 101.88667269,\n",
       "       114.66732223,  80.13824383,  77.78347988, 105.14580136,\n",
       "       103.17251327,  89.16029382, 117.93318178,  85.29857388,\n",
       "        90.63714555,  77.79521689,  97.0962961 ,  88.96193238,\n",
       "        94.95484728, 123.46724728,  91.85818098, 101.46311736,\n",
       "        94.50535158,  86.51576621,  98.63824865,  96.46681106,\n",
       "        92.79796995,  91.30635222,  93.72716147,  94.40146434,\n",
       "       106.0718645 , 111.495939  ,  96.68313492, 112.72049977,\n",
       "       104.52847746,  98.07668622, 134.61516278,  85.076172  ,\n",
       "        82.2885401 ,  85.76687871,  70.38297504, 121.21427192,\n",
       "       100.49055411, 103.55654688,  64.1944174 ,  88.49044429,\n",
       "        93.77630431, 107.21643057, 127.79216266, 104.69701942,\n",
       "        81.72089466,  71.52884833,  99.70339027, 120.20602416,\n",
       "       103.22443143, 100.54236438,  96.91919241,  92.6277836 ,\n",
       "        86.82086835,  99.27890455, 124.16424308,  97.79955892,\n",
       "       115.67716202,  98.24049012, 121.26241245,  81.64105756,\n",
       "        87.29322635,  81.01799659,  99.60886385,  79.07729214,\n",
       "       117.28614825,  86.37190781,  96.46202853,  88.8296678 ,\n",
       "        84.56787539, 115.102703  , 104.75228646, 103.2214891 ,\n",
       "        84.0032925 ,  86.60101474, 108.70633261, 118.81089856,\n",
       "       123.36481372, 104.07163405, 111.25674843, 119.1584277 ,\n",
       "        88.7315147 , 104.65729772, 102.11931657,  74.28694347,\n",
       "       118.53045086,  99.20491432, 134.55691988,  75.73348028,\n",
       "       127.6480564 ,  88.07286964, 101.57574459,  80.65037109,\n",
       "       113.44743025,  89.70123233,  77.5320473 , 114.35119173,\n",
       "        86.35309692,  64.02186426, 104.2316722 , 106.34811644,\n",
       "       114.15985264, 125.30652321, 115.61415183, 113.029586  ,\n",
       "       101.8370516 , 114.73420247, 106.85215225,  87.18866707,\n",
       "       109.44315347, 110.86406397,  86.08136151, 114.72194186,\n",
       "       131.18995583, 103.48222804, 116.63081671, 106.72234162,\n",
       "       100.30380476,  93.17274942,  94.98940407, 111.73102165,\n",
       "        96.08181632, 117.79376414,  97.72443495,  88.68151604,\n",
       "        75.19835299,  81.30021187,  92.60766352, 110.16698923,\n",
       "       101.27871916,  87.26629523, 110.73781353, 124.51110583,\n",
       "        96.23921508,  65.53841112, 130.47066357,  88.95999773,\n",
       "       104.89533193, 145.88136063, 103.9303219 ,  84.41846797,\n",
       "       120.86349597, 105.63561384,  93.64009869,  68.37983702,\n",
       "       119.68781603,  92.96668575,  99.98702416,  98.5835768 ,\n",
       "        94.10673741, 107.16564658, 109.0711083 , 114.32131946,\n",
       "       101.70341185,  76.54921871, 112.87910206, 102.19032836,\n",
       "        95.76093685, 102.853783  , 105.90645052,  87.77855633,\n",
       "       122.9781488 ,  97.68777178, 105.73334408, 110.29484818,\n",
       "        88.88486216, 122.59229146, 107.87768777,  93.20414104,\n",
       "        60.38478853, 116.92153546,  99.82572041, 101.99519767,\n",
       "        97.82879594,  90.82593882,  91.96078902, 111.85850881,\n",
       "       103.98777333,  76.20649982,  87.40293771,  78.05194185,\n",
       "       105.7836875 , 102.63068317,  80.45032218, 131.72404801,\n",
       "        81.49651328, 104.58189668, 110.85523952, 112.19360553,\n",
       "       110.28881441, 108.0874986 , 122.09197142, 113.23460269,\n",
       "       127.42612936, 101.30263214, 111.9258838 ,  91.88728489,\n",
       "        75.77019979, 103.4816999 ,  80.02601245, 113.21206799,\n",
       "        80.31612758, 101.20824746, 132.99114569, 108.46525632,\n",
       "        80.6234812 , 102.81856596,  87.71474781, 110.05147403,\n",
       "       100.34119369,  98.66000226, 117.39272805, 120.47091639,\n",
       "       106.27609139, 116.51693704,  93.0729189 , 104.39048918,\n",
       "       114.79437527, 102.7654293 ,  77.73617978,  99.12666333,\n",
       "       116.97854442, 128.07857343, 104.36817275, 105.89447085,\n",
       "       105.23963633, 103.72144018, 106.12272802,  97.6728612 ,\n",
       "        92.96889267,  99.36465594, 100.69420409,  96.44992739,\n",
       "       109.46645501,  88.20566017,  81.38646377,  87.25033922,\n",
       "        96.05449335,  78.63117649,  82.67444598,  93.77355613,\n",
       "       115.82629679, 108.95136318, 109.89735729,  96.77427719,\n",
       "        95.81114605,  98.91547754,  97.54765366,  72.55648241,\n",
       "       100.03489181, 107.7080567 ,  95.20733987, 113.3541566 ,\n",
       "       104.27734076,  92.37176638,  82.14456019, 120.9291252 ,\n",
       "        95.31115537, 103.16866664,  94.82042344,  78.93946152,\n",
       "       105.3881189 , 107.9620752 ,  99.10864006, 115.39143298,\n",
       "       121.96128162, 106.78613882,  74.575498  ,  81.26299771,\n",
       "       106.19552772,  91.63295014, 111.37979116, 106.07350263,\n",
       "       117.2469107 , 121.74537195, 109.69739327, 139.63903596,\n",
       "        68.67499246,  95.73050745, 109.00792788, 105.88300578,\n",
       "       113.35575338,  66.76876855, 122.14864571,  98.21706464,\n",
       "       101.63259223, 114.6724171 , 126.73627743, 129.30512983,\n",
       "        83.36414953, 116.28371635, 106.28763919,  83.90894102,\n",
       "       103.75510479,  91.92265681, 113.62783843, 100.7707907 ,\n",
       "       137.60541861, 100.94935952,  99.02439256,  93.78558223,\n",
       "       116.4250201 ,  96.96245512,  73.55652328,  75.22060642,\n",
       "       129.19466436,  83.65522261,  84.1500803 , 105.76956082,\n",
       "        88.39932456,  95.77076507, 114.36659234,  92.92872777,\n",
       "       102.57116153,  82.1634533 ,  86.87899031, 104.91632838,\n",
       "       113.73276866,  92.66812235,  99.72062495, 109.81512332,\n",
       "       105.1956252 ,  83.34280316, 104.50638072, 104.5045997 ,\n",
       "       132.16896745,  99.23633308, 117.54578054,  97.24130334,\n",
       "       100.20604025,  76.9801008 , 102.37460714,  83.12708424,\n",
       "       112.42948412, 102.25778651,  98.41907516,  91.07531602,\n",
       "       110.31884949, 106.5624152 ,  99.84850138,  91.0071637 ,\n",
       "        91.19375239, 112.04057137, 105.07691814,  93.88310261,\n",
       "        99.44139072, 131.00916713,  96.14319907,  95.73981589,\n",
       "        78.84090495, 116.92044608,  79.8271227 , 119.75984909,\n",
       "       103.35545732,  96.70675433, 102.63631384,  93.44640643,\n",
       "        73.30127009,  91.33163637, 107.34448043, 118.65417926,\n",
       "       102.00075713, 113.3654451 ,  89.68424072, 106.48700883,\n",
       "       104.19949061, 110.31116663,  95.89636706, 104.8043775 ,\n",
       "        90.29125413, 123.08649845, 108.84946744,  98.52460916,\n",
       "        90.21062381,  97.47006571, 112.96417594, 103.45664489,\n",
       "        87.97199402,  99.96111605,  60.29070024, 108.44025092,\n",
       "        93.51970805,  88.46113981,  79.15712883,  94.76022764,\n",
       "       103.8229227 , 108.08966247,  84.06743722, 105.26049503,\n",
       "       110.05506487,  98.55803127,  93.87354855,  94.89979482,\n",
       "       125.06384163, 107.70540014, 117.59307923, 104.73293068,\n",
       "       108.9971927 ,  99.20758429,  97.56794914,  93.0945849 ,\n",
       "       113.94715819,  96.80068043, 116.57647104, 109.13262212,\n",
       "        85.7257595 , 102.26419735,  67.55125981,  63.71067913,\n",
       "       104.77487174,  86.7452924 ,  91.82313282, 127.73159837,\n",
       "        78.79808297,  85.34706335,  97.8968542 ,  87.77998123,\n",
       "        93.66106654, 106.82362789, 110.23510579, 114.94701474,\n",
       "       113.12681629, 106.74179055,  77.78346159,  96.27810226,\n",
       "       117.37933487,  74.62765813, 120.32939352, 102.44580173,\n",
       "       112.82856219,  99.02299307, 103.96627046, 108.88170271,\n",
       "        61.72588785, 102.63209563, 136.60795955,  70.55471882,\n",
       "        57.86892845,  79.72222625, 136.81510837,  82.46028185,\n",
       "       114.13954402,  86.95006671,  91.75137867,  78.10417313,\n",
       "       119.96325489,  84.02155068,  99.06747395, 112.63066872,\n",
       "       112.35805161, 102.14079618,  94.92540176,  96.62511971,\n",
       "        92.02908502,  99.19729123,  87.64321795, 134.09154174,\n",
       "        98.24434569,  86.05495594,  98.36464752, 101.84786427,\n",
       "       104.65625213, 100.40140788,  98.33685926,  91.16641194,\n",
       "       113.32021063,  91.6600357 , 128.8781246 ,  92.49609465,\n",
       "       120.31967131, 104.98258461,  93.82152565,  97.16166416,\n",
       "       120.45130864, 116.97333015,  84.96692191,  93.45556366,\n",
       "        98.20719208,  89.18608571, 105.1783355 , 114.29625013,\n",
       "       103.53836039,  87.07189681, 113.07457775,  94.27867665,\n",
       "       119.12775879,  95.19795297, 108.02865797,  79.84818248,\n",
       "       122.8829342 , 114.6922842 , 112.24211078,  95.93671444,\n",
       "        62.74730016, 100.54752899,  84.01710226, 104.76588307,\n",
       "        94.3832146 ,  94.54788249,  90.6316099 , 100.68730577,\n",
       "       127.25213866,  89.35070863,  94.18448538,  95.9181515 ,\n",
       "       125.76831815, 103.19127422, 112.48850297, 115.5249532 ,\n",
       "        78.27644534,  99.0448075 , 102.02828868, 110.06298636,\n",
       "        99.23478599,  98.30191202,  86.7417563 ,  74.07677724,\n",
       "        77.48740048,  98.14216706, 124.0943994 ,  98.36151365,\n",
       "       111.52877981,  80.26357125, 118.27369099,  82.54180511,\n",
       "       114.23157378, 121.65603967,  86.68958885,  97.44978769,\n",
       "        92.70349613, 120.51310342, 111.97620147,  94.59859205,\n",
       "        74.14036005, 100.56134463, 128.26937802,  89.88224282,\n",
       "        98.5907512 ,  91.76625341, 102.23620824, 111.41178117,\n",
       "        90.61879872, 100.76599396,  79.34940146,  99.20091823,\n",
       "        75.87683497,  89.51487389, 101.03232052,  82.04777056,\n",
       "        71.22956889,  80.50363232, 101.36280578, 107.88460484,\n",
       "        74.81840473, 120.60930131,  94.19823725, 107.29724173,\n",
       "       103.82786136,  85.12778761,  88.54140736, 109.86125646,\n",
       "       117.242877  ,  95.00050384,  98.62187657, 118.53902761,\n",
       "       102.9070748 , 104.26580622,  97.24575798, 126.33010045,\n",
       "        79.44993849, 124.09938249,  97.95575096,  76.45743113,\n",
       "       134.6643574 , 101.32476311,  89.52750441, 110.0681143 ,\n",
       "        82.37976407,  91.6038962 ,  80.75190366,  85.52022703,\n",
       "        89.37596057, 101.50373104,  78.26850484,  97.01969908,\n",
       "       105.76229967, 108.58653707, 109.35686762,  87.91008905,\n",
       "        89.42910216,  69.28007261, 111.0417332 , 110.83669441,\n",
       "       108.98464985, 101.74324742, 102.26015481,  79.37296748,\n",
       "        80.61888572,  86.78080053,  95.08690886, 101.28215679,\n",
       "       106.65432491, 115.78870905, 117.06747724,  90.3684725 ,\n",
       "        76.06850258, 113.22987629,  97.77112303, 105.38757348,\n",
       "       104.26104306, 100.71006667,  95.3363084 ,  95.71085584,\n",
       "       110.93547325,  79.78347474, 121.27040576,  97.07717572,\n",
       "        91.12429245,  75.57028595, 101.78184397,  90.26081633,\n",
       "        79.59650776, 112.15630986, 107.019767  , 120.09251093,\n",
       "       114.96702616,  91.6966846 , 106.99883072, 119.83737956,\n",
       "       105.28973268,  98.24686483,  97.99114674,  75.88230848,\n",
       "        77.53886409,  99.96080351, 127.6061958 ,  89.79518258,\n",
       "        83.22482952,  99.84888611,  98.27807792,  89.14048558,\n",
       "       109.83517967,  99.95096047,  98.01603534, 106.58305064,\n",
       "       100.67439308,  95.3537372 ,  86.06379481, 125.77458198,\n",
       "       144.45379907, 106.61444888,  92.80303322,  85.57424633,\n",
       "        93.25173526,  83.72400922, 125.57001296, 128.39920901,\n",
       "        68.40312104,  92.31870737,  92.83451153,  91.80338789,\n",
       "        87.89243597, 111.02743393, 114.87452776, 103.24539528,\n",
       "       116.77237776,  93.82018643, 120.88046974,  84.70486641,\n",
       "       112.17906476,  66.36950542, 120.11773178, 100.15262096,\n",
       "       118.51758617,  72.27636909, 101.59377298, 132.37559991,\n",
       "       109.33678171, 113.57938182, 103.30127238, 101.66344093,\n",
       "       102.82046   ,  82.18322707,  98.46843909,  99.35515729,\n",
       "       102.90779196, 103.59920499,  90.9483177 , 145.29729284,\n",
       "        85.47262299, 100.19145209, 123.63734966, 107.79825187,\n",
       "        97.4451621 , 101.75358435,  90.12618242,  85.97687446,\n",
       "       124.75333605,  82.14695265,  92.63337551, 129.60004487,\n",
       "        88.50949095, 110.39823248, 103.58839866,  81.29707379,\n",
       "       104.49977831, 107.97137965,  91.60050166, 106.37149788,\n",
       "        90.01830624,  92.4696363 ,  74.5753446 ,  86.03216732,\n",
       "       107.18943177, 107.1324836 ,  60.43975303, 109.63168834,\n",
       "        89.47134871,  94.850271  , 103.46267175,  88.92155142,\n",
       "       103.68637456, 101.84370999,  94.388698  ,  95.7802108 ,\n",
       "       113.08774104, 115.98323498, 109.21462859,  93.21075073,\n",
       "        95.98905733, 116.81659565, 135.89283452, 108.24521263,\n",
       "       106.170212  , 118.38622609,  98.54762481, 110.16597862,\n",
       "       116.67003377,  82.08208235,  80.20537593, 102.05065358,\n",
       "        84.9738699 ,  86.42087685,  97.5673647 , 119.39276544,\n",
       "        97.36420959,  98.70085102, 120.81174521,  82.17463442,\n",
       "        95.21893043, 125.35424246,  87.64272283,  80.93809955,\n",
       "       102.20876975,  88.73783857, 121.41191139, 122.84646881,\n",
       "        78.33200545,  84.62791257,  95.00354042,  94.71507352,\n",
       "        87.45228582, 141.24712324, 134.35164503,  84.48831688,\n",
       "        93.66614658,  75.15473217,  71.39904947, 112.97147665,\n",
       "       101.22353316,  87.49608536,  85.33798608,  82.5772649 ,\n",
       "       113.79165323,  95.57171251, 101.027821  ,  99.58632483,\n",
       "        84.89227727, 139.68993799,  96.62116963,  78.65249996,\n",
       "       121.27190737, 122.18964382,  89.33748391,  73.99134489,\n",
       "       121.17171382,  88.42478665,  91.58825867, 109.54051615,\n",
       "       115.77645796,  79.6608965 , 107.17572243,  82.30772635,\n",
       "       110.48005419,  98.36338304,  70.25923865,  90.63578837,\n",
       "       103.19267825,  84.64253606, 104.17046182, 132.38127952,\n",
       "       109.36736502, 104.15229516,  96.83087251,  99.96589597,\n",
       "       100.52640155, 106.36994627,  76.88915437, 122.87052706,\n",
       "        87.162181  , 114.25280486,  95.35602062,  84.20015923,\n",
       "        74.3666032 ,  96.91303279,  87.5279293 , 115.09661218,\n",
       "       115.51982228, 100.87944609,  99.40405182, 117.2947967 ])"
      ]
     },
     "metadata": {},
     "execution_count": 20
    }
   ],
   "metadata": {}
  },
  {
   "cell_type": "code",
   "execution_count": 21,
   "source": [
    "plt.figure(figsize=(12,7))\r\n",
    "sns.lineplot(y=samples, x=range(0,1000));"
   ],
   "outputs": [
    {
     "output_type": "display_data",
     "data": {
      "image/png": "[encoded data removed]",
      "text/plain": [
       "<Figure size 864x504 with 1 Axes>"
      ]
     },
     "metadata": {
      "needs_background": "light"
     }
    }
   ],
   "metadata": {}
  },
  {
   "cell_type": "code",
   "execution_count": 22,
   "source": [
    "plt.figure(figsize=(12,7))\r\n",
    "sns.histplot(x=samples, kde=True, bins=100);"
   ],
   "outputs": [
    {
     "output_type": "display_data",
     "data": {
      "image/png": "[encoded data removed]",
      "text/plain": [
       "<Figure size 864x504 with 1 Axes>"
      ]
     },
     "metadata": {
      "needs_background": "light"
     }
    }
   ],
   "metadata": {}
  },
  {
   "cell_type": "code",
   "execution_count": 23,
   "source": [
    "age2 = [20, 22, 25, 25, 27, 27, 27, 29, 30, 31, 121]"
   ],
   "outputs": [],
   "metadata": {}
  },
  {
   "cell_type": "code",
   "execution_count": 24,
   "source": [
    "np.std(age2)"
   ],
   "outputs": [
    {
     "output_type": "execute_result",
     "data": {
      "text/plain": [
       "27.400910885504736"
      ]
     },
     "metadata": {},
     "execution_count": 24
    }
   ],
   "metadata": {}
  },
  {
   "cell_type": "code",
   "execution_count": 25,
   "source": [
    "np.max(age2) - np.min(age2)"
   ],
   "outputs": [
    {
     "output_type": "execute_result",
     "data": {
      "text/plain": [
       "101"
      ]
     },
     "metadata": {},
     "execution_count": 25
    }
   ],
   "metadata": {}
  },
  {
   "cell_type": "code",
   "execution_count": 26,
   "source": [
    "np.var(age2) # Variance"
   ],
   "outputs": [
    {
     "output_type": "execute_result",
     "data": {
      "text/plain": [
       "750.809917355372"
      ]
     },
     "metadata": {},
     "execution_count": 26
    }
   ],
   "metadata": {}
  },
  {
   "cell_type": "code",
   "execution_count": 27,
   "source": [
    "iqr(age2)"
   ],
   "outputs": [
    {
     "output_type": "execute_result",
     "data": {
      "text/plain": [
       "4.5"
      ]
     },
     "metadata": {},
     "execution_count": 27
    }
   ],
   "metadata": {}
  },
  {
   "cell_type": "code",
   "execution_count": 28,
   "source": [
    "np.percentile(age2, 25)"
   ],
   "outputs": [
    {
     "output_type": "execute_result",
     "data": {
      "text/plain": [
       "25.0"
      ]
     },
     "metadata": {},
     "execution_count": 28
    }
   ],
   "metadata": {}
  },
  {
   "cell_type": "code",
   "execution_count": 29,
   "source": [
    "np.percentile(age2, 75)"
   ],
   "outputs": [
    {
     "output_type": "execute_result",
     "data": {
      "text/plain": [
       "29.5"
      ]
     },
     "metadata": {},
     "execution_count": 29
    }
   ],
   "metadata": {}
  },
  {
   "cell_type": "code",
   "execution_count": 30,
   "source": [
    "np.median(age2)"
   ],
   "outputs": [
    {
     "output_type": "execute_result",
     "data": {
      "text/plain": [
       "27.0"
      ]
     },
     "metadata": {},
     "execution_count": 30
    }
   ],
   "metadata": {}
  },
  {
   "cell_type": "code",
   "execution_count": 31,
   "source": [
    "np.percentile(age2, 50)"
   ],
   "outputs": [
    {
     "output_type": "execute_result",
     "data": {
      "text/plain": [
       "27.0"
      ]
     },
     "metadata": {},
     "execution_count": 31
    }
   ],
   "metadata": {}
  },
  {
   "cell_type": "code",
   "execution_count": 32,
   "source": [
    "stats.kurtosis(age2)"
   ],
   "outputs": [
    {
     "output_type": "execute_result",
     "data": {
      "text/plain": [
       "5.876609699981859"
      ]
     },
     "metadata": {},
     "execution_count": 32
    }
   ],
   "metadata": {}
  },
  {
   "cell_type": "code",
   "execution_count": 33,
   "source": [
    "stats.skew(age2)"
   ],
   "outputs": [
    {
     "output_type": "execute_result",
     "data": {
      "text/plain": [
       "2.778572264050739"
      ]
     },
     "metadata": {},
     "execution_count": 33
    }
   ],
   "metadata": {}
  },
  {
   "cell_type": "code",
   "execution_count": 34,
   "source": [
    "age3 = [25, 28, 29, 29, 30, 34, 35, 37, 38]"
   ],
   "outputs": [],
   "metadata": {}
  },
  {
   "cell_type": "code",
   "execution_count": 35,
   "source": [
    "np.median(age3)"
   ],
   "outputs": [
    {
     "output_type": "execute_result",
     "data": {
      "text/plain": [
       "30.0"
      ]
     },
     "metadata": {},
     "execution_count": 35
    }
   ],
   "metadata": {}
  },
  {
   "cell_type": "code",
   "execution_count": 36,
   "source": [
    "np.percentile(age3, 25) # q1"
   ],
   "outputs": [
    {
     "output_type": "execute_result",
     "data": {
      "text/plain": [
       "29.0"
      ]
     },
     "metadata": {},
     "execution_count": 36
    }
   ],
   "metadata": {}
  },
  {
   "cell_type": "code",
   "execution_count": 37,
   "source": [
    "np.percentile(age3, 75) # q3"
   ],
   "outputs": [
    {
     "output_type": "execute_result",
     "data": {
      "text/plain": [
       "35.0"
      ]
     },
     "metadata": {},
     "execution_count": 37
    }
   ],
   "metadata": {}
  },
  {
   "cell_type": "code",
   "execution_count": 38,
   "source": [
    "iqr_1_3 = np.percentile(age3, 75) - np.percentile(age3, 25)"
   ],
   "outputs": [],
   "metadata": {}
  },
  {
   "cell_type": "code",
   "execution_count": 39,
   "source": [
    "iqr_1_3"
   ],
   "outputs": [
    {
     "output_type": "execute_result",
     "data": {
      "text/plain": [
       "6.0"
      ]
     },
     "metadata": {},
     "execution_count": 39
    }
   ],
   "metadata": {}
  },
  {
   "cell_type": "code",
   "execution_count": 40,
   "source": [
    "1.5*iqr_1_3"
   ],
   "outputs": [
    {
     "output_type": "execute_result",
     "data": {
      "text/plain": [
       "9.0"
      ]
     },
     "metadata": {},
     "execution_count": 40
    }
   ],
   "metadata": {}
  },
  {
   "cell_type": "markdown",
   "source": [
    "#### Numpy Correlation"
   ],
   "metadata": {}
  },
  {
   "cell_type": "code",
   "execution_count": 41,
   "source": [
    "x = np.arange(10,20)"
   ],
   "outputs": [],
   "metadata": {}
  },
  {
   "cell_type": "code",
   "execution_count": 42,
   "source": [
    "y =  np.random.randint(0, 100, 10)"
   ],
   "outputs": [],
   "metadata": {}
  },
  {
   "cell_type": "code",
   "execution_count": 43,
   "source": [
    "r =  np.corrcoef(x,y)\r\n",
    "r"
   ],
   "outputs": [
    {
     "output_type": "execute_result",
     "data": {
      "text/plain": [
       "array([[ 1.        , -0.07519717],\n",
       "       [-0.07519717,  1.        ]])"
      ]
     },
     "metadata": {},
     "execution_count": 43
    }
   ],
   "metadata": {}
  },
  {
   "cell_type": "markdown",
   "source": [
    "#### Pandas Correlation Calculation"
   ],
   "metadata": {}
  },
  {
   "cell_type": "code",
   "execution_count": 44,
   "source": [
    "x = pd.Series(range(10, 20))\r\n",
    "y = pd.Series([2, 1, 4, 5, 8, 12, 18, 25, 96, 48])"
   ],
   "outputs": [],
   "metadata": {}
  },
  {
   "cell_type": "code",
   "execution_count": 45,
   "source": [
    "r = x.corr(y) \r\n",
    "r"
   ],
   "outputs": [
    {
     "output_type": "execute_result",
     "data": {
      "text/plain": [
       "0.7586402890911867"
      ]
     },
     "metadata": {},
     "execution_count": 45
    }
   ],
   "metadata": {}
  },
  {
   "cell_type": "markdown",
   "source": [
    "#### Spearman's rho Correlation."
   ],
   "metadata": {}
  },
  {
   "cell_type": "code",
   "execution_count": 46,
   "source": [
    "rho = x.corr(y, method='spearman')\r\n",
    "rho"
   ],
   "outputs": [
    {
     "output_type": "execute_result",
     "data": {
      "text/plain": [
       "0.9757575757575757"
      ]
     },
     "metadata": {},
     "execution_count": 46
    }
   ],
   "metadata": {}
  },
  {
   "cell_type": "markdown",
   "source": [
    "#### Seaborn Dataset Tips"
   ],
   "metadata": {}
  },
  {
   "cell_type": "code",
   "execution_count": 47,
   "source": [
    "tips = sns.load_dataset(\"tips\")\r\n",
    "tips.head()"
   ],
   "outputs": [
    {
     "output_type": "execute_result",
     "data": {
      "text/html": [
       "<div>\n",
       "<style scoped>\n",
       "    .dataframe tbody tr th:only-of-type {\n",
       "        vertical-align: middle;\n",
       "    }\n",
       "\n",
       "    .dataframe tbody tr th {\n",
       "        vertical-align: top;\n",
       "    }\n",
       "\n",
       "    .dataframe thead th {\n",
       "        text-align: right;\n",
       "    }\n",
       "</style>\n",
       "<table border=\"1\" class=\"dataframe\">\n",
       "  <thead>\n",
       "    <tr style=\"text-align: right;\">\n",
       "      <th></th>\n",
       "      <th>total_bill</th>\n",
       "      <th>tip</th>\n",
       "      <th>sex</th>\n",
       "      <th>smoker</th>\n",
       "      <th>day</th>\n",
       "      <th>time</th>\n",
       "      <th>size</th>\n",
       "    </tr>\n",
       "  </thead>\n",
       "  <tbody>\n",
       "    <tr>\n",
       "      <th>0</th>\n",
       "      <td>16.99</td>\n",
       "      <td>1.01</td>\n",
       "      <td>Female</td>\n",
       "      <td>No</td>\n",
       "      <td>Sun</td>\n",
       "      <td>Dinner</td>\n",
       "      <td>2</td>\n",
       "    </tr>\n",
       "    <tr>\n",
       "      <th>1</th>\n",
       "      <td>10.34</td>\n",
       "      <td>1.66</td>\n",
       "      <td>Male</td>\n",
       "      <td>No</td>\n",
       "      <td>Sun</td>\n",
       "      <td>Dinner</td>\n",
       "      <td>3</td>\n",
       "    </tr>\n",
       "    <tr>\n",
       "      <th>2</th>\n",
       "      <td>21.01</td>\n",
       "      <td>3.50</td>\n",
       "      <td>Male</td>\n",
       "      <td>No</td>\n",
       "      <td>Sun</td>\n",
       "      <td>Dinner</td>\n",
       "      <td>3</td>\n",
       "    </tr>\n",
       "    <tr>\n",
       "      <th>3</th>\n",
       "      <td>23.68</td>\n",
       "      <td>3.31</td>\n",
       "      <td>Male</td>\n",
       "      <td>No</td>\n",
       "      <td>Sun</td>\n",
       "      <td>Dinner</td>\n",
       "      <td>2</td>\n",
       "    </tr>\n",
       "    <tr>\n",
       "      <th>4</th>\n",
       "      <td>24.59</td>\n",
       "      <td>3.61</td>\n",
       "      <td>Female</td>\n",
       "      <td>No</td>\n",
       "      <td>Sun</td>\n",
       "      <td>Dinner</td>\n",
       "      <td>4</td>\n",
       "    </tr>\n",
       "  </tbody>\n",
       "</table>\n",
       "</div>"
      ],
      "text/plain": [
       "   total_bill   tip     sex smoker  day    time  size\n",
       "0       16.99  1.01  Female     No  Sun  Dinner     2\n",
       "1       10.34  1.66    Male     No  Sun  Dinner     3\n",
       "2       21.01  3.50    Male     No  Sun  Dinner     3\n",
       "3       23.68  3.31    Male     No  Sun  Dinner     2\n",
       "4       24.59  3.61  Female     No  Sun  Dinner     4"
      ]
     },
     "metadata": {},
     "execution_count": 47
    }
   ],
   "metadata": {}
  },
  {
   "cell_type": "code",
   "execution_count": 48,
   "source": [
    "r1 = tips[\"total_bill\"].corr(tips[\"tip\"])\r\n",
    "r1"
   ],
   "outputs": [
    {
     "output_type": "execute_result",
     "data": {
      "text/plain": [
       "0.6757341092113645"
      ]
     },
     "metadata": {},
     "execution_count": 48
    }
   ],
   "metadata": {}
  },
  {
   "cell_type": "code",
   "execution_count": 49,
   "source": [
    "r2 = tips[\"total_bill\"].corr(tips[\"size\"])\r\n",
    "r2"
   ],
   "outputs": [
    {
     "output_type": "execute_result",
     "data": {
      "text/plain": [
       "0.5983151309049017"
      ]
     },
     "metadata": {},
     "execution_count": 49
    }
   ],
   "metadata": {}
  },
  {
   "cell_type": "code",
   "execution_count": null,
   "source": [],
   "outputs": [],
   "metadata": {}
  }
 ],
 "metadata": {
  "orig_nbformat": 4,
  "language_info": {
   "name": "python",
   "version": "3.9.0",
   "mimetype": "text/x-python",
   "codemirror_mode": {
    "name": "ipython",
    "version": 3
   },
   "pygments_lexer": "ipython3",
   "nbconvert_exporter": "python",
   "file_extension": ".py"
  },
  "kernelspec": {
   "name": "python3",
   "display_name": "Python 3.9.0 64-bit (system)"
  },
  "interpreter": {
   "hash": "43a9cd95aa030499ef934e4da31e07dde54f3fc3a1fd0cc4aeef7f16459ee2ac"
  }
 },
 "nbformat": 4,
 "nbformat_minor": 2
}