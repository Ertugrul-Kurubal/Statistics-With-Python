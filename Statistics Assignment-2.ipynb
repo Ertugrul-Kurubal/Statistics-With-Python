{
  "nbformat": 4,
  "nbformat_minor": 2,
  "metadata": {
    "colab": {
      "name": "Statistics Assignment-2.ipynb",
      "provenance": [],
      "collapsed_sections": []
    },
    "kernelspec": {
      "name": "python3",
      "display_name": "Python 3",
      "language": "python"
    }
  },
  "cells": [
    {
      "cell_type": "markdown",
      "source": [
        "## Descriptive Statistics"
      ],
      "metadata": {
        "id": "K7S4cEyZLTp7"
      }
    },
    {
      "cell_type": "markdown",
      "source": [
        " Import **NumPy**, **SciPy**, and **Pandas**"
      ],
      "metadata": {
        "id": "vZRYVyc8H7hi"
      }
    },
    {
      "cell_type": "code",
      "execution_count": 9,
      "source": [
        "import numpy as np \r\n",
        "import pandas as pd \r\n",
        "from scipy import stats"
      ],
      "outputs": [],
      "metadata": {
        "id": "7ShN0klrHIk3"
      }
    },
    {
      "cell_type": "markdown",
      "source": [
        " Randomly generate 1,000 samples from the normal distribution using `np.random.normal()`(mean = 100, standard deviation = 15)"
      ],
      "metadata": {
        "id": "_SaQURIqIA6d"
      }
    },
    {
      "cell_type": "code",
      "execution_count": 17,
      "source": [
        "s_mean = 100\r\n",
        "s_std = 15\r\n",
        "samples = np.random.normal(s_mean, s_std, 1000)"
      ],
      "outputs": [],
      "metadata": {
        "id": "Jyw_FMX0IRkm"
      }
    },
    {
      "cell_type": "code",
      "execution_count": 21,
      "source": [
        "stats.mode(samples)"
      ],
      "outputs": [
        {
          "output_type": "execute_result",
          "data": {
            "text/plain": [
              "ModeResult(mode=array([49.68503962]), count=array([1]))"
            ]
          },
          "metadata": {},
          "execution_count": 21
        }
      ],
      "metadata": {}
    },
    {
      "cell_type": "markdown",
      "source": [
        "Compute the **mean**, **median**, and **mode**"
      ],
      "metadata": {
        "id": "CDF8m3a4IYOC"
      }
    },
    {
      "cell_type": "code",
      "execution_count": 28,
      "source": [
        "samples.mean()"
      ],
      "outputs": [
        {
          "output_type": "execute_result",
          "data": {
            "text/plain": [
              "99.5357675331404"
            ]
          },
          "metadata": {},
          "execution_count": 28
        }
      ],
      "metadata": {
        "id": "ZKbeqxaKIoNs"
      }
    },
    {
      "cell_type": "code",
      "execution_count": 29,
      "source": [
        "np.median(samples)"
      ],
      "outputs": [
        {
          "output_type": "execute_result",
          "data": {
            "text/plain": [
              "99.39062603504792"
            ]
          },
          "metadata": {},
          "execution_count": 29
        }
      ],
      "metadata": {}
    },
    {
      "cell_type": "code",
      "execution_count": 30,
      "source": [
        "stats.mode(samples)"
      ],
      "outputs": [
        {
          "output_type": "execute_result",
          "data": {
            "text/plain": [
              "ModeResult(mode=array([49.68503962]), count=array([1]))"
            ]
          },
          "metadata": {},
          "execution_count": 30
        }
      ],
      "metadata": {}
    },
    {
      "cell_type": "code",
      "execution_count": null,
      "source": [
        "mean = 99.5357675331404\n",
        "median = 99.39062603504792\n",
        "mode = ModeResult(mode=array([49.68503962]), count=array([1]))"
      ],
      "outputs": [],
      "metadata": {}
    },
    {
      "cell_type": "markdown",
      "source": [
        "Compute the **min**, **max**, **Q1**, **Q3**, and **interquartile range**"
      ],
      "metadata": {
        "id": "skT8m39XI60w"
      }
    },
    {
      "cell_type": "code",
      "execution_count": 31,
      "source": [
        "samples.min()"
      ],
      "outputs": [
        {
          "output_type": "execute_result",
          "data": {
            "text/plain": [
              "49.68503962455603"
            ]
          },
          "metadata": {},
          "execution_count": 31
        }
      ],
      "metadata": {}
    },
    {
      "cell_type": "code",
      "execution_count": 32,
      "source": [
        "samples.max()"
      ],
      "outputs": [
        {
          "output_type": "execute_result",
          "data": {
            "text/plain": [
              "153.53477055751227"
            ]
          },
          "metadata": {},
          "execution_count": 32
        }
      ],
      "metadata": {}
    },
    {
      "cell_type": "code",
      "execution_count": 35,
      "source": [
        "q1 = np.percentile(samples, 25)\n",
        "q1"
      ],
      "outputs": [
        {
          "output_type": "execute_result",
          "data": {
            "text/plain": [
              "89.66249824929668"
            ]
          },
          "metadata": {},
          "execution_count": 35
        }
      ],
      "metadata": {}
    },
    {
      "cell_type": "code",
      "execution_count": 36,
      "source": [
        "q3 = np.percentile(samples, 75)\n",
        "q3"
      ],
      "outputs": [
        {
          "output_type": "execute_result",
          "data": {
            "text/plain": [
              "110.38360336728357"
            ]
          },
          "metadata": {},
          "execution_count": 36
        }
      ],
      "metadata": {}
    },
    {
      "cell_type": "code",
      "execution_count": 37,
      "source": [
        "iqr = q3 -q1\n",
        "iqr"
      ],
      "outputs": [
        {
          "output_type": "execute_result",
          "data": {
            "text/plain": [
              "20.721105117986895"
            ]
          },
          "metadata": {},
          "execution_count": 37
        }
      ],
      "metadata": {}
    },
    {
      "cell_type": "code",
      "execution_count": null,
      "source": [
        "min = 49.68503962455603\n",
        "max = 153.53477055751227\n",
        "q1 = 89.66249824929668\n",
        "q3 = 110.38360336728357\n",
        "iqr = 20.721105117986895"
      ],
      "outputs": [],
      "metadata": {
        "id": "VaiDphm8It0O"
      }
    },
    {
      "cell_type": "markdown",
      "source": [
        "Compute the **variance** and **standard deviation**"
      ],
      "metadata": {
        "id": "m53Dv3n5JHQi"
      }
    },
    {
      "cell_type": "code",
      "execution_count": 39,
      "source": [
        "np.var(samples)"
      ],
      "outputs": [
        {
          "output_type": "execute_result",
          "data": {
            "text/plain": [
              "231.0962369225779"
            ]
          },
          "metadata": {},
          "execution_count": 39
        }
      ],
      "metadata": {}
    },
    {
      "cell_type": "code",
      "execution_count": 40,
      "source": [
        "np.std(samples)"
      ],
      "outputs": [
        {
          "output_type": "execute_result",
          "data": {
            "text/plain": [
              "15.201849786212792"
            ]
          },
          "metadata": {},
          "execution_count": 40
        }
      ],
      "metadata": {}
    },
    {
      "cell_type": "code",
      "execution_count": null,
      "source": [
        "variance = 231.0962369225779\n",
        "std_dev = 15.201849786212792"
      ],
      "outputs": [],
      "metadata": {
        "id": "6JFaAYdrJbeN"
      }
    },
    {
      "cell_type": "markdown",
      "source": [
        "Compute the **skewness** and **kurtosis**"
      ],
      "metadata": {
        "id": "5eup4hI1JzqX"
      }
    },
    {
      "cell_type": "code",
      "execution_count": 41,
      "source": [
        "stats.skew(samples)"
      ],
      "outputs": [
        {
          "output_type": "execute_result",
          "data": {
            "text/plain": [
              "-0.02664276688737525"
            ]
          },
          "metadata": {},
          "execution_count": 41
        }
      ],
      "metadata": {}
    },
    {
      "cell_type": "code",
      "execution_count": 42,
      "source": [
        "stats.kurtosis(samples)"
      ],
      "outputs": [
        {
          "output_type": "execute_result",
          "data": {
            "text/plain": [
              "0.03254384542821853"
            ]
          },
          "metadata": {},
          "execution_count": 42
        }
      ],
      "metadata": {}
    },
    {
      "cell_type": "code",
      "execution_count": null,
      "source": [
        "skewness = -0.02664276688737525\n",
        "kurtosis = 0.03254384542821853"
      ],
      "outputs": [],
      "metadata": {
        "id": "YO3obyDnJ3_D"
      }
    },
    {
      "cell_type": "markdown",
      "source": [
        "## NumPy Correlation Calculation"
      ],
      "metadata": {
        "id": "a5UNc8PUKnbU"
      }
    },
    {
      "cell_type": "markdown",
      "source": [
        "Create an array x of integers between 10 (inclusive) and 20 (exclusive). Use `np.arange()`"
      ],
      "metadata": {
        "id": "cLiqxE1CMNTg"
      }
    },
    {
      "cell_type": "code",
      "execution_count": 43,
      "source": [
        "x = np.arange(10,20)"
      ],
      "outputs": [],
      "metadata": {
        "id": "5LAaQ6w5L-2L"
      }
    },
    {
      "cell_type": "code",
      "execution_count": 47,
      "source": [
        "x"
      ],
      "outputs": [
        {
          "output_type": "execute_result",
          "data": {
            "text/plain": [
              "array([10, 11, 12, 13, 14, 15, 16, 17, 18, 19])"
            ]
          },
          "metadata": {},
          "execution_count": 47
        }
      ],
      "metadata": {}
    },
    {
      "cell_type": "markdown",
      "source": [
        "Then use `np.array()` to create a second array y containing 10 arbitrary integers."
      ],
      "metadata": {
        "id": "qyCIaukNMZPf"
      }
    },
    {
      "cell_type": "code",
      "execution_count": 51,
      "source": [
        "y =  np.random.randint(0, 100, 10)"
      ],
      "outputs": [],
      "metadata": {
        "id": "p27eW__gNMdh"
      }
    },
    {
      "cell_type": "code",
      "execution_count": 52,
      "source": [
        "y"
      ],
      "outputs": [
        {
          "output_type": "execute_result",
          "data": {
            "text/plain": [
              "array([ 8, 84, 12, 31, 89, 15, 61,  8,  2, 38])"
            ]
          },
          "metadata": {},
          "execution_count": 52
        }
      ],
      "metadata": {}
    },
    {
      "cell_type": "markdown",
      "source": [
        "Once you have two arrays of the same length, you can compute the **correlation coefficient** between x and y"
      ],
      "metadata": {
        "id": "Kh_VeKwINSqS"
      }
    },
    {
      "cell_type": "code",
      "execution_count": 54,
      "source": [
        "r =  np.corrcoef(x,y)\n",
        "r"
      ],
      "outputs": [
        {
          "output_type": "execute_result",
          "data": {
            "text/plain": [
              "array([[ 1.        , -0.17401163],\n",
              "       [-0.17401163,  1.        ]])"
            ]
          },
          "metadata": {},
          "execution_count": 54
        }
      ],
      "metadata": {
        "id": "yrtC6rPkNSDC"
      }
    },
    {
      "cell_type": "markdown",
      "source": [
        "## Pandas Correlation Calculation"
      ],
      "metadata": {
        "id": "vXieLjYiNtPi"
      }
    },
    {
      "cell_type": "markdown",
      "source": [
        "Run the code below"
      ],
      "metadata": {
        "id": "z56t0k0qNvkr"
      }
    },
    {
      "cell_type": "code",
      "execution_count": 55,
      "source": [
        "x = pd.Series(range(10, 20))\n",
        "y = pd.Series([2, 1, 4, 5, 8, 12, 18, 25, 96, 48])"
      ],
      "outputs": [],
      "metadata": {
        "id": "9AVBMJCyNuwb"
      }
    },
    {
      "cell_type": "markdown",
      "source": [
        "Call the relevant method  to calculate Pearson's r correlation."
      ],
      "metadata": {
        "id": "ZajVXYe2OCih"
      }
    },
    {
      "cell_type": "code",
      "execution_count": 64,
      "source": [
        "r = x.corr(y) \n",
        "r"
      ],
      "outputs": [
        {
          "output_type": "execute_result",
          "data": {
            "text/plain": [
              "0.7586402890911867"
            ]
          },
          "metadata": {},
          "execution_count": 64
        }
      ],
      "metadata": {}
    },
    {
      "cell_type": "markdown",
      "source": [
        "OPTIONAL. Call the relevant method to calculate Spearman's rho correlation."
      ],
      "metadata": {
        "id": "1CygSbnROb9V"
      }
    },
    {
      "cell_type": "code",
      "execution_count": 62,
      "source": [
        "rho = x.corr(y, method='spearman')\n",
        "rho"
      ],
      "outputs": [
        {
          "output_type": "execute_result",
          "data": {
            "text/plain": [
              "0.9757575757575757"
            ]
          },
          "metadata": {},
          "execution_count": 62
        }
      ],
      "metadata": {
        "id": "xp_QkXwmOlYY"
      }
    },
    {
      "cell_type": "markdown",
      "source": [
        "## Seaborn Dataset Tips"
      ],
      "metadata": {
        "id": "we7pg7kdOo7y"
      }
    },
    {
      "cell_type": "markdown",
      "source": [
        "Import Seaborn Library"
      ],
      "metadata": {
        "id": "VlzgFKN7OvqX"
      }
    },
    {
      "cell_type": "code",
      "execution_count": 58,
      "source": [
        "import seaborn as sns"
      ],
      "outputs": [],
      "metadata": {
        "id": "t-49JRRqO4pw"
      }
    },
    {
      "cell_type": "markdown",
      "source": [
        "Load \"tips\" dataset from Seaborn"
      ],
      "metadata": {
        "id": "0INVBB4tO4y4"
      }
    },
    {
      "cell_type": "code",
      "execution_count": 60,
      "source": [
        "tips = sns.load_dataset(\"tips\")\n",
        "tips.head()"
      ],
      "outputs": [
        {
          "output_type": "execute_result",
          "data": {
            "text/html": [
              "<div>\n",
              "<style scoped>\n",
              "    .dataframe tbody tr th:only-of-type {\n",
              "        vertical-align: middle;\n",
              "    }\n",
              "\n",
              "    .dataframe tbody tr th {\n",
              "        vertical-align: top;\n",
              "    }\n",
              "\n",
              "    .dataframe thead th {\n",
              "        text-align: right;\n",
              "    }\n",
              "</style>\n",
              "<table border=\"1\" class=\"dataframe\">\n",
              "  <thead>\n",
              "    <tr style=\"text-align: right;\">\n",
              "      <th></th>\n",
              "      <th>total_bill</th>\n",
              "      <th>tip</th>\n",
              "      <th>sex</th>\n",
              "      <th>smoker</th>\n",
              "      <th>day</th>\n",
              "      <th>time</th>\n",
              "      <th>size</th>\n",
              "    </tr>\n",
              "  </thead>\n",
              "  <tbody>\n",
              "    <tr>\n",
              "      <th>0</th>\n",
              "      <td>16.99</td>\n",
              "      <td>1.01</td>\n",
              "      <td>Female</td>\n",
              "      <td>No</td>\n",
              "      <td>Sun</td>\n",
              "      <td>Dinner</td>\n",
              "      <td>2</td>\n",
              "    </tr>\n",
              "    <tr>\n",
              "      <th>1</th>\n",
              "      <td>10.34</td>\n",
              "      <td>1.66</td>\n",
              "      <td>Male</td>\n",
              "      <td>No</td>\n",
              "      <td>Sun</td>\n",
              "      <td>Dinner</td>\n",
              "      <td>3</td>\n",
              "    </tr>\n",
              "    <tr>\n",
              "      <th>2</th>\n",
              "      <td>21.01</td>\n",
              "      <td>3.50</td>\n",
              "      <td>Male</td>\n",
              "      <td>No</td>\n",
              "      <td>Sun</td>\n",
              "      <td>Dinner</td>\n",
              "      <td>3</td>\n",
              "    </tr>\n",
              "    <tr>\n",
              "      <th>3</th>\n",
              "      <td>23.68</td>\n",
              "      <td>3.31</td>\n",
              "      <td>Male</td>\n",
              "      <td>No</td>\n",
              "      <td>Sun</td>\n",
              "      <td>Dinner</td>\n",
              "      <td>2</td>\n",
              "    </tr>\n",
              "    <tr>\n",
              "      <th>4</th>\n",
              "      <td>24.59</td>\n",
              "      <td>3.61</td>\n",
              "      <td>Female</td>\n",
              "      <td>No</td>\n",
              "      <td>Sun</td>\n",
              "      <td>Dinner</td>\n",
              "      <td>4</td>\n",
              "    </tr>\n",
              "  </tbody>\n",
              "</table>\n",
              "</div>"
            ],
            "text/plain": [
              "   total_bill   tip     sex smoker  day    time  size\n",
              "0       16.99  1.01  Female     No  Sun  Dinner     2\n",
              "1       10.34  1.66    Male     No  Sun  Dinner     3\n",
              "2       21.01  3.50    Male     No  Sun  Dinner     3\n",
              "3       23.68  3.31    Male     No  Sun  Dinner     2\n",
              "4       24.59  3.61  Female     No  Sun  Dinner     4"
            ]
          },
          "metadata": {},
          "execution_count": 60
        }
      ],
      "metadata": {
        "id": "kieLvcM1PBv7"
      }
    },
    {
      "cell_type": "markdown",
      "source": [
        "Generate descriptive statistics include those that summarize the central tendency, dispersion"
      ],
      "metadata": {
        "id": "o2ISqVQrPh5S"
      }
    },
    {
      "cell_type": "code",
      "execution_count": 61,
      "source": [
        "tips.describe()"
      ],
      "outputs": [
        {
          "output_type": "execute_result",
          "data": {
            "text/html": [
              "<div>\n",
              "<style scoped>\n",
              "    .dataframe tbody tr th:only-of-type {\n",
              "        vertical-align: middle;\n",
              "    }\n",
              "\n",
              "    .dataframe tbody tr th {\n",
              "        vertical-align: top;\n",
              "    }\n",
              "\n",
              "    .dataframe thead th {\n",
              "        text-align: right;\n",
              "    }\n",
              "</style>\n",
              "<table border=\"1\" class=\"dataframe\">\n",
              "  <thead>\n",
              "    <tr style=\"text-align: right;\">\n",
              "      <th></th>\n",
              "      <th>total_bill</th>\n",
              "      <th>tip</th>\n",
              "      <th>size</th>\n",
              "    </tr>\n",
              "  </thead>\n",
              "  <tbody>\n",
              "    <tr>\n",
              "      <th>count</th>\n",
              "      <td>244.000000</td>\n",
              "      <td>244.000000</td>\n",
              "      <td>244.000000</td>\n",
              "    </tr>\n",
              "    <tr>\n",
              "      <th>mean</th>\n",
              "      <td>19.785943</td>\n",
              "      <td>2.998279</td>\n",
              "      <td>2.569672</td>\n",
              "    </tr>\n",
              "    <tr>\n",
              "      <th>std</th>\n",
              "      <td>8.902412</td>\n",
              "      <td>1.383638</td>\n",
              "      <td>0.951100</td>\n",
              "    </tr>\n",
              "    <tr>\n",
              "      <th>min</th>\n",
              "      <td>3.070000</td>\n",
              "      <td>1.000000</td>\n",
              "      <td>1.000000</td>\n",
              "    </tr>\n",
              "    <tr>\n",
              "      <th>25%</th>\n",
              "      <td>13.347500</td>\n",
              "      <td>2.000000</td>\n",
              "      <td>2.000000</td>\n",
              "    </tr>\n",
              "    <tr>\n",
              "      <th>50%</th>\n",
              "      <td>17.795000</td>\n",
              "      <td>2.900000</td>\n",
              "      <td>2.000000</td>\n",
              "    </tr>\n",
              "    <tr>\n",
              "      <th>75%</th>\n",
              "      <td>24.127500</td>\n",
              "      <td>3.562500</td>\n",
              "      <td>3.000000</td>\n",
              "    </tr>\n",
              "    <tr>\n",
              "      <th>max</th>\n",
              "      <td>50.810000</td>\n",
              "      <td>10.000000</td>\n",
              "      <td>6.000000</td>\n",
              "    </tr>\n",
              "  </tbody>\n",
              "</table>\n",
              "</div>"
            ],
            "text/plain": [
              "       total_bill         tip        size\n",
              "count  244.000000  244.000000  244.000000\n",
              "mean    19.785943    2.998279    2.569672\n",
              "std      8.902412    1.383638    0.951100\n",
              "min      3.070000    1.000000    1.000000\n",
              "25%     13.347500    2.000000    2.000000\n",
              "50%     17.795000    2.900000    2.000000\n",
              "75%     24.127500    3.562500    3.000000\n",
              "max     50.810000   10.000000    6.000000"
            ]
          },
          "metadata": {},
          "execution_count": 61
        }
      ],
      "metadata": {
        "id": "FyFvmdbJPVg6"
      }
    },
    {
      "cell_type": "markdown",
      "source": [
        "Call the relevant method to calculate pairwise Pearson's r correlation of columns"
      ],
      "metadata": {
        "id": "3yCRK4VJPzRo"
      }
    },
    {
      "cell_type": "code",
      "execution_count": 72,
      "source": [
        "r1 = tips[\"total_bill\"].corr(tips[\"tip\"])\n",
        "r1"
      ],
      "outputs": [
        {
          "output_type": "execute_result",
          "data": {
            "text/plain": [
              "0.6757341092113645"
            ]
          },
          "metadata": {},
          "execution_count": 72
        }
      ],
      "metadata": {
        "id": "qwvGzDU8PGnM"
      }
    },
    {
      "cell_type": "code",
      "execution_count": 73,
      "source": [
        "r2 = tips[\"total_bill\"].corr(tips[\"size\"])\n",
        "r2"
      ],
      "outputs": [
        {
          "output_type": "execute_result",
          "data": {
            "text/plain": [
              "0.5983151309049017"
            ]
          },
          "metadata": {},
          "execution_count": 73
        }
      ],
      "metadata": {}
    },
    {
      "cell_type": "code",
      "execution_count": 74,
      "source": [
        "r3 = tips[\"tip\"].corr(tips[\"size\"])\n",
        "r3"
      ],
      "outputs": [
        {
          "output_type": "execute_result",
          "data": {
            "text/plain": [
              "0.48929877523035786"
            ]
          },
          "metadata": {},
          "execution_count": 74
        }
      ],
      "metadata": {}
    },
    {
      "cell_type": "code",
      "execution_count": null,
      "source": [],
      "outputs": [],
      "metadata": {}
    }
  ]
}